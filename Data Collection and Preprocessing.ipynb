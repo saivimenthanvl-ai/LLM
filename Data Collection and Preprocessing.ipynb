{
  "cells": [
    {
      "cell_type": "code",
      "execution_count": null,
      "metadata": {
        "colab": {
          "base_uri": "https://localhost:8080/"
        },
        "id": "1I7_OW4cPyFk",
        "outputId": "190f8b22-fe7e-49aa-ff35-5c78989f2e4c"
      },
      "outputs": [
        {
          "name": "stdout",
          "output_type": "stream",
          "text": [
            "Requirement already satisfied: requests in /usr/local/lib/python3.11/dist-packages (2.32.3)\n",
            "Requirement already satisfied: beautifulsoup4 in /usr/local/lib/python3.11/dist-packages (4.13.4)\n",
            "Requirement already satisfied: lxml in /usr/local/lib/python3.11/dist-packages (5.4.0)\n",
            "Requirement already satisfied: charset-normalizer<4,>=2 in /usr/local/lib/python3.11/dist-packages (from requests) (3.4.3)\n",
            "Requirement already satisfied: idna<4,>=2.5 in /usr/local/lib/python3.11/dist-packages (from requests) (3.10)\n",
            "Requirement already satisfied: urllib3<3,>=1.21.1 in /usr/local/lib/python3.11/dist-packages (from requests) (2.5.0)\n",
            "Requirement already satisfied: certifi>=2017.4.17 in /usr/local/lib/python3.11/dist-packages (from requests) (2025.8.3)\n",
            "Requirement already satisfied: soupsieve>1.2 in /usr/local/lib/python3.11/dist-packages (from beautifulsoup4) (2.7)\n",
            "Requirement already satisfied: typing-extensions>=4.0.0 in /usr/local/lib/python3.11/dist-packages (from beautifulsoup4) (4.14.1)\n"
          ]
        }
      ],
      "source": [
        "!pip install requests beautifulsoup4 lxml"
      ]
    },
    {
      "cell_type": "code",
      "execution_count": null,
      "metadata": {
        "colab": {
          "base_uri": "https://localhost:8080/"
        },
        "id": "ZWwugd-LPU8b",
        "outputId": "791552ad-11c3-4aa2-f78e-6bd724997345"
      },
      "outputs": [
        {
          "name": "stdout",
          "output_type": "stream",
          "text": [
            "[1] saved: தமிழ் இணையக் கல்விக்கழகம் TAMIL VIRTUAL ACADEMY | தேமதுரத்  தமிழோசை உலகமெலாம் பரவும் வகை செய்தல் வேண்டும்\n",
            "skip: https://www.academicjournals.org/ | 403 Client Error: Forbidden for url: https://www.academicjournals.org/\n",
            "skip: https://www.tamilmanam.net | 404 Client Error: Not Found for url: https://www.tamilmanam.net/\n",
            "skip: https://ta.wikisource.org/wiki/%E0%AE%89%E0%AE%A4%E0%AE%B5%E0%AE%BF:Introduction | 404 Client Error: Not Found for url: https://ta.wikisource.org/wiki/%E0%AE%89%E0%AE%A4%E0%AE%B5%E0%AE%BF:Introduction\n",
            "[2] saved: முதற் பக்கம் என்பதற்கான மூலத்தைப் பார் - விக்கிமூலம்\n",
            "[3] saved: முதற் பக்கம்: திருத்த வரலாறு - விக்கிமூலம்\n",
            "[4] saved: விக்கிமூலம்\n",
            "[5] saved: \"முதற் பக்கம்\" பக்கத்துக்கான தகவல் - விக்கிமூலம்\n",
            "[6] saved: மேற்கோள் காட்டு - விக்கிமூலம்\n",
            "[7] saved: பயனர் தடுக்கப்பட்டுள்ளார் - விக்கிமூலம்\n",
            "[8] saved: பயனர் தடுக்கப்பட்டுள்ளார் - விக்கிமூலம்\n",
            "[9] saved: முகப்பு - விக்கிமூலம்\n",
            "skip: https://ta.wikisource.org/wiki/%E0%AE%94%E0%AE%B5%E0%AF%88%E0%AE%AF%E0%AE%BE%E0%AE%B0%E0%AF%8D_(14-%E0%AE%86%E0%AE%AE%E0%AF%8D_%E0%AE%A8%E0%AF%82%E0%AE%B1%E0%AF%8D%E0%AE%B1%E0%AE%BE%E0%AE%A3%E0%AF%8D%E0%AE%9F%E0%AF%81) | 404 Client Error: Not Found for url: https://ta.wikisource.org/wiki/%E0%AE%94%E0%AE%B5%E0%AF%88%E0%AE%AF%E0%AE%BE%E0%AE%B0%E0%AF%8D_(14-%E0%AE%86%E0%AE%AE%E0%AF%8D_%E0%AE%A8%E0%AF%82%E0%AE%B1%E0%AF%8D%E0%AE%B1%E0%AE%BE%E0%AE%A3%E0%AF%8D%E0%AE%9F%E0%AF%81)\n",
            "[10] saved: விக்கிமூலம்\n",
            "skip: https://ta.wikisource.org/wiki/%E0%AE%B5%E0%AE%BF%E0%AE%95%E0%AF%8D%E0%AE%95%E0%AE%BF%E0%AE%AE%E0%AF%82%E0%AE%B2%E0%AE%AE%E0%AF%8D:%E0%AE%B5%E0%AE%BF%E0%AE%AA%E0%AE%B0%E0%AE%AE%E0%AF%8D | 404 Client Error: Not Found for url: https://ta.wikisource.org/wiki/%E0%AE%B5%E0%AE%BF%E0%AE%95%E0%AF%8D%E0%AE%95%E0%AE%BF%E0%AE%AE%E0%AF%82%E0%AE%B2%E0%AE%AE%E0%AF%8D:%E0%AE%B5%E0%AE%BF%E0%AE%AA%E0%AE%B0%E0%AE%AE%E0%AF%8D\n",
            "skip: https://ta.wikisource.org/wiki/%E0%AE%B5%E0%AE%BF%E0%AE%95%E0%AF%8D%E0%AE%95%E0%AE%BF%E0%AE%AE%E0%AF%82%E0%AE%B2%E0%AE%AE%E0%AF%8D:%E0%AE%AA%E0%AF%8A%E0%AE%A4%E0%AF%81%E0%AE%B5%E0%AE%BE%E0%AE%A9_%E0%AE%AA%E0%AF%8A%E0%AE%B1%E0%AF%81%E0%AE%AA%E0%AF%8D%E0%AE%AA%E0%AF%81%E0%AE%A4%E0%AF%8D_%E0%AE%A4%E0%AF%81%E0%AE%B1%E0%AE%AA%E0%AF%8D%E0%AE%AA%E0%AF%81%E0%AE%95%E0%AE%B3%E0%AF%8D | 404 Client Error: Not Found for url: https://ta.wikisource.org/wiki/%E0%AE%B5%E0%AE%BF%E0%AE%95%E0%AF%8D%E0%AE%95%E0%AE%BF%E0%AE%AE%E0%AF%82%E0%AE%B2%E0%AE%AE%E0%AF%8D:%E0%AE%AA%E0%AF%8A%E0%AE%A4%E0%AF%81%E0%AE%B5%E0%AE%BE%E0%AE%A9_%E0%AE%AA%E0%AF%8A%E0%AE%B1%E0%AF%81%E0%AE%AA%E0%AF%8D%E0%AE%AA%E0%AF%81%E0%AE%A4%E0%AF%8D_%E0%AE%A4%E0%AF%81%E0%AE%B1%E0%AE%AA%E0%AF%8D%E0%AE%AA%E0%AF%81%E0%AE%95%E0%AE%B3%E0%AF%8D\n",
            "[11] saved: பயனர் தடுக்கப்பட்டுள்ளார் - விக்கிமூலம்\n",
            "[12] saved: பயனர் தடுக்கப்பட்டுள்ளார் - விக்கிமூலம்\n",
            "[13] saved: அண்மைய மாற்றங்கள் - விக்கிமூலம்\n",
            "[14] saved: அண்மைய மாற்றங்கள் - விக்கிமூலம்\n",
            "[15] saved: அண்மைய மாற்றங்கள் - விக்கிமூலம்\n",
            "[16] saved: அண்மைய மாற்றங்கள் - விக்கிமூலம்\n",
            "[17] saved: அண்மைய மாற்றங்கள் - விக்கிமூலம்\n",
            "[18] saved: அண்மைய மாற்றங்கள் - விக்கிமூலம்\n",
            "[19] saved: அண்மைய மாற்றங்கள் - விக்கிமூலம்\n",
            "[20] saved: அண்மைய மாற்றங்கள் - விக்கிமூலம்\n",
            "[21] saved: அண்மைய மாற்றங்கள் - விக்கிமூலம்\n",
            "[22] saved: அண்மைய மாற்றங்கள் - விக்கிமூலம்\n",
            "[23] saved: அண்மைய மாற்றங்கள் - விக்கிமூலம்\n",
            "[24] saved: அண்மைய மாற்றங்கள் - விக்கிமூலம்\n",
            "[25] saved: அண்மைய மாற்றங்கள் - விக்கிமூலம்\n",
            "[26] saved: அண்மைய மாற்றங்கள் - விக்கிமூலம்\n",
            "[27] saved: அண்மைய மாற்றங்கள் - விக்கிமூலம்\n",
            "[28] saved: அண்மைய மாற்றங்கள் - விக்கிமூலம்\n",
            "skip: https://ta.wikisource.org/w/index.php?title=%E0%AE%9A%E0%AE%BF%E0%AE%B1%E0%AE%AA%E0%AF%8D%E0%AE%AA%E0%AF%81:RecentChanges&from=20250819121825&fromFormatted=12%3A18%2C+19+%E0%AE%86%E0%AE%95%E0%AE%A4%E0%AF%8D%E0%AE%A4%E0%AF%81+2025 | 404 Client Error: Not Found for url: https://ta.wikisource.org/w/index.php?title=%E0%AE%9A%E0%AE%BF%E0%AE%B1%E0%AE%AA%E0%AF%8D%E0%AE%AA%E0%AF%81:RecentChanges&from=20250819121825&fromFormatted=12%3A18%2C+19+%E0%AE%86%E0%AE%95%E0%AE%A4%E0%AF%8D%E0%AE%A4%E0%AF%81+2025\n",
            "[29] saved: பக்கம்:வாழ்வியற் களஞ்சியம் 1.pdf/696: திருத்த வரலாறு - விக்கிமூலம்\n",
            "[30] saved: பக்கம்:வாழ்வியற் களஞ்சியம் 1.pdf/695: திருத்த வரலாறு - விக்கிமூலம்\n",
            "[31] saved: பயனர்:மொஹமது கராம்: திருத்தங்களுக்கு இடையிலான வேறுபாடு - விக்கிமூலம்\n",
            "[32] saved: பயனர்:மொஹமது கராம்: திருத்த வரலாறு - விக்கிமூலம்\n",
            "[33] saved: பயனர்:Mohanraj20: திருத்தங்களுக்கு இடையிலான வேறுபாடு - விக்கிமூலம்\n",
            "[34] saved: பயனர்:Mohanraj20: திருத்த வரலாறு - விக்கிமூலம்\n",
            "[35] saved: பயனர்:Booradleyp1/books: திருத்தங்களுக்கு இடையிலான வேறுபாடு - விக்கிமூலம்\n",
            "[36] saved: பயனர்:Booradleyp1/books: திருத்த வரலாறு - விக்கிமூலம்\n",
            "[37] saved: பக்கம்:வாழ்வியற் களஞ்சியம் 1.pdf/694: திருத்த வரலாறு - விக்கிமூலம்\n",
            "[38] saved: அட்டவணை:சாமியாடிகள்.pdf: திருத்தங்களுக்கு இடையிலான வேறுபாடு - விக்கிமூலம்\n",
            "[39] saved: அட்டவணை:சாமியாடிகள்.pdf: திருத்த வரலாறு - விக்கிமூலம்\n",
            "[40] saved: அட்டவணை:சாமியாடிகள்.pdf: திருத்தங்களுக்கு இடையிலான வேறுபாடு - விக்கிமூலம்\n",
            "[41] saved: அட்டவணை:சாமியாடிகள்.pdf: திருத்தங்களுக்கு இடையிலான வேறுபாடு - விக்கிமூலம்\n",
            "[42] saved: பக்கம்:திருக்குறள் தெளிவுரை, மு. வ.pdf/150: திருத்தங்களுக்கு இடையிலான வேறுபாடு - விக்கிமூலம்\n",
            "[43] saved: பக்கம்:திருக்குறள் தெளிவுரை, மு. வ.pdf/150: திருத்த வரலாறு - விக்கிமூலம்\n",
            "[44] saved: பக்கம்:சாமியாடிகள்.pdf/282: திருத்தங்களுக்கு இடையிலான வேறுபாடு - விக்கிமூலம்\n",
            "[45] saved: பக்கம்:சாமியாடிகள்.pdf/282: திருத்த வரலாறு - விக்கிமூலம்\n",
            "[46] saved: பக்கம்:திருக்குறள் தெளிவுரை, மு. வ.pdf/149: திருத்தங்களுக்கு இடையிலான வேறுபாடு - விக்கிமூலம்\n",
            "[47] saved: பக்கம்:திருக்குறள் தெளிவுரை, மு. வ.pdf/149: திருத்த வரலாறு - விக்கிமூலம்\n",
            "[48] saved: பக்கம்:பெரியாரும் சமதர்மமும்.pdf/15: திருத்தங்களுக்கு இடையிலான வேறுபாடு - விக்கிமூலம்\n",
            "[49] saved: பக்கம்:பெரியாரும் சமதர்மமும்.pdf/15: திருத்த வரலாறு - விக்கிமூலம்\n",
            "[50] saved: பக்கம்:பெரியாரும் சமதர்மமும்.pdf/14: திருத்தங்களுக்கு இடையிலான வேறுபாடு - விக்கிமூலம்\n",
            "[51] saved: பக்கம்:பெரியாரும் சமதர்மமும்.pdf/14: திருத்த வரலாறு - விக்கிமூலம்\n",
            "[52] saved: பக்கம்:வாழ்வியற் களஞ்சியம் 1.pdf/693: திருத்த வரலாறு - விக்கிமூலம்\n",
            "[53] saved: பக்கம்:பெரியாரும் சமதர்மமும்.pdf/15: திருத்தங்களுக்கு இடையிலான வேறுபாடு - விக்கிமூலம்\n",
            "[54] saved: பக்கம்:திருக்குறள் தெளிவுரை, மு. வ.pdf/148: திருத்தங்களுக்கு இடையிலான வேறுபாடு - விக்கிமூலம்\n",
            "[55] saved: பக்கம்:திருக்குறள் தெளிவுரை, மு. வ.pdf/148: திருத்த வரலாறு - விக்கிமூலம்\n",
            "[56] saved: பக்கம்:பெரியாரும் சமதர்மமும்.pdf/14: திருத்தங்களுக்கு இடையிலான வேறுபாடு - விக்கிமூலம்\n",
            "[57] saved: பக்கம்:பெரியாரும் சமதர்மமும்.pdf/15: திருத்தங்களுக்கு இடையிலான வேறுபாடு - விக்கிமூலம்\n",
            "[58] saved: பக்கம்:திருக்குறள் தெளிவுரை, மு. வ.pdf/147: திருத்தங்களுக்கு இடையிலான வேறுபாடு - விக்கிமூலம்\n",
            "[59] saved: பக்கம்:திருக்குறள் தெளிவுரை, மு. வ.pdf/147: திருத்த வரலாறு - விக்கிமூலம்\n",
            "[60] saved: பக்கம்:திருக்குறள் தெளிவுரை, மு. வ.pdf/146: திருத்தங்களுக்கு இடையிலான வேறுபாடு - விக்கிமூலம்\n",
            "[61] saved: பக்கம்:திருக்குறள் தெளிவுரை, மு. வ.pdf/146: திருத்த வரலாறு - விக்கிமூலம்\n",
            "[62] saved: பக்கம்:திருக்குறள் தெளிவுரை, மு. வ.pdf/145: திருத்தங்களுக்கு இடையிலான வேறுபாடு - விக்கிமூலம்\n",
            "[63] saved: பக்கம்:திருக்குறள் தெளிவுரை, மு. வ.pdf/145: திருத்த வரலாறு - விக்கிமூலம்\n",
            "[64] saved: பக்கம்:திருக்குறள் தெளிவுரை, மு. வ.pdf/144: திருத்தங்களுக்கு இடையிலான வேறுபாடு - விக்கிமூலம்\n",
            "[65] saved: பக்கம்:திருக்குறள் தெளிவுரை, மு. வ.pdf/144: திருத்த வரலாறு - விக்கிமூலம்\n",
            "[66] saved: பக்கம்:திருக்குறள் தெளிவுரை, மு. வ.pdf/143: திருத்தங்களுக்கு இடையிலான வேறுபாடு - விக்கிமூலம்\n",
            "[67] saved: பக்கம்:திருக்குறள் தெளிவுரை, மு. வ.pdf/143: திருத்த வரலாறு - விக்கிமூலம்\n",
            "[68] saved: பக்கம்:கனிச்சாறு 7.pdf/13: திருத்தங்களுக்கு இடையிலான வேறுபாடு - விக்கிமூலம்\n",
            "[69] saved: பக்கம்:கனிச்சாறு 7.pdf/13: திருத்த வரலாறு - விக்கிமூலம்\n",
            "[70] saved: பக்கம்:திருக்குறள் தெளிவுரை, மு. வ.pdf/142: திருத்தங்களுக்கு இடையிலான வேறுபாடு - விக்கிமூலம்\n",
            "[71] saved: பக்கம்:திருக்குறள் தெளிவுரை, மு. வ.pdf/142: திருத்த வரலாறு - விக்கிமூலம்\n",
            "[72] saved: பக்கம்:திருக்குறள் தெளிவுரை, மு. வ.pdf/142: திருத்தங்களுக்கு இடையிலான வேறுபாடு - விக்கிமூலம்\n",
            "[73] saved: பக்கம்:திருக்குறள் தெளிவுரை, மு. வ.pdf/141: திருத்தங்களுக்கு இடையிலான வேறுபாடு - விக்கிமூலம்\n",
            "[74] saved: பக்கம்:திருக்குறள் தெளிவுரை, மு. வ.pdf/141: திருத்த வரலாறு - விக்கிமூலம்\n",
            "[75] saved: பக்கம்:திருக்குறள் தெளிவுரை, மு. வ.pdf/140: திருத்தங்களுக்கு இடையிலான வேறுபாடு - விக்கிமூலம்\n",
            "[76] saved: பக்கம்:திருக்குறள் தெளிவுரை, மு. வ.pdf/140: திருத்த வரலாறு - விக்கிமூலம்\n",
            "[77] saved: பக்கம்:கனிச்சாறு 7.pdf/84: திருத்தங்களுக்கு இடையிலான வேறுபாடு - விக்கிமூலம்\n",
            "[78] saved: பக்கம்:கனிச்சாறு 7.pdf/84: திருத்த வரலாறு - விக்கிமூலம்\n",
            "[79] saved: பக்கம்:வாழ்வியற் களஞ்சியம் 1.pdf/692: திருத்த வரலாறு - விக்கிமூலம்\n",
            "[80] saved: பக்கம்:வாழ்வியற் களஞ்சியம் 1.pdf/691: திருத்த வரலாறு - விக்கிமூலம்\n",
            "[81] saved: பக்கம்:கலைமணி பாஸ்கரத் தொண்டைமான் கலைக் களஞ்சியம்.pdf/105: திருத்தங்களுக்கு இடையிலான வேறுபாடு - விக்கிமூலம்\n",
            "[82] saved: பக்கம்:கலைமணி பாஸ்கரத் தொண்டைமான் கலைக் களஞ்சியம்.pdf/105: திருத்த வரலாறு - விக்கிமூலம்\n",
            "[83] saved: பயனர் பேச்சு:2401:4900:93D7:455C:E4D2:D9FF:FE71:F7D1 - விக்கிமூலம்\n",
            "[84] saved: கனிச்சாறு 7/028: திருத்த வரலாறு - விக்கிமூலம்\n",
            "[85] saved: கனிச்சாறு 7/027: திருத்த வரலாறு - விக்கிமூலம்\n",
            "[86] saved: பக்கம்:கனிச்சாறு 7.pdf/82: திருத்தங்களுக்கு இடையிலான வேறுபாடு - விக்கிமூலம்\n",
            "[87] saved: பக்கம்:கனிச்சாறு 7.pdf/82: திருத்த வரலாறு - விக்கிமூலம்\n",
            "[88] saved: பக்கம்:கனிச்சாறு 7.pdf/79: திருத்தங்களுக்கு இடையிலான வேறுபாடு - விக்கிமூலம்\n",
            "[89] saved: பக்கம்:கனிச்சாறு 7.pdf/79: திருத்த வரலாறு - விக்கிமூலம்\n",
            "[90] saved: கனிச்சாறு 7/026: திருத்த வரலாறு - விக்கிமூலம்\n",
            "[91] saved: கனிச்சாறு 7/025: திருத்த வரலாறு - விக்கிமூலம்\n",
            "[92] saved: பக்கம்:கனிச்சாறு 7.pdf/80: திருத்தங்களுக்கு இடையிலான வேறுபாடு - விக்கிமூலம்\n",
            "[93] saved: பக்கம்:கனிச்சாறு 7.pdf/80: திருத்த வரலாறு - விக்கிமூலம்\n",
            "[94] saved: கனிச்சாறு 7/024: திருத்த வரலாறு - விக்கிமூலம்\n",
            "[95] saved: பக்கம்:கனிச்சாறு 7.pdf/79: திருத்தங்களுக்கு இடையிலான வேறுபாடு - விக்கிமூலம்\n",
            "[96] saved: பக்கம்:கனிச்சாறு 7.pdf/78: திருத்தங்களுக்கு இடையிலான வேறுபாடு - விக்கிமூலம்\n",
            "[97] saved: பக்கம்:கனிச்சாறு 7.pdf/78: திருத்த வரலாறு - விக்கிமூலம்\n",
            "[98] saved: பக்கம்:கனிச்சாறு 7.pdf/77: திருத்தங்களுக்கு இடையிலான வேறுபாடு - விக்கிமூலம்\n",
            "[99] saved: பக்கம்:கனிச்சாறு 7.pdf/77: திருத்த வரலாறு - விக்கிமூலம்\n",
            "[100] saved: பக்கம்:கனிச்சாறு 7.pdf/75: திருத்தங்களுக்கு இடையிலான வேறுபாடு - விக்கிமூலம்\n",
            "[101] saved: பக்கம்:கனிச்சாறு 7.pdf/75: திருத்த வரலாறு - விக்கிமூலம்\n",
            "[102] saved: பக்கம்:கனிச்சாறு 7.pdf/74: திருத்தங்களுக்கு இடையிலான வேறுபாடு - விக்கிமூலம்\n",
            "[103] saved: பக்கம்:கனிச்சாறு 7.pdf/74: திருத்த வரலாறு - விக்கிமூலம்\n",
            "[104] saved: பக்கம்:கனிச்சாறு 7.pdf/72: திருத்தங்களுக்கு இடையிலான வேறுபாடு - விக்கிமூலம்\n",
            "[105] saved: பக்கம்:கனிச்சாறு 7.pdf/72: திருத்த வரலாறு - விக்கிமூலம்\n",
            "[106] saved: பக்கம்:கனிச்சாறு 7.pdf/71: திருத்தங்களுக்கு இடையிலான வேறுபாடு - விக்கிமூலம்\n",
            "[107] saved: பக்கம்:கனிச்சாறு 7.pdf/71: திருத்த வரலாறு - விக்கிமூலம்\n",
            "[108] saved: பக்கம்:கனிச்சாறு 7.pdf/71: திருத்தங்களுக்கு இடையிலான வேறுபாடு - விக்கிமூலம்\n",
            "[109] saved: கனிச்சாறு 7/023: திருத்த வரலாறு - விக்கிமூலம்\n",
            "[110] saved: விக்கிமூலம்:ஆலமரத்தடி என்பதற்கான மூலத்தைப் பார் - விக்கிமூலம்\n",
            "[111] saved: விக்கிமூலம்:ஆலமரத்தடி: திருத்த வரலாறு - விக்கிமூலம்\n",
            "[112] saved: விக்கிமூலம்:ஆலமரத்தடி - விக்கிமூலம்\n",
            "[113] saved: \"விக்கிமூலம்:ஆலமரத்தடி\" பக்கத்துக்கான தகவல் - விக்கிமூலம்\n",
            "[114] saved: பயனர் தடுக்கப்பட்டுள்ளார் - விக்கிமூலம்\n",
            "[115] saved: பயனர் தடுக்கப்பட்டுள்ளார் - விக்கிமூலம்\n",
            "[116] saved: விக்கிமூலம்:ஆலமரத்தடி - விக்கிமூலம்\n",
            "[117] saved: விக்கிமூலம்:ஆலமரத்தடி என்பதற்கான மூலத்தைப் பார் - விக்கிமூலம்\n",
            "[118] saved: விக்கிமூலம்:ஆலமரத்தடி என்பதற்கான மூலத்தைப் பார் - விக்கிமூலம்\n",
            "[119] saved: பயனர் பேச்சு:Sannita (WMF) - விக்கிமூலம்\n",
            "[120] saved: விக்கிமூலம்:ஆலமரத்தடி என்பதற்கான மூலத்தைப் பார் - விக்கிமூலம்\n",
            "[121] saved: விக்கிமூலம்:ஆலமரத்தடி என்பதற்கான மூலத்தைப் பார் - விக்கிமூலம்\n",
            "[122] saved: விக்கிமூலம்:ஆலமரத்தடி என்பதற்கான மூலத்தைப் பார் - விக்கிமூலம்\n",
            "[123] saved: விக்கிமூலம்:ஆலமரத்தடி என்பதற்கான மூலத்தைப் பார் - விக்கிமூலம்\n",
            "[124] saved: விக்கிமூலம்:ஆலமரத்தடி என்பதற்கான மூலத்தைப் பார் - விக்கிமூலம்\n",
            "[125] saved: விக்கிமூலம்:ஆலமரத்தடி என்பதற்கான மூலத்தைப் பார் - விக்கிமூலம்\n",
            "[126] saved: விக்கிமூலம்:ஆலமரத்தடி என்பதற்கான மூலத்தைப் பார் - விக்கிமூலம்\n",
            "[127] saved: விக்கிமூலம்:ஆலமரத்தடி என்பதற்கான மூலத்தைப் பார் - விக்கிமூலம்\n",
            "[128] saved: விக்கிமூலம்:ஆலமரத்தடி என்பதற்கான மூலத்தைப் பார் - விக்கிமூலம்\n",
            "[129] saved: விக்கிமூலம்:ஆலமரத்தடி என்பதற்கான மூலத்தைப் பார் - விக்கிமூலம்\n",
            "skip: https://ta.wikisource.org/w/index.php?title=%E0%AE%AA%E0%AE%AF%E0%AE%A9%E0%AE%B0%E0%AF%8D:Victoria&action=edit&redlink=1 | 404 Client Error: Not Found for url: https://ta.wikisource.org/wiki/%E0%AE%AA%E0%AE%AF%E0%AE%A9%E0%AE%B0%E0%AF%8D:Victoria\n",
            "[130] saved: விக்கிமூலம்:ஆலமரத்தடி என்பதற்கான மூலத்தைப் பார் - விக்கிமூலம்\n",
            "[131] saved: விக்கிமூலம்:ஆலமரத்தடி என்பதற்கான மூலத்தைப் பார் - விக்கிமூலம்\n",
            "[132] saved: விக்கிமூலம்:ஆலமரத்தடி என்பதற்கான மூலத்தைப் பார் - விக்கிமூலம்\n",
            "[133] saved: விக்கிமூலம்:ஆலமரத்தடி என்பதற்கான மூலத்தைப் பார் - விக்கிமூலம்\n",
            "[134] saved: பயனர் பேச்சு:Udehb-WMF - விக்கிமூலம்\n",
            "[135] saved: விக்கிமூலம்:ஆலமரத்தடி என்பதற்கான மூலத்தைப் பார் - விக்கிமூலம்\n",
            "[136] saved: விக்கிமூலம்:ஆலமரத்தடி என்பதற்கான மூலத்தைப் பார் - விக்கிமூலம்\n",
            "[137] saved: பயனர்:Sunlitsky - விக்கிமூலம்\n",
            "[138] saved: விக்கிமூலம்:ஆலமரத்தடி என்பதற்கான மூலத்தைப் பார் - விக்கிமூலம்\n",
            "[139] saved: விக்கிமூலம்:ஆலமரத்தடி என்பதற்கான மூலத்தைப் பார் - விக்கிமூலம்\n",
            "[140] saved: விக்கிமூலம்:ஆலமரத்தடி என்பதற்கான மூலத்தைப் பார் - விக்கிமூலம்\n",
            "[141] saved: விக்கிமூலம்:ஆலமரத்தடி - விக்கிமூலம்\n",
            "[142] saved: விக்கிமூலம்:தமிழக அரசின் நாட்டுடைமையாக்கப்பட்ட நூல்கள் பதிவேற்றத் திட்டம்/அந்நூல்களின் விவரப்பட்டியல் என்பதற்கான மூலத்தைப் பார் - விக்கிமூலம்\n",
            "[143] saved: விக்கிமூலம்:தமிழக அரசின் நாட்டுடைமையாக்கப்பட்ட நூல்கள் பதிவேற்றத் திட்டம்/அந்நூல்களின் விவரப்பட்டியல்: திருத்த வரலாறு - விக்கிமூலம்\n",
            "[144] saved: விக்கிமூலம்:தமிழக அரசின் நாட்டுடைமையாக்கப்பட்ட நூல்கள் பதிவேற்றத் திட்டம்/அந்நூல்களின் விவரப்பட்டியல் - விக்கிமூலம்\n",
            "[145] saved: \"விக்கிமூலம்:தமிழக அரசின் நாட்டுடைமையாக்கப்பட்ட நூல்கள் பதிவேற்றத் திட்டம்/அந்நூல்களின் விவரப்பட்டியல்\" பக்கத்துக்கான தகவல் - விக்கிமூலம்\n",
            "[146] saved: பயனர் தடுக்கப்பட்டுள்ளார் - விக்கிமூலம்\n",
            "[147] saved: பயனர் தடுக்கப்பட்டுள்ளார் - விக்கிமூலம்\n",
            "[148] saved: Download as PDF - விக்கிமூலம்\n",
            "[149] saved: விக்கிமூலம்:தமிழக அரசின் நாட்டுடைமையாக்கப்பட்ட நூல்கள் பதிவேற்றத் திட்டம்/அந்நூல்களின் விவரப்பட்டியல் என்பதற்கான மூலத்தைப் பார் - விக்கிமூலம்\n",
            "[150] saved: தமிழ் வளர்ச்சி, அறநிலையங்கள் (ம) செய்தித்துறையால் வழங்கப்பட்ட நாட்டுடைமையாக்கப்பட்ட தமிழறிஞர்களின் நூல்கள்\n",
            "[151] saved: விக்கிமூலம்:தமிழக அரசின் நாட்டுடைமையாக்கப்பட்ட நூல்கள் பதிவேற்றத் திட்டம்/அந்நூல்களின் விவரப்பட்டியல் என்பதற்கான மூலத்தைப் பார் - விக்கிமூலம்\n",
            "[152] saved: விக்கிமூலம்:தமிழக அரசின் நாட்டுடைமையாக்கப்பட்ட நூல்கள் பதிவேற்றத் திட்டம்/அந்நூல்களின் விவரப்பட்டியல் என்பதற்கான மூலத்தைப் பார் - விக்கிமூலம்\n",
            "[153] saved: விக்கிமூலம்:தமிழக அரசின் நாட்டுடைமையாக்கப்பட்ட நூல்கள் பதிவேற்றத் திட்டம்/அந்நூல்களின் விவரப்பட்டியல் என்பதற்கான மூலத்தைப் பார் - விக்கிமூலம்\n",
            "[154] saved: விக்கிமூலம்:தமிழக அரசின் நாட்டுடைமையாக்கப்பட்ட நூல்கள் பதிவேற்றத் திட்டம்/அந்நூல்களின் விவரப்பட்டியல் என்பதற்கான மூலத்தைப் பார் - விக்கிமூலம்\n",
            "[155] saved: விக்கிமூலம்:தமிழக அரசின் நாட்டுடைமையாக்கப்பட்ட நூல்கள் பதிவேற்றத் திட்டம்: திருத்தங்களுக்கு இடையிலான வேறுபாடு - விக்கிமூலம்\n",
            "[156] saved: விக்கிமூலம்:இந்த மாதத்தின் மெய்ப்புப் பார்ப்பு புத்தகம்: திருத்தங்களுக்கு இடையிலான வேறுபாடு - விக்கிமூலம்\n",
            "[157] saved: விக்கிமூலம்:நாட்டுடைமை நூல்களின் எழுத்துணரித்தரவு மேம்பாட்டுத் திட்டம்: திருத்தங்களுக்கு இடையிலான வேறுபாடு - விக்கிமூலம்\n",
            "[158] saved: விக்கிமூலம்:தமிழக அரசின் நாட்டுடைமையாக்கப்பட்ட நூல்கள் சரிபார்க்கும் திட்டம்: திருத்தங்களுக்கு இடையிலான வேறுபாடு - விக்கிமூலம்\n",
            "[159] saved: விக்கிமூலம்:கணியம் திட்டம்: திருத்தங்களுக்கு இடையிலான வேறுபாடு - விக்கிமூலம்\n",
            "[160] saved: விக்கிமூலம்:நாட்டுடைமை நூல்கள் மேம்பாட்டுத்திட்டம்: திருத்தங்களுக்கு இடையிலான வேறுபாடு - விக்கிமூலம்\n",
            "[161] saved: விக்கிமூலம்:நிகண்டியம் திட்டம் - விக்கிமூலம்\n",
            "[162] saved: விக்கிமூலம்:நாங்கூர் பள்ளியில் நடைபெற்ற தொடர் தொகுப்பு: திருத்தங்களுக்கு இடையிலான வேறுபாடு - விக்கிமூலம்\n",
            "[163] saved: விக்கிமூலம்:தமிழக அரசின் நாட்டுடைமையாக்கப்பட்ட நூல்கள் பதிவேற்றத் திட்டம்/அந்நூல்களின் விவரப்பட்டியல் - விக்கிமூலம்\n",
            "[164] saved: விக்கிமூலம்:உதவி என்பதற்கான மூலத்தைப் பார் - விக்கிமூலம்\n",
            "[165] saved: விக்கிமூலம்:உதவி: திருத்த வரலாறு - விக்கிமூலம்\n",
            "skip: https://ta.wikisource.org/wiki/%E0%AE%9A%E0%AE%BF%E0%AE%B1%E0%AE%AA%E0%AF%8D%E0%AE%AA%E0%AF%81:RecentChangesLinked/%E0%AE%B5%E0%AE%BF%E0%AE%95%E0%AF%8D%E0%AE%95%E0%AE%BF%E0%AE%AE%E0%AF%82%E0%AE%B2%E0%AE%AE%E0%AF%8D:%E0%AE%89%E0%AE%A4%E0%AE%B5%E0%AE%BF | 404 Client Error: Not Found for url: https://ta.wikisource.org/wiki/%E0%AE%9A%E0%AE%BF%E0%AE%B1%E0%AE%AA%E0%AF%8D%E0%AE%AA%E0%AF%81:RecentChangesLinked/%E0%AE%B5%E0%AE%BF%E0%AE%95%E0%AF%8D%E0%AE%95%E0%AE%BF%E0%AE%AE%E0%AF%82%E0%AE%B2%E0%AE%AE%E0%AF%8D:%E0%AE%89%E0%AE%A4%E0%AE%B5%E0%AE%BF\n",
            "[166] saved: விக்கிமூலம்:உதவி - விக்கிமூலம்\n",
            "[167] saved: \"விக்கிமூலம்:உதவி\" பக்கத்துக்கான தகவல் - விக்கிமூலம்\n",
            "[168] saved: பயனர் தடுக்கப்பட்டுள்ளார் - விக்கிமூலம்\n",
            "[169] saved: பயனர் தடுக்கப்பட்டுள்ளார் - விக்கிமூலம்\n",
            "skip: https://ta.wikisource.org/w/index.php?title=%E0%AE%B5%E0%AE%BF%E0%AE%95%E0%AF%8D%E0%AE%95%E0%AE%BF%E0%AE%AE%E0%AF%82%E0%AE%B2%E0%AE%AE%E0%AF%8D:%E0%AE%95%E0%AE%B2%E0%AF%88%E0%AE%9A%E0%AF%8D%E0%AE%9A%E0%AF%8A%E0%AE%B2%E0%AF%8D_%E0%AE%92%E0%AE%A4%E0%AF%8D%E0%AE%A4%E0%AE%BE%E0%AE%9A%E0%AF%88&action=edit&redlink=1 | 404 Client Error: Not Found for url: https://ta.wikisource.org/wiki/%E0%AE%B5%E0%AE%BF%E0%AE%95%E0%AF%8D%E0%AE%95%E0%AE%BF%E0%AE%AE%E0%AF%82%E0%AE%B2%E0%AE%AE%E0%AF%8D:%E0%AE%95%E0%AE%B2%E0%AF%88%E0%AE%9A%E0%AF%8D%E0%AE%9A%E0%AF%8A%E0%AE%B2%E0%AF%8D_%E0%AE%92%E0%AE%A4%E0%AF%8D%E0%AE%A4%E0%AE%BE%E0%AE%9A%E0%AF%88\n",
            "[170] saved: விக்கிமூலம்:உதவி என்பதற்கான மூலத்தைப் பார் - விக்கிமூலம்\n",
            "[171] saved: பக்கம்:திரும்பி வந்த மான் குட்டி.pdf/19: திருத்தங்களுக்கு இடையிலான வேறுபாடு - விக்கிமூலம்\n",
            "[172] saved: விக்கிமூலம்:உதவி - விக்கிமூலம்\n",
            "[173] saved: விக்கிமூலம்:ஒத்தாசைப் பக்கம் என்பதற்கான மூலத்தைப் பார் - விக்கிமூலம்\n",
            "[174] saved: விக்கிமூலம்:ஒத்தாசைப் பக்கம்: திருத்த வரலாறு - விக்கிமூலம்\n",
            "[175] saved: விக்கிமூலம்:ஒத்தாசைப் பக்கம் - விக்கிமூலம்\n",
            "[176] saved: \"விக்கிமூலம்:ஒத்தாசைப் பக்கம்\" பக்கத்துக்கான தகவல் - விக்கிமூலம்\n",
            "[177] saved: பயனர் தடுக்கப்பட்டுள்ளார் - விக்கிமூலம்\n",
            "[178] saved: பயனர் தடுக்கப்பட்டுள்ளார் - விக்கிமூலம்\n",
            "[179] saved: விக்கிமூலம்:ஒத்தாசைப் பக்கம் - விக்கிமூலம்\n",
            "[180] saved: விக்கிமூலம்:ஒத்தாசைப் பக்கம் என்பதற்கான மூலத்தைப் பார் - விக்கிமூலம்\n",
            "[181] saved: விக்கிமூலம்:ஒத்தாசைப் பக்கம் என்பதற்கான மூலத்தைப் பார் - விக்கிமூலம்\n",
            "[182] saved: பயனர் பேச்சு:செவ்வந்தி - விக்கிமூலம்\n",
            "[183] saved: விக்கிமூலம்:ஒத்தாசைப் பக்கம் என்பதற்கான மூலத்தைப் பார் - விக்கிமூலம்\n",
            "[184] saved: விக்கிமூலம்:ஒத்தாசைப் பக்கம் என்பதற்கான மூலத்தைப் பார் - விக்கிமூலம்\n",
            "[185] saved: பக்கம்:சங்கத் தமிழ்ப்புலவர் வரிசை-ஔவையார்.pdf/33 என்பதற்கான மூலத்தைப் பார் - விக்கிமூலம்\n",
            "[186] saved: விக்கிமூலம்:ஒத்தாசைப் பக்கம் என்பதற்கான மூலத்தைப் பார் - விக்கிமூலம்\n",
            "[187] saved: விக்கிமூலம்:ஒத்தாசைப் பக்கம் என்பதற்கான மூலத்தைப் பார் - விக்கிமூலம்\n",
            "[188] saved: விக்கிமூலம்:ஒத்தாசைப் பக்கம் என்பதற்கான மூலத்தைப் பார் - விக்கிமூலம்\n",
            "[189] saved: விக்கிமூலம்:ஒத்தாசைப் பக்கம் என்பதற்கான மூலத்தைப் பார் - விக்கிமூலம்\n",
            "[190] saved: விக்கிமூலம்:ஒத்தாசைப் பக்கம் என்பதற்கான மூலத்தைப் பார் - விக்கிமூலம்\n",
            "[191] saved: விக்கிமூலம்:ஒத்தாசைப் பக்கம் என்பதற்கான மூலத்தைப் பார் - விக்கிமூலம்\n",
            "[192] saved: பக்கம்:அசோகனுடைய சாஸனங்கள்.pdf/69 என்பதற்கான மூலத்தைப் பார் - விக்கிமூலம்\n",
            "[193] saved: விக்கிமூலம்:ஒத்தாசைப் பக்கம் என்பதற்கான மூலத்தைப் பார் - விக்கிமூலம்\n",
            "[194] saved: விக்கிமூலம்:ஒத்தாசைப் பக்கம் என்பதற்கான மூலத்தைப் பார் - விக்கிமூலம்\n",
            "[195] saved: விக்கிமூலம்:ஒத்தாசைப் பக்கம் என்பதற்கான மூலத்தைப் பார் - விக்கிமூலம்\n",
            "[196] saved: விக்கிமூலம்:ஒத்தாசைப் பக்கம் என்பதற்கான மூலத்தைப் பார் - விக்கிமூலம்\n",
            "[197] saved: விக்கிமூலம்:ஒத்தாசைப் பக்கம் என்பதற்கான மூலத்தைப் பார் - விக்கிமூலம்\n",
            "[198] saved: விக்கிமூலம்:ஒத்தாசைப் பக்கம் என்பதற்கான மூலத்தைப் பார் - விக்கிமூலம்\n",
            "[199] saved: விக்கிமூலம்:ஒத்தாசைப் பக்கம் என்பதற்கான மூலத்தைப் பார் - விக்கிமூலம்\n",
            "[200] saved: விக்கிமூலம்:ஒத்தாசைப் பக்கம் என்பதற்கான மூலத்தைப் பார் - விக்கிமூலம்\n",
            "[201] saved: விக்கிமூலம்:ஒத்தாசைப் பக்கம் - விக்கிமூலம்\n",
            "skip: https://ta.wikisource.org/w/index.php?title=%E0%AE%B5%E0%AE%BF%E0%AE%95%E0%AF%8D%E0%AE%95%E0%AE%BF%E0%AE%AE%E0%AF%82%E0%AE%B2%E0%AE%AE%E0%AF%8D_%E0%AE%AA%E0%AF%87%E0%AE%9A%E0%AF%8D%E0%AE%9A%E0%AF%81:%E0%AE%AA%E0%AF%81%E0%AE%A4%E0%AF%81%E0%AE%AA%E0%AF%8D_%E0%AE%AA%E0%AE%AF%E0%AE%A9%E0%AE%B0%E0%AF%8D_%E0%AE%AA%E0%AE%95%E0%AF%8D%E0%AE%95%E0%AE%AE%E0%AF%8D&action=edit&redlink=1 | 404 Client Error: Not Found for url: https://ta.wikisource.org/w/index.php?title=%E0%AE%B5%E0%AE%BF%E0%AE%95%E0%AF%8D%E0%AE%95%E0%AE%BF%E0%AE%AE%E0%AF%82%E0%AE%B2%E0%AE%AE%E0%AF%8D_%E0%AE%AA%E0%AF%87%E0%AE%9A%E0%AF%8D%E0%AE%9A%E0%AF%81:%E0%AE%AA%E0%AF%81%E0%AE%A4%E0%AF%81%E0%AE%AA%E0%AF%8D_%E0%AE%AA%E0%AE%AF%E0%AE%A9%E0%AE%B0%E0%AF%8D_%E0%AE%AA%E0%AE%95%E0%AF%8D%E0%AE%95%E0%AE%AE%E0%AF%8D&action=edit&redlink=1\n",
            "[202] saved: விக்கிமூலம்:புதுப் பயனர் பக்கம் என்பதற்கான மூலத்தைப் பார் - விக்கிமூலம்\n",
            "[203] saved: விக்கிமூலம்:புதுப் பயனர் பக்கம்: திருத்த வரலாறு - விக்கிமூலம்\n",
            "skip: https://ta.wikisource.org/wiki/%E0%AE%9A%E0%AE%BF%E0%AE%B1%E0%AE%AA%E0%AF%8D%E0%AE%AA%E0%AF%81:RecentChangesLinked/%E0%AE%B5%E0%AE%BF%E0%AE%95%E0%AF%8D%E0%AE%95%E0%AE%BF%E0%AE%AE%E0%AF%82%E0%AE%B2%E0%AE%AE%E0%AF%8D:%E0%AE%AA%E0%AF%81%E0%AE%A4%E0%AF%81%E0%AE%AA%E0%AF%8D_%E0%AE%AA%E0%AE%AF%E0%AE%A9%E0%AE%B0%E0%AF%8D_%E0%AE%AA%E0%AE%95%E0%AF%8D%E0%AE%95%E0%AE%AE%E0%AF%8D | 404 Client Error: Not Found for url: https://ta.wikisource.org/wiki/%E0%AE%9A%E0%AE%BF%E0%AE%B1%E0%AE%AA%E0%AF%8D%E0%AE%AA%E0%AF%81:RecentChangesLinked/%E0%AE%B5%E0%AE%BF%E0%AE%95%E0%AF%8D%E0%AE%95%E0%AE%BF%E0%AE%AE%E0%AF%82%E0%AE%B2%E0%AE%AE%E0%AF%8D:%E0%AE%AA%E0%AF%81%E0%AE%A4%E0%AF%81%E0%AE%AA%E0%AF%8D_%E0%AE%AA%E0%AE%AF%E0%AE%A9%E0%AE%B0%E0%AF%8D_%E0%AE%AA%E0%AE%95%E0%AF%8D%E0%AE%95%E0%AE%AE%E0%AF%8D\n",
            "[204] saved: விக்கிமூலம்:புதுப் பயனர் பக்கம் - விக்கிமூலம்\n",
            "[205] saved: \"விக்கிமூலம்:புதுப் பயனர் பக்கம்\" பக்கத்துக்கான தகவல் - விக்கிமூலம்\n",
            "[206] saved: பயனர் தடுக்கப்பட்டுள்ளார் - விக்கிமூலம்\n",
            "[207] saved: பயனர் தடுக்கப்பட்டுள்ளார் - விக்கிமூலம்\n",
            "[208] saved: விக்கிமூலம்:புதுப் பயனர் பக்கம் என்பதற்கான மூலத்தைப் பார் - விக்கிமூலம்\n",
            "[209] saved: விக்கிமூலம்:புதுப் பயனர் பக்கம் என்பதற்கான மூலத்தைப் பார் - விக்கிமூலம்\n",
            "[210] saved: விக்கிமூலம்:புதுப் பயனர் பக்கம் என்பதற்கான மூலத்தைப் பார் - விக்கிமூலம்\n",
            "[211] saved: விக்கிமூலம்:புதுப் பயனர் பக்கம் என்பதற்கான மூலத்தைப் பார் - விக்கிமூலம்\n",
            "[212] saved: விக்கிமூலம்:புதுப் பயனர் பக்கம் என்பதற்கான மூலத்தைப் பார் - விக்கிமூலம்\n",
            "[213] saved: விக்கிமூலம்:புதுப் பயனர் பக்கம் - விக்கிமூலம்\n",
            "skip: https://ta.wikisource.org/w/index.php?title=%E0%AE%B5%E0%AE%BF%E0%AE%95%E0%AF%8D%E0%AE%95%E0%AE%BF%E0%AE%AE%E0%AF%82%E0%AE%B2%E0%AE%AE%E0%AF%8D_%E0%AE%AA%E0%AF%87%E0%AE%9A%E0%AF%8D%E0%AE%9A%E0%AF%81:%E0%AE%A4%E0%AE%AE%E0%AE%BF%E0%AE%B4%E0%AF%8D%E0%AE%A4%E0%AF%8D_%E0%AE%A4%E0%AE%9F%E0%AF%8D%E0%AE%9F%E0%AE%9A%E0%AF%8D%E0%AE%9A%E0%AF%81&action=edit&redlink=1 | 404 Client Error: Not Found for url: https://ta.wikisource.org/w/index.php?title=%E0%AE%B5%E0%AE%BF%E0%AE%95%E0%AF%8D%E0%AE%95%E0%AE%BF%E0%AE%AE%E0%AF%82%E0%AE%B2%E0%AE%AE%E0%AF%8D_%E0%AE%AA%E0%AF%87%E0%AE%9A%E0%AF%8D%E0%AE%9A%E0%AF%81:%E0%AE%A4%E0%AE%AE%E0%AE%BF%E0%AE%B4%E0%AF%8D%E0%AE%A4%E0%AF%8D_%E0%AE%A4%E0%AE%9F%E0%AF%8D%E0%AE%9F%E0%AE%9A%E0%AF%8D%E0%AE%9A%E0%AF%81&action=edit&redlink=1\n",
            "[214] saved: விக்கிமூலம்:தமிழ்த் தட்டச்சு என்பதற்கான மூலத்தைப் பார் - விக்கிமூலம்\n",
            "[215] saved: விக்கிமூலம்:தமிழ்த் தட்டச்சு: திருத்த வரலாறு - விக்கிமூலம்\n",
            "skip: https://ta.wikisource.org/wiki/%E0%AE%9A%E0%AE%BF%E0%AE%B1%E0%AE%AA%E0%AF%8D%E0%AE%AA%E0%AF%81:RecentChangesLinked/%E0%AE%B5%E0%AE%BF%E0%AE%95%E0%AF%8D%E0%AE%95%E0%AE%BF%E0%AE%AE%E0%AF%82%E0%AE%B2%E0%AE%AE%E0%AF%8D:%E0%AE%A4%E0%AE%AE%E0%AE%BF%E0%AE%B4%E0%AF%8D%E0%AE%A4%E0%AF%8D_%E0%AE%A4%E0%AE%9F%E0%AF%8D%E0%AE%9F%E0%AE%9A%E0%AF%8D%E0%AE%9A%E0%AF%81 | 404 Client Error: Not Found for url: https://ta.wikisource.org/wiki/%E0%AE%9A%E0%AE%BF%E0%AE%B1%E0%AE%AA%E0%AF%8D%E0%AE%AA%E0%AF%81:RecentChangesLinked/%E0%AE%B5%E0%AE%BF%E0%AE%95%E0%AF%8D%E0%AE%95%E0%AE%BF%E0%AE%AE%E0%AF%82%E0%AE%B2%E0%AE%AE%E0%AF%8D:%E0%AE%A4%E0%AE%AE%E0%AE%BF%E0%AE%B4%E0%AF%8D%E0%AE%A4%E0%AF%8D_%E0%AE%A4%E0%AE%9F%E0%AF%8D%E0%AE%9F%E0%AE%9A%E0%AF%8D%E0%AE%9A%E0%AF%81\n",
            "[216] saved: விக்கிமூலம்:தமிழ்த் தட்டச்சு - விக்கிமூலம்\n",
            "[217] saved: \"விக்கிமூலம்:தமிழ்த் தட்டச்சு\" பக்கத்துக்கான தகவல் - விக்கிமூலம்\n",
            "[218] saved: பயனர் தடுக்கப்பட்டுள்ளார் - விக்கிமூலம்\n",
            "[219] saved: பயனர் தடுக்கப்பட்டுள்ளார் - விக்கிமூலம்\n",
            "[220] saved: விக்கிமூலம்:தமிழ்த் தட்டச்சு என்பதற்கான மூலத்தைப் பார் - விக்கிமூலம்\n",
            "[221] saved: விக்கிமூலம்:தமிழ்த் தட்டச்சு என்பதற்கான மூலத்தைப் பார் - விக்கிமூலம்\n",
            "[222] saved: விக்கிமூலம்:தமிழ்த் தட்டச்சு என்பதற்கான மூலத்தைப் பார் - விக்கிமூலம்\n",
            "[223] saved: விக்கிமூலம்:தமிழ்த் தட்டச்சு - விக்கிமூலம்\n",
            "[224] saved: பகுப்பு:தொகுத்தல் உதவி - விக்கிமூலம்\n",
            "skip: https://ta.wikisource.org/w/index.php?title=%E0%AE%AA%E0%AF%87%E0%AE%9A%E0%AF%8D%E0%AE%9A%E0%AF%81:%E0%AE%AE%E0%AF%81%E0%AE%B2%E0%AF%8D%E0%AE%B2%E0%AF%88%E0%AE%95%E0%AF%8D%E0%AE%95%E0%AE%B2%E0%AE%BF&action=edit&redlink=1 | 404 Client Error: Not Found for url: https://ta.wikisource.org/w/index.php?title=%E0%AE%AA%E0%AF%87%E0%AE%9A%E0%AF%8D%E0%AE%9A%E0%AF%81:%E0%AE%AE%E0%AF%81%E0%AE%B2%E0%AF%8D%E0%AE%B2%E0%AF%88%E0%AE%95%E0%AF%8D%E0%AE%95%E0%AE%B2%E0%AE%BF&action=edit&redlink=1\n",
            "[225] saved: முல்லைக்கலி என்பதற்கான மூலத்தைப் பார் - விக்கிமூலம்\n",
            "[226] saved: முல்லைக்கலி: திருத்த வரலாறு - விக்கிமூலம்\n",
            "skip: https://ta.wikisource.org/wiki/%E0%AE%9A%E0%AE%BF%E0%AE%B1%E0%AE%AA%E0%AF%8D%E0%AE%AA%E0%AF%81:RecentChangesLinked/%E0%AE%AE%E0%AF%81%E0%AE%B2%E0%AF%8D%E0%AE%B2%E0%AF%88%E0%AE%95%E0%AF%8D%E0%AE%95%E0%AE%B2%E0%AE%BF | 404 Client Error: Not Found for url: https://ta.wikisource.org/wiki/%E0%AE%9A%E0%AE%BF%E0%AE%B1%E0%AE%AA%E0%AF%8D%E0%AE%AA%E0%AF%81:RecentChangesLinked/%E0%AE%AE%E0%AF%81%E0%AE%B2%E0%AF%8D%E0%AE%B2%E0%AF%88%E0%AE%95%E0%AF%8D%E0%AE%95%E0%AE%B2%E0%AE%BF\n",
            "[227] saved: முல்லைக்கலி - விக்கிமூலம்\n",
            "[228] saved: \"முல்லைக்கலி\" பக்கத்துக்கான தகவல் - விக்கிமூலம்\n",
            "[229] saved: மேற்கோள் காட்டு - விக்கிமூலம்\n",
            "[230] saved: பயனர் தடுக்கப்பட்டுள்ளார் - விக்கிமூலம்\n",
            "[231] saved: பயனர் தடுக்கப்பட்டுள்ளார் - விக்கிமூலம்\n",
            "[232] saved: முல்லைக்கலி என்பதற்கான மூலத்தைப் பார் - விக்கிமூலம்\n",
            "[233] saved: முல்லைக்கலி என்பதற்கான மூலத்தைப் பார் - விக்கிமூலம்\n",
            "[234] saved: முல்லைக்கலி - விக்கிமூலம்\n",
            "skip: https://ta.wikisource.org/w/index.php?title=%E0%AE%85%E0%AE%9F%E0%AF%8D%E0%AE%9F%E0%AE%B5%E0%AE%A3%E0%AF%88_%E0%AE%AA%E0%AF%87%E0%AE%9A%E0%AF%8D%E0%AE%9A%E0%AF%81:%E0%AE%AE%E0%AF%81%E0%AE%B2%E0%AF%8D%E0%AE%B2%E0%AF%88%E0%AE%AA%E0%AF%8D%E0%AE%AA%E0%AE%BE%E0%AE%9F%E0%AF%8D%E0%AE%9F%E0%AF%81_2014.pdf&action=edit&redlink=1 | 404 Client Error: Not Found for url: https://ta.wikisource.org/w/index.php?title=%E0%AE%85%E0%AE%9F%E0%AF%8D%E0%AE%9F%E0%AE%B5%E0%AE%A3%E0%AF%88_%E0%AE%AA%E0%AF%87%E0%AE%9A%E0%AF%8D%E0%AE%9A%E0%AF%81:%E0%AE%AE%E0%AF%81%E0%AE%B2%E0%AF%8D%E0%AE%B2%E0%AF%88%E0%AE%AA%E0%AF%8D%E0%AE%AA%E0%AE%BE%E0%AE%9F%E0%AF%8D%E0%AE%9F%E0%AF%81_2014.pdf&action=edit&redlink=1\n",
            "skip: https://ta.wikisource.org/w/index.php?title=%E0%AE%85%E0%AE%9F%E0%AF%8D%E0%AE%9F%E0%AE%B5%E0%AE%A3%E0%AF%88:%E0%AE%AE%E0%AF%81%E0%AE%B2%E0%AF%8D%E0%AE%B2%E0%AF%88%E0%AE%AA%E0%AF%8D%E0%AE%AA%E0%AE%BE%E0%AE%9F%E0%AF%8D%E0%AE%9F%E0%AF%81_2014.pdf/styles.css&action=edit&redlink=1 | 404 Client Error: Not Found for url: https://ta.wikisource.org/wiki/%E0%AE%85%E0%AE%9F%E0%AF%8D%E0%AE%9F%E0%AE%B5%E0%AE%A3%E0%AF%88:%E0%AE%AE%E0%AF%81%E0%AE%B2%E0%AF%8D%E0%AE%B2%E0%AF%88%E0%AE%AA%E0%AF%8D%E0%AE%AA%E0%AE%BE%E0%AE%9F%E0%AF%8D%E0%AE%9F%E0%AF%81_2014.pdf/styles.css\n",
            "[235] saved: அட்டவணை:முல்லைப்பாட்டு 2014.pdf என்பதற்கான மூலத்தைப் பார் - விக்கிமூலம்\n",
            "[236] saved: அட்டவணை:முல்லைப்பாட்டு 2014.pdf: திருத்த வரலாறு - விக்கிமூலம்\n",
            "skip: https://ta.wikisource.org/wiki/%E0%AE%9A%E0%AE%BF%E0%AE%B1%E0%AE%AA%E0%AF%8D%E0%AE%AA%E0%AF%81:RecentChangesLinked/%E0%AE%85%E0%AE%9F%E0%AF%8D%E0%AE%9F%E0%AE%B5%E0%AE%A3%E0%AF%88:%E0%AE%AE%E0%AF%81%E0%AE%B2%E0%AF%8D%E0%AE%B2%E0%AF%88%E0%AE%AA%E0%AF%8D%E0%AE%AA%E0%AE%BE%E0%AE%9F%E0%AF%8D%E0%AE%9F%E0%AF%81_2014.pdf | 404 Client Error: Not Found for url: https://ta.wikisource.org/wiki/%E0%AE%9A%E0%AE%BF%E0%AE%B1%E0%AE%AA%E0%AF%8D%E0%AE%AA%E0%AF%81:RecentChangesLinked/%E0%AE%85%E0%AE%9F%E0%AF%8D%E0%AE%9F%E0%AE%B5%E0%AE%A3%E0%AF%88:%E0%AE%AE%E0%AF%81%E0%AE%B2%E0%AF%8D%E0%AE%B2%E0%AF%88%E0%AE%AA%E0%AF%8D%E0%AE%AA%E0%AE%BE%E0%AE%9F%E0%AF%8D%E0%AE%9F%E0%AF%81_2014.pdf\n",
            "[237] saved: அட்டவணை:முல்லைப்பாட்டு 2014.pdf - விக்கிமூலம்\n",
            "[238] saved: \"அட்டவணை:முல்லைப்பாட்டு 2014.pdf\" பக்கத்துக்கான தகவல் - விக்கிமூலம்\n",
            "[239] saved: மேற்கோள் காட்டு - விக்கிமூலம்\n",
            "[240] saved: பயனர் தடுக்கப்பட்டுள்ளார் - விக்கிமூலம்\n",
            "[241] saved: பயனர் தடுக்கப்பட்டுள்ளார் - விக்கிமூலம்\n",
            "skip: https://ta.wikisource.org/w/index.php?title=%E0%AE%AA%E0%AE%95%E0%AF%8D%E0%AE%95%E0%AE%AE%E0%AF%8D:%E0%AE%AE%E0%AF%81%E0%AE%B2%E0%AF%8D%E0%AE%B2%E0%AF%88%E0%AE%AA%E0%AF%8D%E0%AE%AA%E0%AE%BE%E0%AE%9F%E0%AF%8D%E0%AE%9F%E0%AF%81_2014.pdf/1&action=edit&redlink=1 | 404 Client Error: Not Found for url: https://ta.wikisource.org/wiki/%E0%AE%AA%E0%AE%95%E0%AF%8D%E0%AE%95%E0%AE%AE%E0%AF%8D:%E0%AE%AE%E0%AF%81%E0%AE%B2%E0%AF%8D%E0%AE%B2%E0%AF%88%E0%AE%AA%E0%AF%8D%E0%AE%AA%E0%AE%BE%E0%AE%9F%E0%AF%8D%E0%AE%9F%E0%AF%81_2014.pdf/1\n",
            "skip: https://ta.wikisource.org/w/index.php?title=%E0%AE%AA%E0%AE%95%E0%AF%8D%E0%AE%95%E0%AE%AE%E0%AF%8D:%E0%AE%AE%E0%AF%81%E0%AE%B2%E0%AF%8D%E0%AE%B2%E0%AF%88%E0%AE%AA%E0%AF%8D%E0%AE%AA%E0%AE%BE%E0%AE%9F%E0%AF%8D%E0%AE%9F%E0%AF%81_2014.pdf/2&action=edit&redlink=1 | 404 Client Error: Not Found for url: https://ta.wikisource.org/wiki/%E0%AE%AA%E0%AE%95%E0%AF%8D%E0%AE%95%E0%AE%AE%E0%AF%8D:%E0%AE%AE%E0%AF%81%E0%AE%B2%E0%AF%8D%E0%AE%B2%E0%AF%88%E0%AE%AA%E0%AF%8D%E0%AE%AA%E0%AE%BE%E0%AE%9F%E0%AF%8D%E0%AE%9F%E0%AF%81_2014.pdf/2\n",
            "skip: https://ta.wikisource.org/w/index.php?title=%E0%AE%AA%E0%AE%95%E0%AF%8D%E0%AE%95%E0%AE%AE%E0%AF%8D:%E0%AE%AE%E0%AF%81%E0%AE%B2%E0%AF%8D%E0%AE%B2%E0%AF%88%E0%AE%AA%E0%AF%8D%E0%AE%AA%E0%AE%BE%E0%AE%9F%E0%AF%8D%E0%AE%9F%E0%AF%81_2014.pdf/3&action=edit&redlink=1 | 404 Client Error: Not Found for url: https://ta.wikisource.org/wiki/%E0%AE%AA%E0%AE%95%E0%AF%8D%E0%AE%95%E0%AE%AE%E0%AF%8D:%E0%AE%AE%E0%AF%81%E0%AE%B2%E0%AF%8D%E0%AE%B2%E0%AF%88%E0%AE%AA%E0%AF%8D%E0%AE%AA%E0%AE%BE%E0%AE%9F%E0%AF%8D%E0%AE%9F%E0%AF%81_2014.pdf/3\n",
            "skip: https://ta.wikisource.org/w/index.php?title=%E0%AE%AA%E0%AE%95%E0%AF%8D%E0%AE%95%E0%AE%AE%E0%AF%8D:%E0%AE%AE%E0%AF%81%E0%AE%B2%E0%AF%8D%E0%AE%B2%E0%AF%88%E0%AE%AA%E0%AF%8D%E0%AE%AA%E0%AE%BE%E0%AE%9F%E0%AF%8D%E0%AE%9F%E0%AF%81_2014.pdf/4&action=edit&redlink=1 | 404 Client Error: Not Found for url: https://ta.wikisource.org/wiki/%E0%AE%AA%E0%AE%95%E0%AF%8D%E0%AE%95%E0%AE%AE%E0%AF%8D:%E0%AE%AE%E0%AF%81%E0%AE%B2%E0%AF%8D%E0%AE%B2%E0%AF%88%E0%AE%AA%E0%AF%8D%E0%AE%AA%E0%AE%BE%E0%AE%9F%E0%AF%8D%E0%AE%9F%E0%AF%81_2014.pdf/4\n",
            "skip: https://ta.wikisource.org/w/index.php?title=%E0%AE%AA%E0%AE%95%E0%AF%8D%E0%AE%95%E0%AE%AE%E0%AF%8D:%E0%AE%AE%E0%AF%81%E0%AE%B2%E0%AF%8D%E0%AE%B2%E0%AF%88%E0%AE%AA%E0%AF%8D%E0%AE%AA%E0%AE%BE%E0%AE%9F%E0%AF%8D%E0%AE%9F%E0%AF%81_2014.pdf/5&action=edit&redlink=1 | 404 Client Error: Not Found for url: https://ta.wikisource.org/wiki/%E0%AE%AA%E0%AE%95%E0%AF%8D%E0%AE%95%E0%AE%AE%E0%AF%8D:%E0%AE%AE%E0%AF%81%E0%AE%B2%E0%AF%8D%E0%AE%B2%E0%AF%88%E0%AE%AA%E0%AF%8D%E0%AE%AA%E0%AE%BE%E0%AE%9F%E0%AF%8D%E0%AE%9F%E0%AF%81_2014.pdf/5\n",
            "skip: https://ta.wikisource.org/w/index.php?title=%E0%AE%AA%E0%AE%95%E0%AF%8D%E0%AE%95%E0%AE%AE%E0%AF%8D:%E0%AE%AE%E0%AF%81%E0%AE%B2%E0%AF%8D%E0%AE%B2%E0%AF%88%E0%AE%AA%E0%AF%8D%E0%AE%AA%E0%AE%BE%E0%AE%9F%E0%AF%8D%E0%AE%9F%E0%AF%81_2014.pdf/6&action=edit&redlink=1 | 404 Client Error: Not Found for url: https://ta.wikisource.org/wiki/%E0%AE%AA%E0%AE%95%E0%AF%8D%E0%AE%95%E0%AE%AE%E0%AF%8D:%E0%AE%AE%E0%AF%81%E0%AE%B2%E0%AF%8D%E0%AE%B2%E0%AF%88%E0%AE%AA%E0%AF%8D%E0%AE%AA%E0%AE%BE%E0%AE%9F%E0%AF%8D%E0%AE%9F%E0%AF%81_2014.pdf/6\n",
            "skip: https://ta.wikisource.org/w/index.php?title=%E0%AE%AA%E0%AE%95%E0%AF%8D%E0%AE%95%E0%AE%AE%E0%AF%8D:%E0%AE%AE%E0%AF%81%E0%AE%B2%E0%AF%8D%E0%AE%B2%E0%AF%88%E0%AE%AA%E0%AF%8D%E0%AE%AA%E0%AE%BE%E0%AE%9F%E0%AF%8D%E0%AE%9F%E0%AF%81_2014.pdf/7&action=edit&redlink=1 | 404 Client Error: Not Found for url: https://ta.wikisource.org/wiki/%E0%AE%AA%E0%AE%95%E0%AF%8D%E0%AE%95%E0%AE%AE%E0%AF%8D:%E0%AE%AE%E0%AF%81%E0%AE%B2%E0%AF%8D%E0%AE%B2%E0%AF%88%E0%AE%AA%E0%AF%8D%E0%AE%AA%E0%AE%BE%E0%AE%9F%E0%AF%8D%E0%AE%9F%E0%AF%81_2014.pdf/7\n",
            "skip: https://ta.wikisource.org/w/index.php?title=%E0%AE%AA%E0%AE%95%E0%AF%8D%E0%AE%95%E0%AE%AE%E0%AF%8D:%E0%AE%AE%E0%AF%81%E0%AE%B2%E0%AF%8D%E0%AE%B2%E0%AF%88%E0%AE%AA%E0%AF%8D%E0%AE%AA%E0%AE%BE%E0%AE%9F%E0%AF%8D%E0%AE%9F%E0%AF%81_2014.pdf/8&action=edit&redlink=1 | 404 Client Error: Not Found for url: https://ta.wikisource.org/wiki/%E0%AE%AA%E0%AE%95%E0%AF%8D%E0%AE%95%E0%AE%AE%E0%AF%8D:%E0%AE%AE%E0%AF%81%E0%AE%B2%E0%AF%8D%E0%AE%B2%E0%AF%88%E0%AE%AA%E0%AF%8D%E0%AE%AA%E0%AE%BE%E0%AE%9F%E0%AF%8D%E0%AE%9F%E0%AF%81_2014.pdf/8\n",
            "skip: https://ta.wikisource.org/w/index.php?title=%E0%AE%AA%E0%AE%95%E0%AF%8D%E0%AE%95%E0%AE%AE%E0%AF%8D:%E0%AE%AE%E0%AF%81%E0%AE%B2%E0%AF%8D%E0%AE%B2%E0%AF%88%E0%AE%AA%E0%AF%8D%E0%AE%AA%E0%AE%BE%E0%AE%9F%E0%AF%8D%E0%AE%9F%E0%AF%81_2014.pdf/9&action=edit&redlink=1 | 404 Client Error: Not Found for url: https://ta.wikisource.org/wiki/%E0%AE%AA%E0%AE%95%E0%AF%8D%E0%AE%95%E0%AE%AE%E0%AF%8D:%E0%AE%AE%E0%AF%81%E0%AE%B2%E0%AF%8D%E0%AE%B2%E0%AF%88%E0%AE%AA%E0%AF%8D%E0%AE%AA%E0%AE%BE%E0%AE%9F%E0%AF%8D%E0%AE%9F%E0%AF%81_2014.pdf/9\n",
            "skip: https://ta.wikisource.org/w/index.php?title=%E0%AE%AA%E0%AE%95%E0%AF%8D%E0%AE%95%E0%AE%AE%E0%AF%8D:%E0%AE%AE%E0%AF%81%E0%AE%B2%E0%AF%8D%E0%AE%B2%E0%AF%88%E0%AE%AA%E0%AF%8D%E0%AE%AA%E0%AE%BE%E0%AE%9F%E0%AF%8D%E0%AE%9F%E0%AF%81_2014.pdf/10&action=edit&redlink=1 | 404 Client Error: Not Found for url: https://ta.wikisource.org/wiki/%E0%AE%AA%E0%AE%95%E0%AF%8D%E0%AE%95%E0%AE%AE%E0%AF%8D:%E0%AE%AE%E0%AF%81%E0%AE%B2%E0%AF%8D%E0%AE%B2%E0%AF%88%E0%AE%AA%E0%AF%8D%E0%AE%AA%E0%AE%BE%E0%AE%9F%E0%AF%8D%E0%AE%9F%E0%AF%81_2014.pdf/10\n",
            "skip: https://ta.wikisource.org/w/index.php?title=%E0%AE%AA%E0%AE%95%E0%AF%8D%E0%AE%95%E0%AE%AE%E0%AF%8D:%E0%AE%AE%E0%AF%81%E0%AE%B2%E0%AF%8D%E0%AE%B2%E0%AF%88%E0%AE%AA%E0%AF%8D%E0%AE%AA%E0%AE%BE%E0%AE%9F%E0%AF%8D%E0%AE%9F%E0%AF%81_2014.pdf/11&action=edit&redlink=1 | 404 Client Error: Not Found for url: https://ta.wikisource.org/wiki/%E0%AE%AA%E0%AE%95%E0%AF%8D%E0%AE%95%E0%AE%AE%E0%AF%8D:%E0%AE%AE%E0%AF%81%E0%AE%B2%E0%AF%8D%E0%AE%B2%E0%AF%88%E0%AE%AA%E0%AF%8D%E0%AE%AA%E0%AE%BE%E0%AE%9F%E0%AF%8D%E0%AE%9F%E0%AF%81_2014.pdf/11\n",
            "skip: https://ta.wikisource.org/w/index.php?title=%E0%AE%AA%E0%AE%95%E0%AF%8D%E0%AE%95%E0%AE%AE%E0%AF%8D:%E0%AE%AE%E0%AF%81%E0%AE%B2%E0%AF%8D%E0%AE%B2%E0%AF%88%E0%AE%AA%E0%AF%8D%E0%AE%AA%E0%AE%BE%E0%AE%9F%E0%AF%8D%E0%AE%9F%E0%AF%81_2014.pdf/12&action=edit&redlink=1 | 404 Client Error: Not Found for url: https://ta.wikisource.org/wiki/%E0%AE%AA%E0%AE%95%E0%AF%8D%E0%AE%95%E0%AE%AE%E0%AF%8D:%E0%AE%AE%E0%AF%81%E0%AE%B2%E0%AF%8D%E0%AE%B2%E0%AF%88%E0%AE%AA%E0%AF%8D%E0%AE%AA%E0%AE%BE%E0%AE%9F%E0%AF%8D%E0%AE%9F%E0%AF%81_2014.pdf/12\n",
            "skip: https://ta.wikisource.org/w/index.php?title=%E0%AE%AA%E0%AE%95%E0%AF%8D%E0%AE%95%E0%AE%AE%E0%AF%8D:%E0%AE%AE%E0%AF%81%E0%AE%B2%E0%AF%8D%E0%AE%B2%E0%AF%88%E0%AE%AA%E0%AF%8D%E0%AE%AA%E0%AE%BE%E0%AE%9F%E0%AF%8D%E0%AE%9F%E0%AF%81_2014.pdf/13&action=edit&redlink=1 | 404 Client Error: Not Found for url: https://ta.wikisource.org/wiki/%E0%AE%AA%E0%AE%95%E0%AF%8D%E0%AE%95%E0%AE%AE%E0%AF%8D:%E0%AE%AE%E0%AF%81%E0%AE%B2%E0%AF%8D%E0%AE%B2%E0%AF%88%E0%AE%AA%E0%AF%8D%E0%AE%AA%E0%AE%BE%E0%AE%9F%E0%AF%8D%E0%AE%9F%E0%AF%81_2014.pdf/13\n",
            "skip: https://ta.wikisource.org/w/index.php?title=%E0%AE%AA%E0%AE%95%E0%AF%8D%E0%AE%95%E0%AE%AE%E0%AF%8D:%E0%AE%AE%E0%AF%81%E0%AE%B2%E0%AF%8D%E0%AE%B2%E0%AF%88%E0%AE%AA%E0%AF%8D%E0%AE%AA%E0%AE%BE%E0%AE%9F%E0%AF%8D%E0%AE%9F%E0%AF%81_2014.pdf/14&action=edit&redlink=1 | 404 Client Error: Not Found for url: https://ta.wikisource.org/wiki/%E0%AE%AA%E0%AE%95%E0%AF%8D%E0%AE%95%E0%AE%AE%E0%AF%8D:%E0%AE%AE%E0%AF%81%E0%AE%B2%E0%AF%8D%E0%AE%B2%E0%AF%88%E0%AE%AA%E0%AF%8D%E0%AE%AA%E0%AE%BE%E0%AE%9F%E0%AF%8D%E0%AE%9F%E0%AF%81_2014.pdf/14\n",
            "skip: https://ta.wikisource.org/w/index.php?title=%E0%AE%AA%E0%AE%95%E0%AF%8D%E0%AE%95%E0%AE%AE%E0%AF%8D:%E0%AE%AE%E0%AF%81%E0%AE%B2%E0%AF%8D%E0%AE%B2%E0%AF%88%E0%AE%AA%E0%AF%8D%E0%AE%AA%E0%AE%BE%E0%AE%9F%E0%AF%8D%E0%AE%9F%E0%AF%81_2014.pdf/15&action=edit&redlink=1 | 404 Client Error: Not Found for url: https://ta.wikisource.org/wiki/%E0%AE%AA%E0%AE%95%E0%AF%8D%E0%AE%95%E0%AE%AE%E0%AF%8D:%E0%AE%AE%E0%AF%81%E0%AE%B2%E0%AF%8D%E0%AE%B2%E0%AF%88%E0%AE%AA%E0%AF%8D%E0%AE%AA%E0%AE%BE%E0%AE%9F%E0%AF%8D%E0%AE%9F%E0%AF%81_2014.pdf/15\n",
            "skip: https://ta.wikisource.org/w/index.php?title=%E0%AE%AA%E0%AE%95%E0%AF%8D%E0%AE%95%E0%AE%AE%E0%AF%8D:%E0%AE%AE%E0%AF%81%E0%AE%B2%E0%AF%8D%E0%AE%B2%E0%AF%88%E0%AE%AA%E0%AF%8D%E0%AE%AA%E0%AE%BE%E0%AE%9F%E0%AF%8D%E0%AE%9F%E0%AF%81_2014.pdf/16&action=edit&redlink=1 | 404 Client Error: Not Found for url: https://ta.wikisource.org/wiki/%E0%AE%AA%E0%AE%95%E0%AF%8D%E0%AE%95%E0%AE%AE%E0%AF%8D:%E0%AE%AE%E0%AF%81%E0%AE%B2%E0%AF%8D%E0%AE%B2%E0%AF%88%E0%AE%AA%E0%AF%8D%E0%AE%AA%E0%AE%BE%E0%AE%9F%E0%AF%8D%E0%AE%9F%E0%AF%81_2014.pdf/16\n",
            "skip: https://ta.wikisource.org/w/index.php?title=%E0%AE%AA%E0%AE%95%E0%AF%8D%E0%AE%95%E0%AE%AE%E0%AF%8D:%E0%AE%AE%E0%AF%81%E0%AE%B2%E0%AF%8D%E0%AE%B2%E0%AF%88%E0%AE%AA%E0%AF%8D%E0%AE%AA%E0%AE%BE%E0%AE%9F%E0%AF%8D%E0%AE%9F%E0%AF%81_2014.pdf/17&action=edit&redlink=1 | 404 Client Error: Not Found for url: https://ta.wikisource.org/wiki/%E0%AE%AA%E0%AE%95%E0%AF%8D%E0%AE%95%E0%AE%AE%E0%AF%8D:%E0%AE%AE%E0%AF%81%E0%AE%B2%E0%AF%8D%E0%AE%B2%E0%AF%88%E0%AE%AA%E0%AF%8D%E0%AE%AA%E0%AE%BE%E0%AE%9F%E0%AF%8D%E0%AE%9F%E0%AF%81_2014.pdf/17\n",
            "skip: https://ta.wikisource.org/w/index.php?title=%E0%AE%AA%E0%AE%95%E0%AF%8D%E0%AE%95%E0%AE%AE%E0%AF%8D:%E0%AE%AE%E0%AF%81%E0%AE%B2%E0%AF%8D%E0%AE%B2%E0%AF%88%E0%AE%AA%E0%AF%8D%E0%AE%AA%E0%AE%BE%E0%AE%9F%E0%AF%8D%E0%AE%9F%E0%AF%81_2014.pdf/18&action=edit&redlink=1 | 404 Client Error: Not Found for url: https://ta.wikisource.org/wiki/%E0%AE%AA%E0%AE%95%E0%AF%8D%E0%AE%95%E0%AE%AE%E0%AF%8D:%E0%AE%AE%E0%AF%81%E0%AE%B2%E0%AF%8D%E0%AE%B2%E0%AF%88%E0%AE%AA%E0%AF%8D%E0%AE%AA%E0%AE%BE%E0%AE%9F%E0%AF%8D%E0%AE%9F%E0%AF%81_2014.pdf/18\n",
            "[242] saved: அட்டவணை:முல்லைப்பாட்டு 2014.pdf - விக்கிமூலம்\n",
            "[243] saved: பயனர் தடுக்கப்பட்டுள்ளார் - விக்கிமூலம்\n",
            "[244] saved: பயனர் தடுக்கப்பட்டுள்ளார் - விக்கிமூலம்\n",
            "skip: https://ta.wikisource.org/tawikisource/w/index.php?title=%E0%AE%9A%E0%AE%BF%E0%AE%B1%E0%AE%AA%E0%AF%8D%E0%AE%AA%E0%AF%81:CreateAccount&returnto=%E0%AE%AE%E0%AF%81%E0%AE%A4%E0%AE%B1%E0%AF%8D+%E0%AE%AA%E0%AE%95%E0%AF%8D%E0%AE%95%E0%AE%AE%E0%AF%8D&centralauthLoginToken=044568a89a38dcfccde5a8cb3b83fa89&usesul3=1&useformat=desktop | 404 Client Error: Not Found for url: https://ta.wikisource.org/tawikisource/w/index.php?title=%E0%AE%9A%E0%AE%BF%E0%AE%B1%E0%AE%AA%E0%AF%8D%E0%AE%AA%E0%AF%81:CreateAccount&returnto=%E0%AE%AE%E0%AF%81%E0%AE%A4%E0%AE%B1%E0%AF%8D+%E0%AE%AA%E0%AE%95%E0%AF%8D%E0%AE%95%E0%AE%AE%E0%AF%8D&centralauthLoginToken=044568a89a38dcfccde5a8cb3b83fa89&usesul3=1&useformat=desktop\n",
            "skip: https://ta.wikisource.org/tawikisource/w/index.php?title=%E0%AE%9A%E0%AE%BF%E0%AE%B1%E0%AE%AA%E0%AF%8D%E0%AE%AA%E0%AF%81:UserLogin&returnto=%E0%AE%AE%E0%AF%81%E0%AE%A4%E0%AE%B1%E0%AF%8D+%E0%AE%AA%E0%AE%95%E0%AF%8D%E0%AE%95%E0%AE%AE%E0%AF%8D&centralauthLoginToken=044568a89a38dcfccde5a8cb3b83fa89&usesul3=1&useformat=desktop | 404 Client Error: Not Found for url: https://ta.wikisource.org/tawikisource/w/index.php?title=%E0%AE%9A%E0%AE%BF%E0%AE%B1%E0%AE%AA%E0%AF%8D%E0%AE%AA%E0%AF%81:UserLogin&returnto=%E0%AE%AE%E0%AF%81%E0%AE%A4%E0%AE%B1%E0%AF%8D+%E0%AE%AA%E0%AE%95%E0%AF%8D%E0%AE%95%E0%AE%AE%E0%AF%8D&centralauthLoginToken=044568a89a38dcfccde5a8cb3b83fa89&usesul3=1&useformat=desktop\n",
            "skip: https://ta.wikisource.org/tawikisource/w/index.php?title=%E0%AE%9A%E0%AE%BF%E0%AE%B1%E0%AE%AA%E0%AF%8D%E0%AE%AA%E0%AF%81:CreateAccount&returnto=%E0%AE%AE%E0%AF%81%E0%AE%A4%E0%AE%B1%E0%AF%8D+%E0%AE%AA%E0%AE%95%E0%AF%8D%E0%AE%95%E0%AE%AE%E0%AF%8D&centralauthLoginToken=044568a89a38dcfccde5a8cb3b83fa89&usesul3=1&useformat=desktop&uselang=de | 404 Client Error: Not Found for url: https://ta.wikisource.org/tawikisource/w/index.php?title=%E0%AE%9A%E0%AE%BF%E0%AE%B1%E0%AE%AA%E0%AF%8D%E0%AE%AA%E0%AF%81:CreateAccount&returnto=%E0%AE%AE%E0%AF%81%E0%AE%A4%E0%AE%B1%E0%AF%8D+%E0%AE%AA%E0%AE%95%E0%AF%8D%E0%AE%95%E0%AE%AE%E0%AF%8D&centralauthLoginToken=044568a89a38dcfccde5a8cb3b83fa89&usesul3=1&useformat=desktop&uselang=de\n",
            "skip: https://ta.wikisource.org/tawikisource/w/index.php?title=%E0%AE%9A%E0%AE%BF%E0%AE%B1%E0%AE%AA%E0%AF%8D%E0%AE%AA%E0%AF%81:CreateAccount&returnto=%E0%AE%AE%E0%AF%81%E0%AE%A4%E0%AE%B1%E0%AF%8D+%E0%AE%AA%E0%AE%95%E0%AF%8D%E0%AE%95%E0%AE%AE%E0%AF%8D&centralauthLoginToken=044568a89a38dcfccde5a8cb3b83fa89&usesul3=1&useformat=desktop&uselang=en | 404 Client Error: Not Found for url: https://ta.wikisource.org/tawikisource/w/index.php?title=%E0%AE%9A%E0%AE%BF%E0%AE%B1%E0%AE%AA%E0%AF%8D%E0%AE%AA%E0%AF%81:CreateAccount&returnto=%E0%AE%AE%E0%AF%81%E0%AE%A4%E0%AE%B1%E0%AF%8D+%E0%AE%AA%E0%AE%95%E0%AF%8D%E0%AE%95%E0%AE%AE%E0%AF%8D&centralauthLoginToken=044568a89a38dcfccde5a8cb3b83fa89&usesul3=1&useformat=desktop&uselang=en\n",
            "skip: https://ta.wikisource.org/tawikisource/w/index.php?title=%E0%AE%9A%E0%AE%BF%E0%AE%B1%E0%AE%AA%E0%AF%8D%E0%AE%AA%E0%AF%81:CreateAccount&returnto=%E0%AE%AE%E0%AF%81%E0%AE%A4%E0%AE%B1%E0%AF%8D+%E0%AE%AA%E0%AE%95%E0%AF%8D%E0%AE%95%E0%AE%AE%E0%AF%8D&centralauthLoginToken=044568a89a38dcfccde5a8cb3b83fa89&usesul3=1&useformat=desktop&uselang=eo | 404 Client Error: Not Found for url: https://ta.wikisource.org/tawikisource/w/index.php?title=%E0%AE%9A%E0%AE%BF%E0%AE%B1%E0%AE%AA%E0%AF%8D%E0%AE%AA%E0%AF%81:CreateAccount&returnto=%E0%AE%AE%E0%AF%81%E0%AE%A4%E0%AE%B1%E0%AF%8D+%E0%AE%AA%E0%AE%95%E0%AF%8D%E0%AE%95%E0%AE%AE%E0%AF%8D&centralauthLoginToken=044568a89a38dcfccde5a8cb3b83fa89&usesul3=1&useformat=desktop&uselang=eo\n",
            "skip: https://ta.wikisource.org/tawikisource/w/index.php?title=%E0%AE%9A%E0%AE%BF%E0%AE%B1%E0%AE%AA%E0%AF%8D%E0%AE%AA%E0%AF%81:CreateAccount&returnto=%E0%AE%AE%E0%AF%81%E0%AE%A4%E0%AE%B1%E0%AF%8D+%E0%AE%AA%E0%AE%95%E0%AF%8D%E0%AE%95%E0%AE%AE%E0%AF%8D&centralauthLoginToken=044568a89a38dcfccde5a8cb3b83fa89&usesul3=1&useformat=desktop&uselang=fr | 404 Client Error: Not Found for url: https://ta.wikisource.org/tawikisource/w/index.php?title=%E0%AE%9A%E0%AE%BF%E0%AE%B1%E0%AE%AA%E0%AF%8D%E0%AE%AA%E0%AF%81:CreateAccount&returnto=%E0%AE%AE%E0%AF%81%E0%AE%A4%E0%AE%B1%E0%AF%8D+%E0%AE%AA%E0%AE%95%E0%AF%8D%E0%AE%95%E0%AE%AE%E0%AF%8D&centralauthLoginToken=044568a89a38dcfccde5a8cb3b83fa89&usesul3=1&useformat=desktop&uselang=fr\n",
            "skip: https://ta.wikisource.org/tawikisource/w/index.php?title=%E0%AE%9A%E0%AE%BF%E0%AE%B1%E0%AE%AA%E0%AF%8D%E0%AE%AA%E0%AF%81:CreateAccount&returnto=%E0%AE%AE%E0%AF%81%E0%AE%A4%E0%AE%B1%E0%AF%8D+%E0%AE%AA%E0%AE%95%E0%AF%8D%E0%AE%95%E0%AE%AE%E0%AF%8D&centralauthLoginToken=044568a89a38dcfccde5a8cb3b83fa89&usesul3=1&useformat=desktop&uselang=es | 404 Client Error: Not Found for url: https://ta.wikisource.org/tawikisource/w/index.php?title=%E0%AE%9A%E0%AE%BF%E0%AE%B1%E0%AE%AA%E0%AF%8D%E0%AE%AA%E0%AF%81:CreateAccount&returnto=%E0%AE%AE%E0%AF%81%E0%AE%A4%E0%AE%B1%E0%AF%8D+%E0%AE%AA%E0%AE%95%E0%AF%8D%E0%AE%95%E0%AE%AE%E0%AF%8D&centralauthLoginToken=044568a89a38dcfccde5a8cb3b83fa89&usesul3=1&useformat=desktop&uselang=es\n",
            "skip: https://ta.wikisource.org/tawikisource/w/index.php?title=%E0%AE%9A%E0%AE%BF%E0%AE%B1%E0%AE%AA%E0%AF%8D%E0%AE%AA%E0%AF%81:CreateAccount&returnto=%E0%AE%AE%E0%AF%81%E0%AE%A4%E0%AE%B1%E0%AF%8D+%E0%AE%AA%E0%AE%95%E0%AF%8D%E0%AE%95%E0%AE%AE%E0%AF%8D&centralauthLoginToken=044568a89a38dcfccde5a8cb3b83fa89&usesul3=1&useformat=desktop&uselang=it | 404 Client Error: Not Found for url: https://ta.wikisource.org/tawikisource/w/index.php?title=%E0%AE%9A%E0%AE%BF%E0%AE%B1%E0%AE%AA%E0%AF%8D%E0%AE%AA%E0%AF%81:CreateAccount&returnto=%E0%AE%AE%E0%AF%81%E0%AE%A4%E0%AE%B1%E0%AF%8D+%E0%AE%AA%E0%AE%95%E0%AF%8D%E0%AE%95%E0%AE%AE%E0%AF%8D&centralauthLoginToken=044568a89a38dcfccde5a8cb3b83fa89&usesul3=1&useformat=desktop&uselang=it\n",
            "skip: https://ta.wikisource.org/tawikisource/w/index.php?title=%E0%AE%9A%E0%AE%BF%E0%AE%B1%E0%AE%AA%E0%AF%8D%E0%AE%AA%E0%AF%81:CreateAccount&returnto=%E0%AE%AE%E0%AF%81%E0%AE%A4%E0%AE%B1%E0%AF%8D+%E0%AE%AA%E0%AE%95%E0%AF%8D%E0%AE%95%E0%AE%AE%E0%AF%8D&centralauthLoginToken=044568a89a38dcfccde5a8cb3b83fa89&usesul3=1&useformat=desktop&uselang=nl | 404 Client Error: Not Found for url: https://ta.wikisource.org/tawikisource/w/index.php?title=%E0%AE%9A%E0%AE%BF%E0%AE%B1%E0%AE%AA%E0%AF%8D%E0%AE%AA%E0%AF%81:CreateAccount&returnto=%E0%AE%AE%E0%AF%81%E0%AE%A4%E0%AE%B1%E0%AF%8D+%E0%AE%AA%E0%AE%95%E0%AF%8D%E0%AE%95%E0%AE%AE%E0%AF%8D&centralauthLoginToken=044568a89a38dcfccde5a8cb3b83fa89&usesul3=1&useformat=desktop&uselang=nl\n",
            "skip: https://ta.wikisource.org/tawikisource/w/index.php?title=%E0%AE%9A%E0%AE%BF%E0%AE%B1%E0%AE%AA%E0%AF%8D%E0%AE%AA%E0%AF%81:CreateAccount&returnto=%E0%AE%AE%E0%AF%81%E0%AE%A4%E0%AE%B1%E0%AF%8D+%E0%AE%AA%E0%AE%95%E0%AF%8D%E0%AE%95%E0%AE%AE%E0%AF%8D&centralauthLoginToken=0b5f922014a0e3225792a81ceda773df&usesul3=1&useformat=desktop | 404 Client Error: Not Found for url: https://ta.wikisource.org/tawikisource/w/index.php?title=%E0%AE%9A%E0%AE%BF%E0%AE%B1%E0%AE%AA%E0%AF%8D%E0%AE%AA%E0%AF%81:CreateAccount&returnto=%E0%AE%AE%E0%AF%81%E0%AE%A4%E0%AE%B1%E0%AF%8D+%E0%AE%AA%E0%AE%95%E0%AF%8D%E0%AE%95%E0%AE%AE%E0%AF%8D&centralauthLoginToken=0b5f922014a0e3225792a81ceda773df&usesul3=1&useformat=desktop\n",
            "skip: https://ta.wikisource.org/tawikisource/w/index.php?title=%E0%AE%9A%E0%AE%BF%E0%AE%B1%E0%AE%AA%E0%AF%8D%E0%AE%AA%E0%AF%81:UserLogin&returnto=%E0%AE%AE%E0%AF%81%E0%AE%A4%E0%AE%B1%E0%AF%8D+%E0%AE%AA%E0%AE%95%E0%AF%8D%E0%AE%95%E0%AE%AE%E0%AF%8D&centralauthLoginToken=0b5f922014a0e3225792a81ceda773df&usesul3=1&useformat=desktop | 404 Client Error: Not Found for url: https://ta.wikisource.org/tawikisource/w/index.php?title=%E0%AE%9A%E0%AE%BF%E0%AE%B1%E0%AE%AA%E0%AF%8D%E0%AE%AA%E0%AF%81:UserLogin&returnto=%E0%AE%AE%E0%AF%81%E0%AE%A4%E0%AE%B1%E0%AF%8D+%E0%AE%AA%E0%AE%95%E0%AF%8D%E0%AE%95%E0%AE%AE%E0%AF%8D&centralauthLoginToken=0b5f922014a0e3225792a81ceda773df&usesul3=1&useformat=desktop\n",
            "skip: https://ta.wikisource.org/tawikisource/w/index.php?title=%E0%AE%9A%E0%AE%BF%E0%AE%B1%E0%AE%AA%E0%AF%8D%E0%AE%AA%E0%AF%81:UserLogin&returnto=%E0%AE%AE%E0%AF%81%E0%AE%A4%E0%AE%B1%E0%AF%8D+%E0%AE%AA%E0%AE%95%E0%AF%8D%E0%AE%95%E0%AE%AE%E0%AF%8D&centralauthLoginToken=0b5f922014a0e3225792a81ceda773df&usesul3=1&useformat=desktop&uselang=de | 404 Client Error: Not Found for url: https://ta.wikisource.org/tawikisource/w/index.php?title=%E0%AE%9A%E0%AE%BF%E0%AE%B1%E0%AE%AA%E0%AF%8D%E0%AE%AA%E0%AF%81:UserLogin&returnto=%E0%AE%AE%E0%AF%81%E0%AE%A4%E0%AE%B1%E0%AF%8D+%E0%AE%AA%E0%AE%95%E0%AF%8D%E0%AE%95%E0%AE%AE%E0%AF%8D&centralauthLoginToken=0b5f922014a0e3225792a81ceda773df&usesul3=1&useformat=desktop&uselang=de\n",
            "skip: https://ta.wikisource.org/tawikisource/w/index.php?title=%E0%AE%9A%E0%AE%BF%E0%AE%B1%E0%AE%AA%E0%AF%8D%E0%AE%AA%E0%AF%81:UserLogin&returnto=%E0%AE%AE%E0%AF%81%E0%AE%A4%E0%AE%B1%E0%AF%8D+%E0%AE%AA%E0%AE%95%E0%AF%8D%E0%AE%95%E0%AE%AE%E0%AF%8D&centralauthLoginToken=0b5f922014a0e3225792a81ceda773df&usesul3=1&useformat=desktop&uselang=en | 404 Client Error: Not Found for url: https://ta.wikisource.org/tawikisource/w/index.php?title=%E0%AE%9A%E0%AE%BF%E0%AE%B1%E0%AE%AA%E0%AF%8D%E0%AE%AA%E0%AF%81:UserLogin&returnto=%E0%AE%AE%E0%AF%81%E0%AE%A4%E0%AE%B1%E0%AF%8D+%E0%AE%AA%E0%AE%95%E0%AF%8D%E0%AE%95%E0%AE%AE%E0%AF%8D&centralauthLoginToken=0b5f922014a0e3225792a81ceda773df&usesul3=1&useformat=desktop&uselang=en\n",
            "skip: https://ta.wikisource.org/tawikisource/w/index.php?title=%E0%AE%9A%E0%AE%BF%E0%AE%B1%E0%AE%AA%E0%AF%8D%E0%AE%AA%E0%AF%81:UserLogin&returnto=%E0%AE%AE%E0%AF%81%E0%AE%A4%E0%AE%B1%E0%AF%8D+%E0%AE%AA%E0%AE%95%E0%AF%8D%E0%AE%95%E0%AE%AE%E0%AF%8D&centralauthLoginToken=0b5f922014a0e3225792a81ceda773df&usesul3=1&useformat=desktop&uselang=eo | 404 Client Error: Not Found for url: https://ta.wikisource.org/tawikisource/w/index.php?title=%E0%AE%9A%E0%AE%BF%E0%AE%B1%E0%AE%AA%E0%AF%8D%E0%AE%AA%E0%AF%81:UserLogin&returnto=%E0%AE%AE%E0%AF%81%E0%AE%A4%E0%AE%B1%E0%AF%8D+%E0%AE%AA%E0%AE%95%E0%AF%8D%E0%AE%95%E0%AE%AE%E0%AF%8D&centralauthLoginToken=0b5f922014a0e3225792a81ceda773df&usesul3=1&useformat=desktop&uselang=eo\n",
            "skip: https://ta.wikisource.org/tawikisource/w/index.php?title=%E0%AE%9A%E0%AE%BF%E0%AE%B1%E0%AE%AA%E0%AF%8D%E0%AE%AA%E0%AF%81:UserLogin&returnto=%E0%AE%AE%E0%AF%81%E0%AE%A4%E0%AE%B1%E0%AF%8D+%E0%AE%AA%E0%AE%95%E0%AF%8D%E0%AE%95%E0%AE%AE%E0%AF%8D&centralauthLoginToken=0b5f922014a0e3225792a81ceda773df&usesul3=1&useformat=desktop&uselang=fr | 404 Client Error: Not Found for url: https://ta.wikisource.org/tawikisource/w/index.php?title=%E0%AE%9A%E0%AE%BF%E0%AE%B1%E0%AE%AA%E0%AF%8D%E0%AE%AA%E0%AF%81:UserLogin&returnto=%E0%AE%AE%E0%AF%81%E0%AE%A4%E0%AE%B1%E0%AF%8D+%E0%AE%AA%E0%AE%95%E0%AF%8D%E0%AE%95%E0%AE%AE%E0%AF%8D&centralauthLoginToken=0b5f922014a0e3225792a81ceda773df&usesul3=1&useformat=desktop&uselang=fr\n",
            "skip: https://ta.wikisource.org/tawikisource/w/index.php?title=%E0%AE%9A%E0%AE%BF%E0%AE%B1%E0%AE%AA%E0%AF%8D%E0%AE%AA%E0%AF%81:UserLogin&returnto=%E0%AE%AE%E0%AF%81%E0%AE%A4%E0%AE%B1%E0%AF%8D+%E0%AE%AA%E0%AE%95%E0%AF%8D%E0%AE%95%E0%AE%AE%E0%AF%8D&centralauthLoginToken=0b5f922014a0e3225792a81ceda773df&usesul3=1&useformat=desktop&uselang=es | 404 Client Error: Not Found for url: https://ta.wikisource.org/tawikisource/w/index.php?title=%E0%AE%9A%E0%AE%BF%E0%AE%B1%E0%AE%AA%E0%AF%8D%E0%AE%AA%E0%AF%81:UserLogin&returnto=%E0%AE%AE%E0%AF%81%E0%AE%A4%E0%AE%B1%E0%AF%8D+%E0%AE%AA%E0%AE%95%E0%AF%8D%E0%AE%95%E0%AE%AE%E0%AF%8D&centralauthLoginToken=0b5f922014a0e3225792a81ceda773df&usesul3=1&useformat=desktop&uselang=es\n",
            "skip: https://ta.wikisource.org/tawikisource/w/index.php?title=%E0%AE%9A%E0%AE%BF%E0%AE%B1%E0%AE%AA%E0%AF%8D%E0%AE%AA%E0%AF%81:UserLogin&returnto=%E0%AE%AE%E0%AF%81%E0%AE%A4%E0%AE%B1%E0%AF%8D+%E0%AE%AA%E0%AE%95%E0%AF%8D%E0%AE%95%E0%AE%AE%E0%AF%8D&centralauthLoginToken=0b5f922014a0e3225792a81ceda773df&usesul3=1&useformat=desktop&uselang=it | 404 Client Error: Not Found for url: https://ta.wikisource.org/tawikisource/w/index.php?title=%E0%AE%9A%E0%AE%BF%E0%AE%B1%E0%AE%AA%E0%AF%8D%E0%AE%AA%E0%AF%81:UserLogin&returnto=%E0%AE%AE%E0%AF%81%E0%AE%A4%E0%AE%B1%E0%AF%8D+%E0%AE%AA%E0%AE%95%E0%AF%8D%E0%AE%95%E0%AE%AE%E0%AF%8D&centralauthLoginToken=0b5f922014a0e3225792a81ceda773df&usesul3=1&useformat=desktop&uselang=it\n",
            "skip: https://ta.wikisource.org/tawikisource/w/index.php?title=%E0%AE%9A%E0%AE%BF%E0%AE%B1%E0%AE%AA%E0%AF%8D%E0%AE%AA%E0%AF%81:UserLogin&returnto=%E0%AE%AE%E0%AF%81%E0%AE%A4%E0%AE%B1%E0%AF%8D+%E0%AE%AA%E0%AE%95%E0%AF%8D%E0%AE%95%E0%AE%AE%E0%AF%8D&centralauthLoginToken=0b5f922014a0e3225792a81ceda773df&usesul3=1&useformat=desktop&uselang=nl | 404 Client Error: Not Found for url: https://ta.wikisource.org/tawikisource/w/index.php?title=%E0%AE%9A%E0%AE%BF%E0%AE%B1%E0%AE%AA%E0%AF%8D%E0%AE%AA%E0%AF%81:UserLogin&returnto=%E0%AE%AE%E0%AF%81%E0%AE%A4%E0%AE%B1%E0%AF%8D+%E0%AE%AA%E0%AE%95%E0%AF%8D%E0%AE%95%E0%AE%AE%E0%AF%8D&centralauthLoginToken=0b5f922014a0e3225792a81ceda773df&usesul3=1&useformat=desktop&uselang=nl\n",
            "skip: https://ta.wikisource.org/tawikisource/w/index.php?title=%E0%AE%9A%E0%AE%BF%E0%AE%B1%E0%AE%AA%E0%AF%8D%E0%AE%AA%E0%AF%81:CreateAccount&returnto=%E0%AE%AE%E0%AF%81%E0%AE%A4%E0%AE%B1%E0%AF%8D+%E0%AE%AA%E0%AE%95%E0%AF%8D%E0%AE%95%E0%AE%AE%E0%AF%8D&centralauthLoginToken=0b5f922014a0e3225792a81ceda773df&usesul3=1&useformat=desktop&campaign=loginCTA | 404 Client Error: Not Found for url: https://ta.wikisource.org/tawikisource/w/index.php?title=%E0%AE%9A%E0%AE%BF%E0%AE%B1%E0%AE%AA%E0%AF%8D%E0%AE%AA%E0%AF%81:CreateAccount&returnto=%E0%AE%AE%E0%AF%81%E0%AE%A4%E0%AE%B1%E0%AF%8D+%E0%AE%AA%E0%AE%95%E0%AF%8D%E0%AE%95%E0%AE%AE%E0%AF%8D&centralauthLoginToken=0b5f922014a0e3225792a81ceda773df&usesul3=1&useformat=desktop&campaign=loginCTA\n",
            "[245] saved: பயனர் தடுக்கப்பட்டுள்ளார் - விக்கிமூலம்\n",
            "[246] saved: பயனர் தடுக்கப்பட்டுள்ளார் - விக்கிமூலம்\n",
            "[247] saved: பயனர் பேச்சு:35.196.182.60 - விக்கிமூலம்\n",
            "[248] saved: தடைப் பதிகை - விக்கிமூலம்\n",
            "[249] saved: முறைகேடு வடிகட்டிப் பதிகை - விக்கிமூலம்\n",
            "[250] saved: உலகளவில் தடை செய்யப்பட்ட IP முகவரிகளின் பட்டியல். - விக்கிமூலம்\n",
            "skip: https://ta.wikisource.org/w/index.php?title=%E0%AE%AA%E0%AE%AF%E0%AE%A9%E0%AE%B0%E0%AF%8D_%E0%AE%AA%E0%AF%87%E0%AE%9A%E0%AF%8D%E0%AE%9A%E0%AF%81:35.196.0.0/16&action=edit&redlink=1 | 404 Client Error: Not Found for url: https://ta.wikisource.org/wiki/%E0%AE%AA%E0%AE%AF%E0%AE%A9%E0%AE%B0%E0%AF%8D_%E0%AE%AA%E0%AF%87%E0%AE%9A%E0%AF%8D%E0%AE%9A%E0%AF%81:35.196.0.0/16\n",
            "[251] saved: பயனர் பேச்சு:35.196.182.60 - விக்கிமூலம்\n",
            "[252] saved: பயனர்:35.196.182.60 - விக்கிமூலம்\n",
            "[253] saved: அனுமதி தவறுகள் - விக்கிமூலம்\n",
            "skip: https://ta.wikisource.org/wiki/%E0%AE%9A%E0%AE%BF%E0%AE%B1%E0%AE%AA%E0%AF%8D%E0%AE%AA%E0%AF%81:WhatLinksHere/%E0%AE%AA%E0%AE%AF%E0%AE%A9%E0%AE%B0%E0%AF%8D_%E0%AE%AA%E0%AF%87%E0%AE%9A%E0%AF%8D%E0%AE%9A%E0%AF%81:35.196.182.60 | 404 Client Error: Not Found for url: https://ta.wikisource.org/wiki/%E0%AE%9A%E0%AE%BF%E0%AE%B1%E0%AE%AA%E0%AF%8D%E0%AE%AA%E0%AF%81:WhatLinksHere/%E0%AE%AA%E0%AE%AF%E0%AE%A9%E0%AE%B0%E0%AF%8D_%E0%AE%AA%E0%AF%87%E0%AE%9A%E0%AF%8D%E0%AE%9A%E0%AF%81:35.196.182.60\n",
            "[254] saved: \"பயனர் பேச்சு:35.196.182.60\" பக்கத்துக்கான தகவல் - விக்கிமூலம்\n",
            "[255] saved: பயனர் தடுக்கப்பட்டுள்ளார் - விக்கிமூலம்\n",
            "[256] saved: பயனர் தடுக்கப்பட்டுள்ளார் - விக்கிமூலம்\n",
            "[257] saved: பேச்சு:முதற் பக்கம் - விக்கிமூலம்\n",
            "[258] saved: பேச்சு:முதற் பக்கம் என்பதற்கான மூலத்தைப் பார் - விக்கிமூலம்\n",
            "[259] saved: பேச்சு:முதற் பக்கம்: திருத்த வரலாறு - விக்கிமூலம்\n",
            "[260] saved: பேச்சு:முதற் பக்கம் - விக்கிமூலம்\n",
            "[261] saved: \"பேச்சு:முதற் பக்கம்\" பக்கத்துக்கான தகவல் - விக்கிமூலம்\n",
            "[262] saved: பயனர் தடுக்கப்பட்டுள்ளார் - விக்கிமூலம்\n",
            "[263] saved: பயனர் தடுக்கப்பட்டுள்ளார் - விக்கிமூலம்\n",
            "[264] saved: பேச்சு:முதற் பக்கம் என்பதற்கான மூலத்தைப் பார் - விக்கிமூலம்\n",
            "[265] saved: பேச்சு:முதற் பக்கம் என்பதற்கான மூலத்தைப் பார் - விக்கிமூலம்\n",
            "[266] saved: பேச்சு:முதற் பக்கம் என்பதற்கான மூலத்தைப் பார் - விக்கிமூலம்\n",
            "[267] saved: பேச்சு:முதற் பக்கம் என்பதற்கான மூலத்தைப் பார் - விக்கிமூலம்\n",
            "[268] saved: பேச்சு:முதற் பக்கம் என்பதற்கான மூலத்தைப் பார் - விக்கிமூலம்\n",
            "[269] saved: பேச்சு:முதற் பக்கம் என்பதற்கான மூலத்தைப் பார் - விக்கிமூலம்\n",
            "[270] saved: பேச்சு:முதற் பக்கம் என்பதற்கான மூலத்தைப் பார் - விக்கிமூலம்\n",
            "[271] saved: பேச்சு:முதற் பக்கம் என்பதற்கான மூலத்தைப் பார் - விக்கிமூலம்\n",
            "[272] saved: பயனர்:59.92.80.42 - விக்கிமூலம்\n",
            "[273] saved: பேச்சு:முதற் பக்கம் என்பதற்கான மூலத்தைப் பார் - விக்கிமூலம்\n",
            "[274] saved: பேச்சு:முதற் பக்கம் என்பதற்கான மூலத்தைப் பார் - விக்கிமூலம்\n",
            "[275] saved: பேச்சு:முதற் பக்கம் என்பதற்கான மூலத்தைப் பார் - விக்கிமூலம்\n",
            "[276] saved: பேச்சு:முதற் பக்கம் என்பதற்கான மூலத்தைப் பார் - விக்கிமூலம்\n",
            "[277] saved: பேச்சு:முதற் பக்கம் என்பதற்கான மூலத்தைப் பார் - விக்கிமூலம்\n",
            "[278] saved: பேச்சு:முதற் பக்கம் என்பதற்கான மூலத்தைப் பார் - விக்கிமூலம்\n",
            "[279] saved: பேச்சு:முதற் பக்கம் என்பதற்கான மூலத்தைப் பார் - விக்கிமூலம்\n",
            "[280] saved: பேச்சு:முதற் பக்கம் என்பதற்கான மூலத்தைப் பார் - விக்கிமூலம்\n",
            "[281] saved: பேச்சு:முதற் பக்கம் என்பதற்கான மூலத்தைப் பார் - விக்கிமூலம்\n",
            "[282] saved: பேச்சு:முதற் பக்கம் என்பதற்கான மூலத்தைப் பார் - விக்கிமூலம்\n",
            "[283] saved: பேச்சு:முதற் பக்கம் என்பதற்கான மூலத்தைப் பார் - விக்கிமூலம்\n",
            "skip: https://ta.wikisource.org/wiki/%E0%AE%9A%E0%AE%BF%E0%AE%B1%E0%AE%AA%E0%AF%8D%E0%AE%AA%E0%AF%81:Contributions/%E0%AE%AE%E0%AF%81%E0%AE%A4%E0%AE%B1%E0%AF%8D_%E0%AE%AA%E0%AE%95%E0%AF%8D%E0%AE%95%E0%AE%AE%E0%AF%8D | 404 Client Error: Not Found for url: https://ta.wikisource.org/wiki/%E0%AE%9A%E0%AE%BF%E0%AE%B1%E0%AE%AA%E0%AF%8D%E0%AE%AA%E0%AF%81:Contributions/%E0%AE%AE%E0%AF%81%E0%AE%A4%E0%AE%B1%E0%AF%8D_%E0%AE%AA%E0%AE%95%E0%AF%8D%E0%AE%95%E0%AE%AE%E0%AF%8D\n",
            "[284] saved: பேச்சு:முதற் பக்கம் என்பதற்கான மூலத்தைப் பார் - விக்கிமூலம்\n",
            "[285] saved: பேச்சு:முதற் பக்கம் என்பதற்கான மூலத்தைப் பார் - விக்கிமூலம்\n",
            "[286] saved: பேச்சு:முதற் பக்கம் என்பதற்கான மூலத்தைப் பார் - விக்கிமூலம்\n",
            "[287] saved: பேச்சு:முதற் பக்கம் என்பதற்கான மூலத்தைப் பார் - விக்கிமூலம்\n",
            "[288] saved: பேச்சு:முதற் பக்கம் என்பதற்கான மூலத்தைப் பார் - விக்கிமூலம்\n",
            "[289] saved: பேச்சு:முதற் பக்கம் என்பதற்கான மூலத்தைப் பார் - விக்கிமூலம்\n",
            "[290] saved: பேச்சு:முதற் பக்கம் என்பதற்கான மூலத்தைப் பார் - விக்கிமூலம்\n",
            "[291] saved: பேச்சு:முதற் பக்கம் என்பதற்கான மூலத்தைப் பார் - விக்கிமூலம்\n",
            "[292] saved: பேச்சு:முதற் பக்கம் என்பதற்கான மூலத்தைப் பார் - விக்கிமூலம்\n",
            "[293] saved: பேச்சு:முதற் பக்கம் என்பதற்கான மூலத்தைப் பார் - விக்கிமூலம்\n",
            "[294] saved: பயனர்:செண்பகவடிவு செ - விக்கிமூலம்\n",
            "[295] saved: பேச்சு:முதற் பக்கம் என்பதற்கான மூலத்தைப் பார் - விக்கிமூலம்\n",
            "skip: https://ta.wikisource.org/w/index.php?title=%E0%AE%B5%E0%AE%BE%E0%AE%B0%E0%AF%8D%E0%AE%AA%E0%AF%8D%E0%AE%AA%E0%AF%81%E0%AE%B0%E0%AF%81:%E0%AE%B5%E0%AE%BE%E0%AE%B0%E0%AF%8D%E0%AE%AA%E0%AF%8D%E0%AE%AA%E0%AF%81%E0%AE%B0%E0%AF%81:%E0%AE%AE%E0%AF%81%E0%AE%A4%E0%AE%B1%E0%AF%8D%E0%AE%AA%E0%AE%95%E0%AF%8D%E0%AE%95_%E0%AE%89%E0%AE%B3%E0%AF%8D%E0%AE%B3%E0%AE%9F%E0%AE%95%E0%AF%8D%E0%AE%95%E0%AE%AE%E0%AF%8D&action=edit&redlink=1 | 404 Client Error: Not Found for url: https://ta.wikisource.org/wiki/%E0%AE%B5%E0%AE%BE%E0%AE%B0%E0%AF%8D%E0%AE%AA%E0%AF%8D%E0%AE%AA%E0%AF%81%E0%AE%B0%E0%AF%81:%E0%AE%B5%E0%AE%BE%E0%AE%B0%E0%AF%8D%E0%AE%AA%E0%AF%8D%E0%AE%AA%E0%AF%81%E0%AE%B0%E0%AF%81:%E0%AE%AE%E0%AF%81%E0%AE%A4%E0%AE%B1%E0%AF%8D%E0%AE%AA%E0%AE%95%E0%AF%8D%E0%AE%95_%E0%AE%89%E0%AE%B3%E0%AF%8D%E0%AE%B3%E0%AE%9F%E0%AE%95%E0%AF%8D%E0%AE%95%E0%AE%AE%E0%AF%8D\n",
            "[296] saved: பேச்சு:முதற் பக்கம் என்பதற்கான மூலத்தைப் பார் - விக்கிமூலம்\n",
            "[297] saved: பேச்சு:முதற் பக்கம் என்பதற்கான மூலத்தைப் பார் - விக்கிமூலம்\n",
            "[298] saved: பேச்சு:முதற் பக்கம் என்பதற்கான மூலத்தைப் பார் - விக்கிமூலம்\n",
            "[299] saved: பேச்சு:முதற் பக்கம் - விக்கிமூலம்\n",
            "[300] saved: பயனர் தடுக்கப்பட்டுள்ளார் - விக்கிமூலம்\n",
            "Done. Pages saved: 300 | File: data_raw.jsonl\n"
          ]
        }
      ],
      "source": [
        "import os, time, json, unicodedata\n",
        "from collections import deque\n",
        "from urllib.parse import urljoin, urlparse, urldefrag\n",
        "import requests\n",
        "from bs4 import BeautifulSoup\n",
        "\n",
        "SEED_URLS = [\n",
        "    \"https://ta.wikisource.org/wiki/%E0%AE%AE%E0%AF%81%E0%AE%95%E0%AE%AA%E0%AF%8D%E0%AE%AA%E0%AF%81\",\n",
        "    \"https://www.tamilvu.org/\",\n",
        "    \"https://www.academicjournals.org/\",\n",
        "    \"https://www.tamilmanam.net\"\n",
        "]\n",
        "\n",
        "OUT_FILE = \"data_raw.jsonl\"\n",
        "HEADERS = {\"User-Agent\": \"TamilCorpusCollector/0.2 (academic use; contact: your@email)\"}\n",
        "\n",
        "MAX_DEPTH = 2              # 0 = only seed pages\n",
        "MAX_PAGES_TOTAL = 300      # hard stop\n",
        "REQUEST_TIMEOUT = 15\n",
        "DELAY_SECONDS = 0.5        # politeness delay between requests\n",
        "\n",
        "ALLOWED_HOSTS = {urlparse(u).netloc for u in SEED_URLS}\n",
        "\n",
        "def same_site(url: str) -> bool:\n",
        "    host = urlparse(url).netloc\n",
        "    return any(host.endswith(h) for h in ALLOWED_HOSTS)\n",
        "\n",
        "def normalize(base: str, href: str) -> str:\n",
        "    # join, drop URL fragment (#...), strip trailing spaces\n",
        "    url = urljoin(base, href or \"\").strip()\n",
        "    url, _frag = urldefrag(url)\n",
        "    return url\n",
        "\n",
        "def is_html(resp: requests.Response) -> bool:\n",
        "    ctype = resp.headers.get(\"content-type\", \"\").lower()\n",
        "    return \"text/html\" in ctype\n",
        "\n",
        "def looks_like_doc(url: str) -> bool:\n",
        "    # Allow folders and common HTML-ish endings; exclude auth/cart/etc.\n",
        "    u = url.lower()\n",
        "    if any(s in u for s in [\"login\", \"signup\", \"account\", \"cart\", \"pdfviewer\"]):\n",
        "        return False\n",
        "    return u.endswith((\"/\", \".html\", \".htm\", \".php\")) or (\"?\" in u)  # allow query pages\n",
        "\n",
        "def clean_text(html: str) -> str:\n",
        "    soup = BeautifulSoup(html, \"lxml\")\n",
        "    for bad in soup([\"script\", \"style\", \"noscript\", \"header\", \"footer\", \"nav\", \"form\"]):\n",
        "        bad.decompose()\n",
        "    text = soup.get_text(\"\\n\", strip=True)\n",
        "    return unicodedata.normalize(\"NFC\", text)\n",
        "\n",
        "def save_record(source_url: str, title: str, text: str):\n",
        "    rec = {\n",
        "        \"title\": (title or \"\").strip(),\n",
        "        \"author\": \"\",\n",
        "        \"source\": source_url,\n",
        "        \"text\": text,\n",
        "    }\n",
        "    with open(OUT_FILE, \"a\", encoding=\"utf-8\") as f:\n",
        "        f.write(json.dumps(rec, ensure_ascii=False) + \"\\n\")\n",
        "\n",
        "def crawl():\n",
        "    os.makedirs(\".\", exist_ok=True)\n",
        "    seen = set()\n",
        "    q = deque((u, 0) for u in SEED_URLS)\n",
        "    pages = 0\n",
        "    session = requests.Session()\n",
        "\n",
        "    while q and pages < MAX_PAGES_TOTAL:\n",
        "        url, depth = q.popleft()\n",
        "        if url in seen or depth > MAX_DEPTH or not same_site(url):\n",
        "            continue\n",
        "        seen.add(url)\n",
        "\n",
        "        try:\n",
        "            r = session.get(url, headers=HEADERS, timeout=REQUEST_TIMEOUT)\n",
        "            r.raise_for_status()\n",
        "        except Exception as e:\n",
        "            print(\"skip:\", url, \"|\", e)\n",
        "            continue\n",
        "\n",
        "        if not is_html(r):\n",
        "            continue\n",
        "\n",
        "        soup = BeautifulSoup(r.text, \"lxml\")\n",
        "        title = soup.title.get_text(strip=True) if soup.title else \"\"\n",
        "\n",
        "        if looks_like_doc(url):\n",
        "            text = clean_text(r.text)\n",
        "            if len(text) > 200:          # keep only substantive pages\n",
        "                save_record(url, title, text)\n",
        "                pages += 1\n",
        "                print(f\"[{pages}] saved:\", title or url)\n",
        "\n",
        "        # queue next links (same site only)\n",
        "        if depth < MAX_DEPTH:\n",
        "            for a in soup.find_all(\"a\", href=True):\n",
        "                nxt = normalize(url, a[\"href\"])\n",
        "                if nxt.startswith((\"mailto:\", \"javascript:\")):\n",
        "                    continue\n",
        "                if same_site(nxt) and nxt not in seen:\n",
        "                    q.append((nxt, depth + 1))\n",
        "\n",
        "        time.sleep(DELAY_SECONDS)\n",
        "\n",
        "    print(\"Done. Pages saved:\", pages, \"| File:\", OUT_FILE)\n",
        "\n",
        "if __name__ == \"__main__\":\n",
        "    crawl()\n"
      ]
    },
    {
      "cell_type": "code",
      "execution_count": null,
      "metadata": {
        "colab": {
          "base_uri": "https://localhost:8080/"
        },
        "id": "-o7KLnKcP2nD",
        "outputId": "3719c1c0-8863-40df-aa4c-ae10880398af"
      },
      "outputs": [
        {
          "name": "stdout",
          "output_type": "stream",
          "text": [
            "Collecting scrapy\n",
            "  Downloading scrapy-2.13.3-py3-none-any.whl.metadata (4.4 kB)\n",
            "Collecting readability-lxml\n",
            "  Downloading readability_lxml-0.8.4.1-py3-none-any.whl.metadata (4.0 kB)\n",
            "Requirement already satisfied: cryptography>=37.0.0 in /usr/local/lib/python3.11/dist-packages (from scrapy) (43.0.3)\n",
            "Collecting cssselect>=0.9.1 (from scrapy)\n",
            "  Downloading cssselect-1.3.0-py3-none-any.whl.metadata (2.6 kB)\n",
            "Requirement already satisfied: defusedxml>=0.7.1 in /usr/local/lib/python3.11/dist-packages (from scrapy) (0.7.1)\n",
            "Collecting itemadapter>=0.1.0 (from scrapy)\n",
            "  Downloading itemadapter-0.12.1-py3-none-any.whl.metadata (22 kB)\n",
            "Collecting itemloaders>=1.0.1 (from scrapy)\n",
            "  Downloading itemloaders-1.3.2-py3-none-any.whl.metadata (3.9 kB)\n",
            "Requirement already satisfied: lxml>=4.6.0 in /usr/local/lib/python3.11/dist-packages (from scrapy) (5.4.0)\n",
            "Requirement already satisfied: packaging in /usr/local/lib/python3.11/dist-packages (from scrapy) (25.0)\n",
            "Collecting parsel>=1.5.0 (from scrapy)\n",
            "  Downloading parsel-1.10.0-py2.py3-none-any.whl.metadata (11 kB)\n",
            "Collecting protego>=0.1.15 (from scrapy)\n",
            "  Downloading protego-0.5.0-py3-none-any.whl.metadata (6.4 kB)\n",
            "Collecting pydispatcher>=2.0.5 (from scrapy)\n",
            "  Downloading PyDispatcher-2.0.7-py3-none-any.whl.metadata (2.4 kB)\n",
            "Requirement already satisfied: pyopenssl>=22.0.0 in /usr/local/lib/python3.11/dist-packages (from scrapy) (24.2.1)\n",
            "Collecting queuelib>=1.4.2 (from scrapy)\n",
            "  Downloading queuelib-1.8.0-py3-none-any.whl.metadata (6.1 kB)\n",
            "Collecting service-identity>=18.1.0 (from scrapy)\n",
            "  Downloading service_identity-24.2.0-py3-none-any.whl.metadata (5.1 kB)\n",
            "Collecting tldextract (from scrapy)\n",
            "  Downloading tldextract-5.3.0-py3-none-any.whl.metadata (11 kB)\n",
            "Collecting twisted>=21.7.0 (from scrapy)\n",
            "  Downloading twisted-25.5.0-py3-none-any.whl.metadata (22 kB)\n",
            "Collecting w3lib>=1.17.0 (from scrapy)\n",
            "  Downloading w3lib-2.3.1-py3-none-any.whl.metadata (2.3 kB)\n",
            "Collecting zope-interface>=5.1.0 (from scrapy)\n",
            "  Downloading zope.interface-7.2-cp311-cp311-manylinux_2_5_x86_64.manylinux1_x86_64.manylinux_2_17_x86_64.manylinux2014_x86_64.whl.metadata (44 kB)\n",
            "\u001b[2K     \u001b[90m━━━━━━━━━━━━━━━━━━━━━━━━━━━━━━━━━━━━━━━━\u001b[0m \u001b[32m44.4/44.4 kB\u001b[0m \u001b[31m2.7 MB/s\u001b[0m eta \u001b[36m0:00:00\u001b[0m\n",
            "\u001b[?25hRequirement already satisfied: chardet in /usr/local/lib/python3.11/dist-packages (from readability-lxml) (5.2.0)\n",
            "Requirement already satisfied: cffi>=1.12 in /usr/local/lib/python3.11/dist-packages (from cryptography>=37.0.0->scrapy) (1.17.1)\n",
            "Collecting jmespath>=0.9.5 (from itemloaders>=1.0.1->scrapy)\n",
            "  Downloading jmespath-1.0.1-py3-none-any.whl.metadata (7.6 kB)\n",
            "Requirement already satisfied: attrs>=19.1.0 in /usr/local/lib/python3.11/dist-packages (from service-identity>=18.1.0->scrapy) (25.3.0)\n",
            "Requirement already satisfied: pyasn1 in /usr/local/lib/python3.11/dist-packages (from service-identity>=18.1.0->scrapy) (0.6.1)\n",
            "Requirement already satisfied: pyasn1-modules in /usr/local/lib/python3.11/dist-packages (from service-identity>=18.1.0->scrapy) (0.4.2)\n",
            "Collecting automat>=24.8.0 (from twisted>=21.7.0->scrapy)\n",
            "  Downloading automat-25.4.16-py3-none-any.whl.metadata (8.4 kB)\n",
            "Collecting constantly>=15.1 (from twisted>=21.7.0->scrapy)\n",
            "  Downloading constantly-23.10.4-py3-none-any.whl.metadata (1.8 kB)\n",
            "Collecting hyperlink>=17.1.1 (from twisted>=21.7.0->scrapy)\n",
            "  Downloading hyperlink-21.0.0-py2.py3-none-any.whl.metadata (1.5 kB)\n",
            "Collecting incremental>=24.7.0 (from twisted>=21.7.0->scrapy)\n",
            "  Downloading incremental-24.7.2-py3-none-any.whl.metadata (8.1 kB)\n",
            "Requirement already satisfied: typing-extensions>=4.2.0 in /usr/local/lib/python3.11/dist-packages (from twisted>=21.7.0->scrapy) (4.14.1)\n",
            "Requirement already satisfied: setuptools in /usr/local/lib/python3.11/dist-packages (from zope-interface>=5.1.0->scrapy) (75.2.0)\n",
            "Collecting lxml_html_clean (from lxml[html_clean]->readability-lxml)\n",
            "  Downloading lxml_html_clean-0.4.2-py3-none-any.whl.metadata (2.4 kB)\n",
            "Requirement already satisfied: idna in /usr/local/lib/python3.11/dist-packages (from tldextract->scrapy) (3.10)\n",
            "Requirement already satisfied: requests>=2.1.0 in /usr/local/lib/python3.11/dist-packages (from tldextract->scrapy) (2.32.3)\n",
            "Collecting requests-file>=1.4 (from tldextract->scrapy)\n",
            "  Downloading requests_file-2.1.0-py2.py3-none-any.whl.metadata (1.7 kB)\n",
            "Requirement already satisfied: filelock>=3.0.8 in /usr/local/lib/python3.11/dist-packages (from tldextract->scrapy) (3.18.0)\n",
            "Requirement already satisfied: pycparser in /usr/local/lib/python3.11/dist-packages (from cffi>=1.12->cryptography>=37.0.0->scrapy) (2.22)\n",
            "Requirement already satisfied: charset-normalizer<4,>=2 in /usr/local/lib/python3.11/dist-packages (from requests>=2.1.0->tldextract->scrapy) (3.4.3)\n",
            "Requirement already satisfied: urllib3<3,>=1.21.1 in /usr/local/lib/python3.11/dist-packages (from requests>=2.1.0->tldextract->scrapy) (2.5.0)\n",
            "Requirement already satisfied: certifi>=2017.4.17 in /usr/local/lib/python3.11/dist-packages (from requests>=2.1.0->tldextract->scrapy) (2025.8.3)\n",
            "Downloading scrapy-2.13.3-py3-none-any.whl (321 kB)\n",
            "\u001b[2K   \u001b[90m━━━━━━━━━━━━━━━━━━━━━━━━━━━━━━━━━━━━━━━━\u001b[0m \u001b[32m321.8/321.8 kB\u001b[0m \u001b[31m8.8 MB/s\u001b[0m eta \u001b[36m0:00:00\u001b[0m\n",
            "\u001b[?25hDownloading readability_lxml-0.8.4.1-py3-none-any.whl (19 kB)\n",
            "Downloading cssselect-1.3.0-py3-none-any.whl (18 kB)\n",
            "Downloading itemadapter-0.12.1-py3-none-any.whl (18 kB)\n",
            "Downloading itemloaders-1.3.2-py3-none-any.whl (12 kB)\n",
            "Downloading parsel-1.10.0-py2.py3-none-any.whl (17 kB)\n",
            "Downloading protego-0.5.0-py3-none-any.whl (10 kB)\n",
            "Downloading PyDispatcher-2.0.7-py3-none-any.whl (12 kB)\n",
            "Downloading queuelib-1.8.0-py3-none-any.whl (13 kB)\n",
            "Downloading service_identity-24.2.0-py3-none-any.whl (11 kB)\n",
            "Downloading twisted-25.5.0-py3-none-any.whl (3.2 MB)\n",
            "\u001b[2K   \u001b[90m━━━━━━━━━━━━━━━━━━━━━━━━━━━━━━━━━━━━━━━━\u001b[0m \u001b[32m3.2/3.2 MB\u001b[0m \u001b[31m50.9 MB/s\u001b[0m eta \u001b[36m0:00:00\u001b[0m\n",
            "\u001b[?25hDownloading w3lib-2.3.1-py3-none-any.whl (21 kB)\n",
            "Downloading zope.interface-7.2-cp311-cp311-manylinux_2_5_x86_64.manylinux1_x86_64.manylinux_2_17_x86_64.manylinux2014_x86_64.whl (259 kB)\n",
            "\u001b[2K   \u001b[90m━━━━━━━━━━━━━━━━━━━━━━━━━━━━━━━━━━━━━━━━\u001b[0m \u001b[32m259.8/259.8 kB\u001b[0m \u001b[31m16.3 MB/s\u001b[0m eta \u001b[36m0:00:00\u001b[0m\n",
            "\u001b[?25hDownloading tldextract-5.3.0-py3-none-any.whl (107 kB)\n",
            "\u001b[2K   \u001b[90m━━━━━━━━━━━━━━━━━━━━━━━━━━━━━━━━━━━━━━━━\u001b[0m \u001b[32m107.4/107.4 kB\u001b[0m \u001b[31m7.4 MB/s\u001b[0m eta \u001b[36m0:00:00\u001b[0m\n",
            "\u001b[?25hDownloading automat-25.4.16-py3-none-any.whl (42 kB)\n",
            "\u001b[2K   \u001b[90m━━━━━━━━━━━━━━━━━━━━━━━━━━━━━━━━━━━━━━━━\u001b[0m \u001b[32m42.8/42.8 kB\u001b[0m \u001b[31m2.4 MB/s\u001b[0m eta \u001b[36m0:00:00\u001b[0m\n",
            "\u001b[?25hDownloading constantly-23.10.4-py3-none-any.whl (13 kB)\n",
            "Downloading hyperlink-21.0.0-py2.py3-none-any.whl (74 kB)\n",
            "\u001b[2K   \u001b[90m━━━━━━━━━━━━━━━━━━━━━━━━━━━━━━━━━━━━━━━━\u001b[0m \u001b[32m74.6/74.6 kB\u001b[0m \u001b[31m6.0 MB/s\u001b[0m eta \u001b[36m0:00:00\u001b[0m\n",
            "\u001b[?25hDownloading incremental-24.7.2-py3-none-any.whl (20 kB)\n",
            "Downloading jmespath-1.0.1-py3-none-any.whl (20 kB)\n",
            "Downloading requests_file-2.1.0-py2.py3-none-any.whl (4.2 kB)\n",
            "Downloading lxml_html_clean-0.4.2-py3-none-any.whl (14 kB)\n",
            "Installing collected packages: pydispatcher, zope-interface, w3lib, queuelib, protego, lxml_html_clean, jmespath, itemadapter, incremental, hyperlink, cssselect, constantly, automat, twisted, requests-file, parsel, tldextract, service-identity, readability-lxml, itemloaders, scrapy\n",
            "Successfully installed automat-25.4.16 constantly-23.10.4 cssselect-1.3.0 hyperlink-21.0.0 incremental-24.7.2 itemadapter-0.12.1 itemloaders-1.3.2 jmespath-1.0.1 lxml_html_clean-0.4.2 parsel-1.10.0 protego-0.5.0 pydispatcher-2.0.7 queuelib-1.8.0 readability-lxml-0.8.4.1 requests-file-2.1.0 scrapy-2.13.3 service-identity-24.2.0 tldextract-5.3.0 twisted-25.5.0 w3lib-2.3.1 zope-interface-7.2\n"
          ]
        }
      ],
      "source": [
        "!pip install scrapy readability-lxml"
      ]
    },
    {
      "cell_type": "code",
      "execution_count": null,
      "metadata": {
        "id": "Y_tJ_9sLP8qb"
      },
      "outputs": [],
      "source": [
        "import hashlib, unicodedata\n",
        "from urllib.parse import urlparse\n",
        "import scrapy\n",
        "from readability import Document\n",
        "\n",
        "SEED_URLS = [\n",
        "    \"https://ta.wikisource.org/wiki/%E0%AE%AE%E0%AF%81%E0%AE%95%E0%AE%AA%E0%AF%8D%E0%AE%AA%E0%AF%81\",\n",
        "    \"https://www.tamilvu.org/\",\n",
        "    \"https://www.academicjournals.org/\",\n",
        "    \"https://www.tamilmanam.net\"\n",
        "]\n",
        "ALLOWED = [urlparse(u).netloc for u in SEED_URLS]\n",
        "\n",
        "class TamilSpider(scrapy.Spider):\n",
        "    name = \"tamil\"\n",
        "    allowed_domains = ALLOWED\n",
        "    start_urls = SEED_URLS\n",
        "    custom_settings = {\n",
        "        \"ROBOTSTXT_OBEY\": True,\n",
        "        \"DOWNLOAD_DELAY\": 0.5,\n",
        "        \"CONCURRENT_REQUESTS\": 8,\n",
        "        \"FEEDS\": {\n",
        "            \"data_raw_scrapy/%(name)s-%(time)s.jsonl\": {\"format\": \"jsonlines\", \"encoding\": \"utf8\"},\n",
        "        },\n",
        "        \"USER_AGENT\": \"TamilCorpusCollector/0.1 (academic; contact@example.com)\"\n",
        "    }\n",
        "\n",
        "    def parse(self, response):\n",
        "        ctype = response.headers.get(\"Content-Type\", b\"\").decode().lower()\n",
        "        if \"text/html\" in ctype:\n",
        "            try:\n",
        "                doc = Document(response.text)\n",
        "                title = doc.short_title()\n",
        "                main_html = doc.summary()\n",
        "            except Exception:\n",
        "                title, main_html = (response.css(\"title::text\").get() or \"\").strip(), response.text\n",
        "\n",
        "            text = scrapy.Selector(text=main_html).xpath(\"string()\").get().strip()\n",
        "            text = unicodedata.normalize(\"NFC\", text)\n",
        "\n",
        "            if len(text) > 200:\n",
        "                yield {\n",
        "                    \"title\": title,\n",
        "                    \"author\": \"\",\n",
        "                    \"source\": response.url,\n",
        "                    \"text\": text,\n",
        "                }\n",
        "\n",
        "            # follow same-site links\n",
        "            for href in response.css(\"a::attr(href)\").getall():\n",
        "                url = response.urljoin(href)\n",
        "                host = urlparse(url).netloc\n",
        "                if any(host.endswith(ad) for ad in self.allowed_domains):\n",
        "                    yield scrapy.Request(url, callback=self.parse)"
      ]
    },
    {
      "cell_type": "code",
      "execution_count": null,
      "metadata": {
        "colab": {
          "base_uri": "https://localhost:8080/"
        },
        "id": "z34PYyYDQZky",
        "outputId": "542c2460-5c4a-4cdd-eef6-e3017663ae98"
      },
      "outputs": [
        {
          "name": "stdout",
          "output_type": "stream",
          "text": [
            "Requirement already satisfied: readability-lxml in /usr/local/lib/python3.11/dist-packages (0.8.4.1)\n",
            "Requirement already satisfied: chardet in /usr/local/lib/python3.11/dist-packages (from readability-lxml) (5.2.0)\n",
            "Requirement already satisfied: lxml[html_clean] in /usr/local/lib/python3.11/dist-packages (from readability-lxml) (5.4.0)\n",
            "Requirement already satisfied: cssselect in /usr/local/lib/python3.11/dist-packages (from readability-lxml) (1.3.0)\n",
            "Requirement already satisfied: lxml_html_clean in /usr/local/lib/python3.11/dist-packages (from lxml[html_clean]->readability-lxml) (0.4.2)\n"
          ]
        }
      ],
      "source": [
        "!pip install readability-lxml"
      ]
    },
    {
      "cell_type": "code",
      "execution_count": null,
      "metadata": {
        "colab": {
          "base_uri": "https://localhost:8080/"
        },
        "id": "k9vJdWG_QWky",
        "outputId": "0be2a913-5849-44d4-c65f-a996253f8815"
      },
      "outputs": [
        {
          "name": "stdout",
          "output_type": "stream",
          "text": [
            "Saved: clean/cleaned_tamil_corpus.jsonl clean/cleaned_tamil_corpus.txt\n",
            "Stats: {'files_read': 0, 'sentences_total': 0, 'sentences_unique': 0}\n"
          ]
        }
      ],
      "source": [
        "import os, re, json, glob, unicodedata, hashlib\n",
        "from collections import Counter\n",
        "\n",
        "IN_GLOB = \"data_raw/**/*.jsonl\"\n",
        "OUT_SENT_TXT = \"clean/cleaned_tamil_corpus.txt\"\n",
        "OUT_JSONL = \"clean/cleaned_tamil_corpus.jsonl\"\n",
        "STATS_PATH = \"clean/stats.json\"\n",
        "os.makedirs(\"clean\", exist_ok=True)\n",
        "\n",
        "TAMIL_BLOCK = (0x0B80, 0x0BFF)\n",
        "\n",
        "def keep_tamil_punct(s: str) -> str:\n",
        "    out = []\n",
        "    for ch in s:\n",
        "        cp = ord(ch)\n",
        "        if (TAMIL_BLOCK[0] <= cp <= TAMIL_BLOCK[1]) or ch.isspace() or ch in \".!?;:,()\\\"'–—-[]{}…\":\n",
        "            out.append(ch)\n",
        "    s = \"\".join(out)\n",
        "    s = re.sub(r\"[ \\t]+\", \" \", s)\n",
        "    s = re.sub(r\"\\n\\s*\\n+\", \"\\n\\n\", s)\n",
        "    return s.strip()\n",
        "\n",
        "def rm_headers_footers(s):\n",
        "    patterns = [\n",
        "        r\"Etext.*?$\", r\"https?://\\S+\", r\"www\\.\\S+\",\n",
        "        r\"^Page\\s*\\d+$\", r\"^\\s*\\d+\\s*$\", r\"Vol[-– ]\\s*\\w+\"\n",
        "    ]\n",
        "    for p in patterns:\n",
        "        s = re.sub(p, \"\", s, flags=re.MULTILINE|re.IGNORECASE)\n",
        "    return re.sub(r\"\\n\\s*\\n+\", \"\\n\\n\", s).strip()\n",
        "\n",
        "def sentence_split_ta(text: str):\n",
        "    # basic splitter on Tamil/Latin sentence punctuation\n",
        "    parts = re.split(r\"[\\.!\\?]|[|।]\", text)\n",
        "    return [p.strip() for p in parts if p.strip()]\n",
        "\n",
        "def is_mostly_tamil(s: str, thresh=0.5):\n",
        "    if not s: return False\n",
        "    total = sum(ch.isalpha() for ch in s)\n",
        "    ta = sum(0x0B80 <= ord(ch) <= 0x0BFF for ch in s)\n",
        "    return total == 0 or (ta / max(1,total)) >= thresh\n",
        "\n",
        "def dedup_sentences(sents):\n",
        "    seen = set(); out = []\n",
        "    for s in sents:\n",
        "        key = re.sub(r\"\\s+\", \" \", s.lower()).strip()\n",
        "        if key and key not in seen:\n",
        "            seen.add(key); out.append(s)\n",
        "    return out\n",
        "\n",
        "def process_one(rec):\n",
        "    text = unicodedata.normalize(\"NFC\", rec[\"text\"])\n",
        "    text = rm_headers_footers(text)\n",
        "    text = keep_tamil_punct(text)\n",
        "    sents = sentence_split_ta(text)\n",
        "    sents = [s for s in sents if is_mostly_tamil(s, 0.4)]\n",
        "    sents = dedup_sentences(sents)\n",
        "    return sents\n",
        "\n",
        "def main():\n",
        "    all_sents = []\n",
        "    files = glob.glob(IN_GLOB, recursive=True)\n",
        "    for fp in files:\n",
        "        with open(fp, \"r\", encoding=\"utf-8\", errors=\"ignore\") as f:\n",
        "            for line in f:\n",
        "                rec = json.loads(line)\n",
        "                sents = process_one(rec)\n",
        "                for s in sents:\n",
        "                    all_sents.append({\n",
        "                        \"title\": rec.get(\"title\",\"\"),\n",
        "                        \"author\": rec.get(\"author\",\"\"),\n",
        "                        \"source\": rec.get(\"source\",\"\"),\n",
        "                        \"text\": s\n",
        "                    })\n",
        "\n",
        "    # global dedup by sentence text\n",
        "    by_text = {}\n",
        "    for r in all_sents:\n",
        "        key = re.sub(r\"\\s+\", \" \", r[\"text\"].lower())\n",
        "        by_text.setdefault(key, r)\n",
        "\n",
        "    out_list = list(by_text.values())\n",
        "\n",
        "    with open(OUT_JSONL, \"w\", encoding=\"utf-8\") as f:\n",
        "        for r in out_list:\n",
        "            f.write(json.dumps(r, ensure_ascii=False) + \"\\n\")\n",
        "\n",
        "    with open(OUT_SENT_TXT, \"w\", encoding=\"utf-8\") as f:\n",
        "        for r in out_list:\n",
        "            f.write(r[\"text\"] + \"\\n\")\n",
        "\n",
        "    stats = {\n",
        "        \"files_read\": len(files),\n",
        "        \"sentences_total\": len(all_sents),\n",
        "        \"sentences_unique\": len(out_list),\n",
        "    }\n",
        "    with open(STATS_PATH, \"w\", encoding=\"utf-8\") as f:\n",
        "        json.dump(stats, f, ensure_ascii=False, indent=2)\n",
        "\n",
        "    print(\"Saved:\", OUT_JSONL, OUT_SENT_TXT)\n",
        "    print(\"Stats:\", stats)\n",
        "\n",
        "if __name__ == \"__main__\":\n",
        "    main()"
      ]
    },
    {
      "cell_type": "code",
      "execution_count": null,
      "metadata": {
        "colab": {
          "base_uri": "https://localhost:8080/"
        },
        "id": "1hnFA9Ih3hWu",
        "outputId": "fdb65dea-0d13-45c4-a8d9-51af31baf254"
      },
      "outputs": [
        {
          "name": "stdout",
          "output_type": "stream",
          "text": [
            "\r0% [Working]\r            \rGet:1 http://security.ubuntu.com/ubuntu jammy-security InRelease [129 kB]\n",
            "\r0% [Connecting to archive.ubuntu.com] [1 InRelease 5,484 B/129 kB 4%] [Connecti\r                                                                               \rHit:2 https://cli.github.com/packages stable InRelease\n",
            "\r0% [Waiting for headers] [1 InRelease 129 kB/129 kB 100%] [Connected to cloud.r\r                                                                               \rHit:3 http://archive.ubuntu.com/ubuntu jammy InRelease\n",
            "\r                                                                               \rGet:4 http://archive.ubuntu.com/ubuntu jammy-updates InRelease [128 kB]\n",
            "\r                                                                               \rGet:5 https://developer.download.nvidia.com/compute/cuda/repos/ubuntu2204/x86_64  InRelease [1,581 B]\n",
            "Get:6 https://cloud.r-project.org/bin/linux/ubuntu jammy-cran40/ InRelease [3,632 B]\n",
            "Get:7 https://r2u.stat.illinois.edu/ubuntu jammy InRelease [6,555 B]\n",
            "Get:8 http://archive.ubuntu.com/ubuntu jammy-backports InRelease [127 kB]\n",
            "Hit:9 https://ppa.launchpadcontent.net/deadsnakes/ppa/ubuntu jammy InRelease\n",
            "Hit:10 https://ppa.launchpadcontent.net/graphics-drivers/ppa/ubuntu jammy InRelease\n",
            "Hit:11 https://ppa.launchpadcontent.net/ubuntugis/ppa/ubuntu jammy InRelease\n",
            "Get:12 http://security.ubuntu.com/ubuntu jammy-security/universe amd64 Packages [1,271 kB]\n",
            "Get:13 https://developer.download.nvidia.com/compute/cuda/repos/ubuntu2204/x86_64  Packages [1,937 kB]\n",
            "Get:14 http://security.ubuntu.com/ubuntu jammy-security/main amd64 Packages [3,233 kB]\n",
            "Get:15 http://security.ubuntu.com/ubuntu jammy-security/restricted amd64 Packages [5,174 kB]\n",
            "Get:16 http://archive.ubuntu.com/ubuntu jammy-updates/main amd64 Packages [3,546 kB]\n",
            "Get:17 http://archive.ubuntu.com/ubuntu jammy-updates/restricted amd64 Packages [5,369 kB]\n",
            "Get:18 http://archive.ubuntu.com/ubuntu jammy-updates/universe amd64 Packages [1,575 kB]\n",
            "Get:19 https://r2u.stat.illinois.edu/ubuntu jammy/main amd64 Packages [2,781 kB]\n",
            "Get:20 https://r2u.stat.illinois.edu/ubuntu jammy/main all Packages [9,189 kB]\n",
            "Fetched 34.5 MB in 9s (4,044 kB/s)\n",
            "Reading package lists... Done\n",
            "W: Skipping acquire of configured file 'main/source/Sources' as repository 'https://r2u.stat.illinois.edu/ubuntu jammy InRelease' does not seem to provide it (sources.list entry misspelt?)\n",
            "Reading package lists... Done\n",
            "Building dependency tree... Done\n",
            "Reading state information... Done\n",
            "The following NEW packages will be installed:\n",
            "  poppler-utils\n",
            "0 upgraded, 1 newly installed, 0 to remove and 37 not upgraded.\n",
            "Need to get 186 kB of archives.\n",
            "After this operation, 697 kB of additional disk space will be used.\n",
            "Get:1 http://archive.ubuntu.com/ubuntu jammy-updates/main amd64 poppler-utils amd64 22.02.0-2ubuntu0.9 [186 kB]\n",
            "Fetched 186 kB in 0s (1,188 kB/s)\n",
            "Selecting previously unselected package poppler-utils.\n",
            "(Reading database ... 126380 files and directories currently installed.)\n",
            "Preparing to unpack .../poppler-utils_22.02.0-2ubuntu0.9_amd64.deb ...\n",
            "Unpacking poppler-utils (22.02.0-2ubuntu0.9) ...\n",
            "Setting up poppler-utils (22.02.0-2ubuntu0.9) ...\n",
            "Processing triggers for man-db (2.10.2-1) ...\n"
          ]
        }
      ],
      "source": [
        "!apt-get update && apt-get install -y poppler-utils"
      ]
    },
    {
      "cell_type": "code",
      "execution_count": null,
      "metadata": {
        "colab": {
          "base_uri": "https://localhost:8080/"
        },
        "id": "dPqWmK_x4jFe",
        "outputId": "e79497c2-760f-4b34-c310-8bb006600ec6"
      },
      "outputs": [
        {
          "name": "stdout",
          "output_type": "stream",
          "text": [
            "Collecting stanza\n",
            "  Downloading stanza-1.10.1-py3-none-any.whl.metadata (13 kB)\n",
            "Collecting emoji (from stanza)\n",
            "  Downloading emoji-2.14.1-py3-none-any.whl.metadata (5.7 kB)\n",
            "Requirement already satisfied: numpy in /usr/local/lib/python3.11/dist-packages (from stanza) (2.0.2)\n",
            "Requirement already satisfied: protobuf>=3.15.0 in /usr/local/lib/python3.11/dist-packages (from stanza) (5.29.5)\n",
            "Requirement already satisfied: requests in /usr/local/lib/python3.11/dist-packages (from stanza) (2.32.3)\n",
            "Requirement already satisfied: networkx in /usr/local/lib/python3.11/dist-packages (from stanza) (3.5)\n",
            "Requirement already satisfied: torch>=1.3.0 in /usr/local/lib/python3.11/dist-packages (from stanza) (2.6.0+cu124)\n",
            "Requirement already satisfied: tqdm in /usr/local/lib/python3.11/dist-packages (from stanza) (4.67.1)\n",
            "Requirement already satisfied: filelock in /usr/local/lib/python3.11/dist-packages (from torch>=1.3.0->stanza) (3.18.0)\n",
            "Requirement already satisfied: typing-extensions>=4.10.0 in /usr/local/lib/python3.11/dist-packages (from torch>=1.3.0->stanza) (4.14.1)\n",
            "Requirement already satisfied: jinja2 in /usr/local/lib/python3.11/dist-packages (from torch>=1.3.0->stanza) (3.1.6)\n",
            "Requirement already satisfied: fsspec in /usr/local/lib/python3.11/dist-packages (from torch>=1.3.0->stanza) (2025.3.0)\n",
            "Collecting nvidia-cuda-nvrtc-cu12==12.4.127 (from torch>=1.3.0->stanza)\n",
            "  Downloading nvidia_cuda_nvrtc_cu12-12.4.127-py3-none-manylinux2014_x86_64.whl.metadata (1.5 kB)\n",
            "Collecting nvidia-cuda-runtime-cu12==12.4.127 (from torch>=1.3.0->stanza)\n",
            "  Downloading nvidia_cuda_runtime_cu12-12.4.127-py3-none-manylinux2014_x86_64.whl.metadata (1.5 kB)\n",
            "Collecting nvidia-cuda-cupti-cu12==12.4.127 (from torch>=1.3.0->stanza)\n",
            "  Downloading nvidia_cuda_cupti_cu12-12.4.127-py3-none-manylinux2014_x86_64.whl.metadata (1.6 kB)\n",
            "Collecting nvidia-cudnn-cu12==9.1.0.70 (from torch>=1.3.0->stanza)\n",
            "  Downloading nvidia_cudnn_cu12-9.1.0.70-py3-none-manylinux2014_x86_64.whl.metadata (1.6 kB)\n",
            "Collecting nvidia-cublas-cu12==12.4.5.8 (from torch>=1.3.0->stanza)\n",
            "  Downloading nvidia_cublas_cu12-12.4.5.8-py3-none-manylinux2014_x86_64.whl.metadata (1.5 kB)\n",
            "Collecting nvidia-cufft-cu12==11.2.1.3 (from torch>=1.3.0->stanza)\n",
            "  Downloading nvidia_cufft_cu12-11.2.1.3-py3-none-manylinux2014_x86_64.whl.metadata (1.5 kB)\n",
            "Collecting nvidia-curand-cu12==10.3.5.147 (from torch>=1.3.0->stanza)\n",
            "  Downloading nvidia_curand_cu12-10.3.5.147-py3-none-manylinux2014_x86_64.whl.metadata (1.5 kB)\n",
            "Collecting nvidia-cusolver-cu12==11.6.1.9 (from torch>=1.3.0->stanza)\n",
            "  Downloading nvidia_cusolver_cu12-11.6.1.9-py3-none-manylinux2014_x86_64.whl.metadata (1.6 kB)\n",
            "Collecting nvidia-cusparse-cu12==12.3.1.170 (from torch>=1.3.0->stanza)\n",
            "  Downloading nvidia_cusparse_cu12-12.3.1.170-py3-none-manylinux2014_x86_64.whl.metadata (1.6 kB)\n",
            "Requirement already satisfied: nvidia-cusparselt-cu12==0.6.2 in /usr/local/lib/python3.11/dist-packages (from torch>=1.3.0->stanza) (0.6.2)\n",
            "Collecting nvidia-nccl-cu12==2.21.5 (from torch>=1.3.0->stanza)\n",
            "  Downloading nvidia_nccl_cu12-2.21.5-py3-none-manylinux2014_x86_64.whl.metadata (1.8 kB)\n",
            "Requirement already satisfied: nvidia-nvtx-cu12==12.4.127 in /usr/local/lib/python3.11/dist-packages (from torch>=1.3.0->stanza) (12.4.127)\n",
            "Collecting nvidia-nvjitlink-cu12==12.4.127 (from torch>=1.3.0->stanza)\n",
            "  Downloading nvidia_nvjitlink_cu12-12.4.127-py3-none-manylinux2014_x86_64.whl.metadata (1.5 kB)\n",
            "Requirement already satisfied: triton==3.2.0 in /usr/local/lib/python3.11/dist-packages (from torch>=1.3.0->stanza) (3.2.0)\n",
            "Requirement already satisfied: sympy==1.13.1 in /usr/local/lib/python3.11/dist-packages (from torch>=1.3.0->stanza) (1.13.1)\n",
            "Requirement already satisfied: mpmath<1.4,>=1.1.0 in /usr/local/lib/python3.11/dist-packages (from sympy==1.13.1->torch>=1.3.0->stanza) (1.3.0)\n",
            "Requirement already satisfied: charset-normalizer<4,>=2 in /usr/local/lib/python3.11/dist-packages (from requests->stanza) (3.4.3)\n",
            "Requirement already satisfied: idna<4,>=2.5 in /usr/local/lib/python3.11/dist-packages (from requests->stanza) (3.10)\n",
            "Requirement already satisfied: urllib3<3,>=1.21.1 in /usr/local/lib/python3.11/dist-packages (from requests->stanza) (2.5.0)\n",
            "Requirement already satisfied: certifi>=2017.4.17 in /usr/local/lib/python3.11/dist-packages (from requests->stanza) (2025.8.3)\n",
            "Requirement already satisfied: MarkupSafe>=2.0 in /usr/local/lib/python3.11/dist-packages (from jinja2->torch>=1.3.0->stanza) (3.0.2)\n",
            "Downloading stanza-1.10.1-py3-none-any.whl (1.1 MB)\n",
            "\u001b[2K   \u001b[90m━━━━━━━━━━━━━━━━━━━━━━━━━━━━━━━━━━━━━━━━\u001b[0m \u001b[32m1.1/1.1 MB\u001b[0m \u001b[31m16.8 MB/s\u001b[0m eta \u001b[36m0:00:00\u001b[0m\n",
            "\u001b[?25hDownloading nvidia_cublas_cu12-12.4.5.8-py3-none-manylinux2014_x86_64.whl (363.4 MB)\n",
            "\u001b[2K   \u001b[90m━━━━━━━━━━━━━━━━━━━━━━━━━━━━━━━━━━━━━━━━\u001b[0m \u001b[32m363.4/363.4 MB\u001b[0m \u001b[31m1.6 MB/s\u001b[0m eta \u001b[36m0:00:00\u001b[0m\n",
            "\u001b[?25hDownloading nvidia_cuda_cupti_cu12-12.4.127-py3-none-manylinux2014_x86_64.whl (13.8 MB)\n",
            "\u001b[2K   \u001b[90m━━━━━━━━━━━━━━━━━━━━━━━━━━━━━━━━━━━━━━━━\u001b[0m \u001b[32m13.8/13.8 MB\u001b[0m \u001b[31m101.4 MB/s\u001b[0m eta \u001b[36m0:00:00\u001b[0m\n",
            "\u001b[?25hDownloading nvidia_cuda_nvrtc_cu12-12.4.127-py3-none-manylinux2014_x86_64.whl (24.6 MB)\n",
            "\u001b[2K   \u001b[90m━━━━━━━━━━━━━━━━━━━━━━━━━━━━━━━━━━━━━━━━\u001b[0m \u001b[32m24.6/24.6 MB\u001b[0m \u001b[31m78.2 MB/s\u001b[0m eta \u001b[36m0:00:00\u001b[0m\n",
            "\u001b[?25hDownloading nvidia_cuda_runtime_cu12-12.4.127-py3-none-manylinux2014_x86_64.whl (883 kB)\n",
            "\u001b[2K   \u001b[90m━━━━━━━━━━━━━━━━━━━━━━━━━━━━━━━━━━━━━━━━\u001b[0m \u001b[32m883.7/883.7 kB\u001b[0m \u001b[31m39.1 MB/s\u001b[0m eta \u001b[36m0:00:00\u001b[0m\n",
            "\u001b[?25hDownloading nvidia_cudnn_cu12-9.1.0.70-py3-none-manylinux2014_x86_64.whl (664.8 MB)\n",
            "\u001b[2K   \u001b[90m━━━━━━━━━━━━━━━━━━━━━━━━━━━━━━━━━━━━━━━━\u001b[0m \u001b[32m664.8/664.8 MB\u001b[0m \u001b[31m2.2 MB/s\u001b[0m eta \u001b[36m0:00:00\u001b[0m\n",
            "\u001b[?25hDownloading nvidia_cufft_cu12-11.2.1.3-py3-none-manylinux2014_x86_64.whl (211.5 MB)\n",
            "\u001b[2K   \u001b[90m━━━━━━━━━━━━━━━━━━━━━━━━━━━━━━━━━━━━━━━━\u001b[0m \u001b[32m211.5/211.5 MB\u001b[0m \u001b[31m5.3 MB/s\u001b[0m eta \u001b[36m0:00:00\u001b[0m\n",
            "\u001b[?25hDownloading nvidia_curand_cu12-10.3.5.147-py3-none-manylinux2014_x86_64.whl (56.3 MB)\n",
            "\u001b[2K   \u001b[90m━━━━━━━━━━━━━━━━━━━━━━━━━━━━━━━━━━━━━━━━\u001b[0m \u001b[32m56.3/56.3 MB\u001b[0m \u001b[31m10.8 MB/s\u001b[0m eta \u001b[36m0:00:00\u001b[0m\n",
            "\u001b[?25hDownloading nvidia_cusolver_cu12-11.6.1.9-py3-none-manylinux2014_x86_64.whl (127.9 MB)\n",
            "\u001b[2K   \u001b[90m━━━━━━━━━━━━━━━━━━━━━━━━━━━━━━━━━━━━━━━━\u001b[0m \u001b[32m127.9/127.9 MB\u001b[0m \u001b[31m8.1 MB/s\u001b[0m eta \u001b[36m0:00:00\u001b[0m\n",
            "\u001b[?25hDownloading nvidia_cusparse_cu12-12.3.1.170-py3-none-manylinux2014_x86_64.whl (207.5 MB)\n",
            "\u001b[2K   \u001b[90m━━━━━━━━━━━━━━━━━━━━━━━━━━━━━━━━━━━━━━━━\u001b[0m \u001b[32m207.5/207.5 MB\u001b[0m \u001b[31m5.0 MB/s\u001b[0m eta \u001b[36m0:00:00\u001b[0m\n",
            "\u001b[?25hDownloading nvidia_nccl_cu12-2.21.5-py3-none-manylinux2014_x86_64.whl (188.7 MB)\n",
            "\u001b[2K   \u001b[90m━━━━━━━━━━━━━━━━━━━━━━━━━━━━━━━━━━━━━━━━\u001b[0m \u001b[32m188.7/188.7 MB\u001b[0m \u001b[31m5.9 MB/s\u001b[0m eta \u001b[36m0:00:00\u001b[0m\n",
            "\u001b[?25hDownloading nvidia_nvjitlink_cu12-12.4.127-py3-none-manylinux2014_x86_64.whl (21.1 MB)\n",
            "\u001b[2K   \u001b[90m━━━━━━━━━━━━━━━━━━━━━━━━━━━━━━━━━━━━━━━━\u001b[0m \u001b[32m21.1/21.1 MB\u001b[0m \u001b[31m73.1 MB/s\u001b[0m eta \u001b[36m0:00:00\u001b[0m\n",
            "\u001b[?25hDownloading emoji-2.14.1-py3-none-any.whl (590 kB)\n",
            "\u001b[2K   \u001b[90m━━━━━━━━━━━━━━━━━━━━━━━━━━━━━━━━━━━━━━━━\u001b[0m \u001b[32m590.6/590.6 kB\u001b[0m \u001b[31m33.3 MB/s\u001b[0m eta \u001b[36m0:00:00\u001b[0m\n",
            "\u001b[?25hInstalling collected packages: nvidia-nvjitlink-cu12, nvidia-nccl-cu12, nvidia-curand-cu12, nvidia-cufft-cu12, nvidia-cuda-runtime-cu12, nvidia-cuda-nvrtc-cu12, nvidia-cuda-cupti-cu12, nvidia-cublas-cu12, emoji, nvidia-cusparse-cu12, nvidia-cudnn-cu12, nvidia-cusolver-cu12, stanza\n",
            "  Attempting uninstall: nvidia-nvjitlink-cu12\n",
            "    Found existing installation: nvidia-nvjitlink-cu12 12.5.82\n",
            "    Uninstalling nvidia-nvjitlink-cu12-12.5.82:\n",
            "      Successfully uninstalled nvidia-nvjitlink-cu12-12.5.82\n",
            "  Attempting uninstall: nvidia-nccl-cu12\n",
            "    Found existing installation: nvidia-nccl-cu12 2.23.4\n",
            "    Uninstalling nvidia-nccl-cu12-2.23.4:\n",
            "      Successfully uninstalled nvidia-nccl-cu12-2.23.4\n",
            "  Attempting uninstall: nvidia-curand-cu12\n",
            "    Found existing installation: nvidia-curand-cu12 10.3.6.82\n",
            "    Uninstalling nvidia-curand-cu12-10.3.6.82:\n",
            "      Successfully uninstalled nvidia-curand-cu12-10.3.6.82\n",
            "  Attempting uninstall: nvidia-cufft-cu12\n",
            "    Found existing installation: nvidia-cufft-cu12 11.2.3.61\n",
            "    Uninstalling nvidia-cufft-cu12-11.2.3.61:\n",
            "      Successfully uninstalled nvidia-cufft-cu12-11.2.3.61\n",
            "  Attempting uninstall: nvidia-cuda-runtime-cu12\n",
            "    Found existing installation: nvidia-cuda-runtime-cu12 12.5.82\n",
            "    Uninstalling nvidia-cuda-runtime-cu12-12.5.82:\n",
            "      Successfully uninstalled nvidia-cuda-runtime-cu12-12.5.82\n",
            "  Attempting uninstall: nvidia-cuda-nvrtc-cu12\n",
            "    Found existing installation: nvidia-cuda-nvrtc-cu12 12.5.82\n",
            "    Uninstalling nvidia-cuda-nvrtc-cu12-12.5.82:\n",
            "      Successfully uninstalled nvidia-cuda-nvrtc-cu12-12.5.82\n",
            "  Attempting uninstall: nvidia-cuda-cupti-cu12\n",
            "    Found existing installation: nvidia-cuda-cupti-cu12 12.5.82\n",
            "    Uninstalling nvidia-cuda-cupti-cu12-12.5.82:\n",
            "      Successfully uninstalled nvidia-cuda-cupti-cu12-12.5.82\n",
            "  Attempting uninstall: nvidia-cublas-cu12\n",
            "    Found existing installation: nvidia-cublas-cu12 12.5.3.2\n",
            "    Uninstalling nvidia-cublas-cu12-12.5.3.2:\n",
            "      Successfully uninstalled nvidia-cublas-cu12-12.5.3.2\n",
            "  Attempting uninstall: nvidia-cusparse-cu12\n",
            "    Found existing installation: nvidia-cusparse-cu12 12.5.1.3\n",
            "    Uninstalling nvidia-cusparse-cu12-12.5.1.3:\n",
            "      Successfully uninstalled nvidia-cusparse-cu12-12.5.1.3\n",
            "  Attempting uninstall: nvidia-cudnn-cu12\n",
            "    Found existing installation: nvidia-cudnn-cu12 9.3.0.75\n",
            "    Uninstalling nvidia-cudnn-cu12-9.3.0.75:\n",
            "      Successfully uninstalled nvidia-cudnn-cu12-9.3.0.75\n",
            "  Attempting uninstall: nvidia-cusolver-cu12\n",
            "    Found existing installation: nvidia-cusolver-cu12 11.6.3.83\n",
            "    Uninstalling nvidia-cusolver-cu12-11.6.3.83:\n",
            "      Successfully uninstalled nvidia-cusolver-cu12-11.6.3.83\n",
            "Successfully installed emoji-2.14.1 nvidia-cublas-cu12-12.4.5.8 nvidia-cuda-cupti-cu12-12.4.127 nvidia-cuda-nvrtc-cu12-12.4.127 nvidia-cuda-runtime-cu12-12.4.127 nvidia-cudnn-cu12-9.1.0.70 nvidia-cufft-cu12-11.2.1.3 nvidia-curand-cu12-10.3.5.147 nvidia-cusolver-cu12-11.6.1.9 nvidia-cusparse-cu12-12.3.1.170 nvidia-nccl-cu12-2.21.5 nvidia-nvjitlink-cu12-12.4.127 stanza-1.10.1\n"
          ]
        }
      ],
      "source": [
        "!pip install stanza"
      ]
    },
    {
      "cell_type": "code",
      "execution_count": null,
      "metadata": {
        "id": "N1inC1iqBqti"
      },
      "outputs": [],
      "source": [
        "import stanza\n",
        "import numpy as np\n",
        "import re\n",
        "from collections import defaultdict\n",
        "import uuid"
      ]
    },
    {
      "cell_type": "code",
      "execution_count": null,
      "metadata": {
        "id": "dBKq6yxE8OQo"
      },
      "outputs": [],
      "source": [
        "stanza.download('ta', verbose=False)\n",
        "stanza.download('en', verbose=False)\n",
        "nlp_tamil = stanza.Pipeline('ta', processors='tokenize,pos', verbose=False)\n",
        "nlp_english = stanza.Pipeline('en', processors='tokenize,pos,ner', verbose=False)"
      ]
    },
    {
      "cell_type": "code",
      "execution_count": null,
      "metadata": {
        "colab": {
          "base_uri": "https://localhost:8080/"
        },
        "id": "qGARU72TnPFw",
        "outputId": "6c71c2d4-87ee-4c9e-ef32-a9601f8fbde9"
      },
      "outputs": [
        {
          "name": "stdout",
          "output_type": "stream",
          "text": [
            "I/O Error: Couldn't open file '/content/drive/MyDrive/Journals/Ponniyan Selvan Part1.pdf': No such file or directory.\n"
          ]
        }
      ],
      "source": [
        "pdf_path = '/content/drive/MyDrive/Journals/Ponniyan Selvan Part1.pdf'\n",
        "text_output_path = 'extracted_text.txt'\n",
        "!pdftotext \"{pdf_path}\" \"{text_output_path}\""
      ]
    },
    {
      "cell_type": "code",
      "execution_count": null,
      "metadata": {
        "colab": {
          "base_uri": "https://localhost:8080/"
        },
        "id": "rasH8FgY222d",
        "outputId": "a852f2c7-ea24-48ef-b20d-dd31670dd6bc"
      },
      "outputs": [
        {
          "name": "stdout",
          "output_type": "stream",
          "text": [
            "{'text': 'Murugan', 'pos': 'PROPN', 'ner': 'O'}\n",
            "{'text': 'is', 'pos': 'AUX', 'ner': 'O'}\n",
            "{'text': 'worshipped', 'pos': 'VERB', 'ner': 'O'}\n",
            "{'text': 'in', 'pos': 'ADP', 'ner': 'O'}\n",
            "{'text': 'Tamil', 'pos': 'ADJ', 'ner': 'O'}\n",
            "{'text': 'Nadu', 'pos': 'PROPN', 'ner': 'O'}\n",
            "{'text': '.', 'pos': 'PUNCT', 'ner': 'O'}\n"
          ]
        }
      ],
      "source": [
        "def apply_nlp(text, language='en'):\n",
        "    nlp = nlp_english if language == 'en' else nlp_tamil\n",
        "    doc = nlp(text)\n",
        "    return [\n",
        "        [\n",
        "            {\n",
        "                'text': token.text,\n",
        "                'pos': token.pos,\n",
        "                # Access 'ner' only if it exists\n",
        "                'ner': token.ner if hasattr(token, 'ner') else 'O'\n",
        "            }\n",
        "            for token in sent.words\n",
        "        ]\n",
        "        for sent in doc.sentences\n",
        "    ]\n",
        "\n",
        "sample_text = \"Murugan is worshipped in Tamil Nadu.\"\n",
        "result = apply_nlp(sample_text, language='en')\n",
        "\n",
        "# Show output\n",
        "for sent in result:\n",
        "    for token in sent:\n",
        "        print(token)\n"
      ]
    },
    {
      "cell_type": "code",
      "execution_count": null,
      "metadata": {
        "colab": {
          "base_uri": "https://localhost:8080/"
        },
        "id": "Dd_5u8kvuBaI",
        "outputId": "8e7e982b-862f-4758-81d9-64e8d020c155"
      },
      "outputs": [
        {
          "name": "stdout",
          "output_type": "stream",
          "text": [
            "இது ஒரு சோதனை வரி. -> False\n",
            "திருக்குறள். -> True\n",
            "https://pandianeducationaltrust.com/-chenkaantal.html. -> True\n"
          ]
        }
      ],
      "source": [
        "import re\n",
        "\n",
        "def is_boilerplate_line(line: str):\n",
        "    common_noise = [\n",
        "        r'உடம்பதாட\\.',\n",
        "        r'https://pandianeducationaltrust\\.com/-chenkaantal\\.html\\.',\n",
        "        r'திருக்குறள்\\.',\n",
        "        r'ஓராண்டிற்கு',\n",
        "        r'©\\.'\n",
        "    ]\n",
        "    return any(re.search(p, line, re.IGNORECASE) for p in common_noise)\n",
        "lines = [\n",
        "    \"இது ஒரு சோதனை வரி.\",\n",
        "    \"திருக்குறள்.\",\n",
        "    \"https://pandianeducationaltrust.com/-chenkaantal.html.\"\n",
        "]\n",
        "\n",
        "for l in lines:\n",
        "    print(l, \"->\", is_boilerplate_line(l))"
      ]
    },
    {
      "cell_type": "code",
      "execution_count": null,
      "metadata": {
        "colab": {
          "base_uri": "https://localhost:8080/"
        },
        "id": "2Xh68ocXJvxu",
        "outputId": "8810269a-dfe9-4ad9-f735-7eb25b018034"
      },
      "outputs": [
        {
          "name": "stdout",
          "output_type": "stream",
          "text": [
            "\n",
            "இது ஒரு சோதனை வரி.\n",
            "இது மற்றொரு வரி.\n",
            "இது இறுதி வரி.\n"
          ]
        }
      ],
      "source": [
        "import re\n",
        "\n",
        "def is_boilerplate_line(line):\n",
        "    common_noise = [\n",
        "        r'உடம்பதாட\\.',\n",
        "        r'https://pandianeducationaltrust\\.com/-chenkaantal\\.html\\.',\n",
        "        r'திருக்குறள்\\.',\n",
        "        r'ஓராண்டிற்கு',\n",
        "        r'©\\.'\n",
        "    ]\n",
        "    return any(re.search(p, line, re.IGNORECASE) for p in common_noise)\n",
        "\n",
        "\n",
        "def clean_text_lines(lines):\n",
        "    return [line for line in lines if not is_boilerplate_line(line.strip())]\n",
        "\n",
        "\n",
        "def clean_text_block(text):\n",
        "    lines = text.splitlines()\n",
        "    cleaned_lines = clean_text_lines(lines)\n",
        "    return \"\\n\".join(cleaned_lines)\n",
        "raw_text = \"\"\"\n",
        "இது ஒரு சோதனை வரி.\n",
        "திருக்குறள்.\n",
        "இது மற்றொரு வரி.\n",
        "https://pandianeducationaltrust.com/-chenkaantal.html.\n",
        "©. Copyright line\n",
        "இது இறுதி வரி.\n",
        "\"\"\"\n",
        "\n",
        "cleaned = clean_text_block(raw_text)\n",
        "print(cleaned)"
      ]
    },
    {
      "cell_type": "code",
      "execution_count": null,
      "metadata": {
        "colab": {
          "base_uri": "https://localhost:8080/"
        },
        "id": "yg0Lrf2i8Vq_",
        "outputId": "9cc131de-f584-4c16-efbc-25efaac11d45"
      },
      "outputs": [
        {
          "name": "stdout",
          "output_type": "stream",
          "text": [
            "Murugan      -> PROPN\n",
            "is           -> AUX\n",
            "worshipped   -> VERB\n",
            "in           -> ADP\n",
            "Tamil        -> ADJ\n",
            "Nadu         -> PROPN\n",
            ".            -> PUNCT\n"
          ]
        }
      ],
      "source": [
        "import stanza\n",
        "stanza.download('en')\n",
        "nlp = stanza.Pipeline('en', processors='tokenize,pos')\n",
        "\n",
        "def pos_tag_with_stanza(text):\n",
        "    doc = nlp(text)\n",
        "    tagged = []\n",
        "    for sent in doc.sentences:\n",
        "        for word in sent.words:\n",
        "            tagged.append((word.text, word.upos))\n",
        "    return tagged\n",
        "\n",
        "sample_text = \"Murugan is worshipped in Tamil Nadu.\"\n",
        "tags = pos_tag_with_stanza(sample_text)\n",
        "\n",
        "for token, pos in tags:\n",
        "    print(f\"{token:12} -> {pos}\")"
      ]
    },
    {
      "cell_type": "code",
      "execution_count": null,
      "metadata": {
        "colab": {
          "base_uri": "https://localhost:8080/"
        },
        "id": "rJdivvxUnW57",
        "outputId": "a319af1e-fa3d-4d8d-f7bc-7a9cb0d125d2"
      },
      "outputs": [
        {
          "name": "stdout",
          "output_type": "stream",
          "text": [
            "Preview:\n",
            " Main article content starts here.\n",
            "Saved cleaned text to: /content/drive/MyDrive/tamil_data_cleaned.txt\n",
            "Preview:\n",
            " ஒலிம்பிக் போட்டிகள் நடந்த இடங்கள் 1. 1896 - ஏதென்ஸ், கிரீஸ் 2. 1900 - பாரிஸ், பிரான்ஸ் 3. 1904 - செயின் லூயிஸ், அமெரிக்கா 4. 1908 - லண்டன்,பிரிட்டன் 5. 1912 - ஸ்டோக்ஹோம், சுவீடன் 6. 1920 - ஆண்ட்வெர்ப், பெல்ஜியம் 7. 1924 - பாரிஸ், பிரான்ஸ் 8. 1928 - ஆம்ஸ்டர்டாம், ஹாலந்து 9. 1932 - லாஸ், ஏஞ்சல்ஸ் 10. 1936 - பெர்லின், ஜெர்மனி 11. 1948 - லண்டன், இங்கிலாந்து 12. 1952 - ஹல்சின்கி, பின்லாந்து 13. 1956 - மேபோர்ன்,ஆஸ்திரேலியா 14. 1960 - ரோம், இத்தாலி 15. 1964 - டோக்கியோ, ஜப்பான் 16. 1968 - மெக்சிகோ, மெக்ஸிக்கோ 17. 1972 - மியூனிக், ஜெர்மனி 18. 1976 - மான்ட்ரியல், கனடா 19. 1980 - மாஸ்கோ, USSR 20. 1984 - லாஸ் ஏஞ்சல்ஸ், அமெரிக்கா 21. 1988 - சியோல், தென் கொரியா 22. 1992 - பார்சிலோனா, ஸ்பெயின் 23. 1996 - அட்லாண்டா, அமெரிக்கா 24. 2000 - சிட்னி, ஆஸ்திரேலியா 25. 2004 - ஏதென்ஸ், கிரீஸ் 26. 2008 - பீஜிங், சீன\n"
          ]
        }
      ],
      "source": [
        "import re\n",
        "\n",
        "BOILERPLATE_PATTERNS = [\n",
        "    r'Bi-Yearly Peer-Reviewed Tamil Journal',\n",
        "    r'Volume\\s*-\\s*\\d+,\\s*Issue\\s*-\\s*\\d+,\\s*[A-Za-z]+\\s+\\d{4}',\n",
        "    r'E-ISSN:\\s*\\d{4}-\\d{4}',\n",
        "    r'DOI:\\s*10\\.\\d+/zenodo\\.\\d+',\n",
        "    r'Received\\s+\\d+\\s+[A-Za-z]+\\s+\\d{4};.*?Available online\\s+\\d+\\s+[A-Za-z]+\\s+\\d{4}\\.',\n",
        "    r'Author Contribution Statement:.*?(?=\\n\\n|\\Z)',\n",
        "    r'Author Acknowledgement:.*?(?=\\n\\n|\\Z)',\n",
        "    r'Author Declaration:.*?(?=\\n\\n|\\Z)',\n",
        "    r'\\(6\\)\\s*The content of the article is licensed under.*?(?=\\n\\n|\\Z)',\n",
        "    r'Be Eco-Friendly',\n",
        "    r'Available at:\\s*https?://\\S+',\n",
        "    r'ORCID:\\s*https://orcid\\.org/\\d{4}-\\d{4}-\\d{4}-\\d{4}',\n",
        "]\n",
        "_COMPILED = [re.compile(p, re.IGNORECASE | re.MULTILINE | re.DOTALL) for p in BOILERPLATE_PATTERNS]\n",
        "\n",
        "def remove_boilerplate(text):\n",
        "    if not isinstance(text, str):\n",
        "        return \"\"\n",
        "    for rx in _COMPILED:\n",
        "        text = rx.sub(\"\", text)\n",
        "    # collapse multiple blank lines\n",
        "    text = re.sub(r'\\n\\s*\\n+', '\\n\\n', text)\n",
        "    return text.strip()\n",
        "\n",
        "sample = \"\"\"\n",
        "Bi-Yearly Peer-Reviewed Tamil Journal\n",
        "Volume - 12, Issue - 2, March 2023\n",
        "E-ISSN: 1234-5678\n",
        "DOI: 10.1234/zenodo.56789\n",
        "\n",
        "Author Contribution Statement: The author did everything.\n",
        "\n",
        "Main article content starts here.\n",
        "\"\"\"\n",
        "cleaned = remove_boilerplate(sample)\n",
        "print(\"Preview:\\n\", cleaned)\n",
        "\n",
        "in_path  = \"/content/drive/MyDrive/tamil_data.txt\"\n",
        "out_path = \"/content/drive/MyDrive/tamil_data_cleaned.txt\"\n",
        "\n",
        "with open(in_path, \"r\", encoding=\"utf-8\", errors=\"ignore\") as f:\n",
        "    raw = f.read()\n",
        "\n",
        "cleaned = remove_boilerplate(raw)\n",
        "\n",
        "with open(out_path, \"w\", encoding=\"utf-8\") as f:\n",
        "    f.write(cleaned)\n",
        "\n",
        "print(f\"Saved cleaned text to: {out_path}\")\n",
        "print(\"Preview:\\n\", cleaned[:800])"
      ]
    },
    {
      "cell_type": "code",
      "execution_count": null,
      "metadata": {
        "colab": {
          "base_uri": "https://localhost:8080/"
        },
        "id": "X_OYCiOU8Yex",
        "outputId": "5b7dc985-c11a-4eba-9175-c91746cea60d"
      },
      "outputs": [
        {
          "name": "stdout",
          "output_type": "stream",
          "text": [
            "இது ஒரு சோதனை வரி.\n",
            "திருக்குறள்.\n",
            "இது மற்றொரு வரி.\n",
            "https://pandianeducationaltrust.com/-chenkaantal.html.\n",
            ". Copyright line\n",
            "இது இறுதி வரி.\n"
          ]
        }
      ],
      "source": [
        "import re\n",
        "\n",
        "def remove_non_tamil_content(text):\n",
        "    # Allow Tamil (\\u0B80-\\u0BFF), English letters, digits, whitespace, and punctuation\n",
        "    pattern = r'[^\\u0B80-\\u0BFFa-zA-Z0-9\\s.,;:\"\\'()\\-\\[\\]\\n!?%/]'\n",
        "    cleaned = re.sub(pattern, '', text)\n",
        "\n",
        "    # Collapse multiple spaces\n",
        "    cleaned = re.sub(r'[ \\t]+', ' ', cleaned)\n",
        "\n",
        "    return cleaned.strip()\n",
        "print(remove_non_tamil_content(raw_text))"
      ]
    },
    {
      "cell_type": "code",
      "execution_count": null,
      "metadata": {
        "colab": {
          "base_uri": "https://localhost:8080/"
        },
        "id": "4tCtQ6xD8dlV",
        "outputId": "e156b9a2-d9dd-4967-dd57-13bef7e2aab8"
      },
      "outputs": [
        {
          "name": "stdout",
          "output_type": "stream",
          "text": [
            "1995 இல், ஏதோ நடந்தது. தரவுத்தொகுப்பில் மாதிரிகள் உள்ளன. அடுத்த மதிப்பாய்வு 2024 இல். எண் நீக்கப்பட வேண்டும்.\n"
          ]
        }
      ],
      "source": [
        "import re\n",
        "\n",
        "def remove_numbers_except_years(text):\n",
        "    # Remove any number that is not a 4-digit year (1900–2099)\n",
        "    text = re.sub(r'\\b(?!19\\d{2}\\b|20\\d{2}\\b)\\d+\\b', '', text)\n",
        "\n",
        "    # Collapse multiple spaces\n",
        "    text = re.sub(r'\\s+', ' ', text)\n",
        "\n",
        "    return text.strip()\n",
        "sample = \"\"\"\n",
        "1995 இல், ஏதோ நடந்தது.\n",
        "\n",
        "தரவுத்தொகுப்பில் 123 மாதிரிகள் உள்ளன.\n",
        "\n",
        "அடுத்த மதிப்பாய்வு 2024 இல்.\n",
        "\n",
        "எண் 56 நீக்கப்பட வேண்டும்.\n",
        "\"\"\"\n",
        "\n",
        "print(remove_numbers_except_years(sample))"
      ]
    },
    {
      "cell_type": "code",
      "execution_count": null,
      "metadata": {
        "colab": {
          "base_uri": "https://localhost:8080/"
        },
        "id": "y4mNnLUo8fut",
        "outputId": "a3894343-b2c6-4a31-c3d7-c74b2695ac82"
      },
      "outputs": [
        {
          "name": "stdout",
          "output_type": "stream",
          "text": [
            "\n",
            "Sentence 1\n",
            "முருகன்          POS=PROPN   NER=O\n",
            "தமிழ்            POS=PROPN   NER=O\n",
            "நாட்டில்         POS=NOUN    NER=O\n",
            "வழிபடப்படுகிறார்  POS=VERB    NER=O\n",
            ".                POS=PUNCT   NER=O\n",
            "\n",
            "Sentence 2\n",
            "Murugan          POS=PROPN   NER=O\n",
            "is               POS=PROPN   NER=O\n",
            "worshipped       POS=PROPN   NER=O\n",
            "in               POS=PROPN   NER=O\n",
            "Tamil            POS=PROPN   NER=O\n",
            "Nadu             POS=NOUN    NER=O\n",
            ".                POS=PUNCT   NER=O\n"
          ]
        }
      ],
      "source": [
        "import stanza\n",
        "stanza.download('ta')\n",
        "nlp_ta = stanza.Pipeline('ta', processors='tokenize,pos')\n",
        "\n",
        "def process_nlp(text, lang='ta'):\n",
        "    nlp = nlp_ta\n",
        "    doc = nlp(text)\n",
        "    sentences = []\n",
        "    for sent in doc.sentences:\n",
        "        tokens = []\n",
        "        for w in sent.words:\n",
        "            tokens.append({\n",
        "                'text': w.text,\n",
        "                'pos': getattr(w, 'upos', getattr(w, 'xpos', None)),\n",
        "                'ner': 'O'\n",
        "            })\n",
        "        sentences.append(tokens)\n",
        "    return sentences\n",
        "\n",
        "text = \"முருகன் தமிழ் நாட்டில் வழிபடப்படுகிறார். Murugan is worshipped in Tamil Nadu.\"\n",
        "result = process_nlp(text)\n",
        "\n",
        "for i, sent in enumerate(result, 1):\n",
        "    print(f\"\\nSentence {i}\")\n",
        "    for tok in sent:\n",
        "        print(f\"{tok['text']:15}  POS={tok['pos']:<6}  NER={tok['ner']}\")\n"
      ]
    },
    {
      "cell_type": "code",
      "execution_count": null,
      "metadata": {
        "colab": {
          "base_uri": "https://localhost:8080/"
        },
        "id": "3zMPN8qxnslR",
        "outputId": "491ed337-4e9f-40d8-9f51-f0b97cc3ab5e"
      },
      "outputs": [
        {
          "name": "stdout",
          "output_type": "stream",
          "text": [
            "[{'text': 'Thirukkural', 'pos': 'NOUN', 'ner': 'LITERATURE'}, {'text': 'is', 'pos': 'AUX', 'ner': 'O'}, {'text': 'famous', 'pos': 'ADJ', 'ner': 'O'}]\n",
            "[{'text': 'அகநானூறு', 'pos': 'NOUN', 'ner': 'LITERATURE'}, {'text': 'poem', 'pos': 'NOUN', 'ner': 'O'}]\n"
          ]
        }
      ],
      "source": [
        "import re\n",
        "\n",
        "def rule_based_ner(sentences):\n",
        "    # Known literature entities + some Tamil-script variants\n",
        "    literature_entities = {\n",
        "        \"LITERATURE\": [\n",
        "            r\"\\bThirukkural\\b\", r\"திருக்குறள்\",\n",
        "            r\"\\bTolkappiyam\\b\", r\"\\bTholkappiya Porulathikaram\\b\",\n",
        "            r\"\\bAkananooru\\b\", r\"அகநானூறு\"\n",
        "        ]\n",
        "    }\n",
        "\n",
        "    for sentence in sentences:\n",
        "        for token in sentence:\n",
        "            for label, patterns in literature_entities.items():\n",
        "                for pat in patterns:\n",
        "                    if re.search(pat, token['text'], flags=re.IGNORECASE):\n",
        "                        token['ner'] = label\n",
        "    return sentences\n",
        "sentences = [\n",
        "    [\n",
        "        {\"text\": \"Thirukkural\", \"pos\": \"NOUN\", \"ner\": \"O\"},\n",
        "        {\"text\": \"is\", \"pos\": \"AUX\", \"ner\": \"O\"},\n",
        "        {\"text\": \"famous\", \"pos\": \"ADJ\", \"ner\": \"O\"}\n",
        "    ],\n",
        "    [\n",
        "        {\"text\": \"அகநானூறு\", \"pos\": \"NOUN\", \"ner\": \"O\"},\n",
        "        {\"text\": \"poem\", \"pos\": \"NOUN\", \"ner\": \"O\"}\n",
        "    ]\n",
        "]\n",
        "\n",
        "result = rule_based_ner(sentences)\n",
        "for sent in result:\n",
        "    print(sent)"
      ]
    },
    {
      "cell_type": "code",
      "execution_count": null,
      "metadata": {
        "colab": {
          "base_uri": "https://localhost:8080/"
        },
        "id": "Sbd_7LfOnupH",
        "outputId": "987d835c-6855-45b7-a098-c9f2ca5b9850"
      },
      "outputs": [
        {
          "name": "stdout",
          "output_type": "stream",
          "text": [
            "{'text': 'திருக்குறள்', 'pos': 'NOUN', 'ner': 'LITERATURE', 'entity_link': 'A classic Tamil text by Thiruvalluvar'}\n",
            "{'text': 'is', 'pos': 'AUX', 'ner': 'O'}\n",
            "{'text': 'Akananooru', 'pos': 'NOUN', 'ner': 'LITERATURE', 'entity_link': 'A classical Tamil poetic work'}\n"
          ]
        }
      ],
      "source": [
        "def entity_linking(sentences):\n",
        "    # Knowledge base: canonical name -> description\n",
        "    knowledge_base = {\n",
        "        'Thirukkural': 'A classic Tamil text by Thiruvalluvar',\n",
        "        'Tolkappiyam': 'An ancient Tamil grammar and literature text',\n",
        "        'Tholkappiya Porulathikaram': 'A section of Tolkappiyam on poetics',\n",
        "        'Akananooru': 'A classical Tamil poetic work'\n",
        "    }\n",
        "\n",
        "    # Aliases mapping to canonical names\n",
        "    aliases = {\n",
        "        'திருக்குறள்': 'Thirukkural',\n",
        "        'tolkappiyam': 'Tolkappiyam',\n",
        "        'tholkappiya porulathikaram': 'Tholkappiya Porulathikaram',\n",
        "        'akananooru': 'Akananooru',\n",
        "        'அகநானூறு': 'Akananooru'\n",
        "    }\n",
        "\n",
        "    for sentence in sentences:\n",
        "        for token in sentence:\n",
        "            if token.get('ner') == 'LITERATURE':\n",
        "                text_norm = token['text'].strip()\n",
        "                # Try direct match\n",
        "                if text_norm in knowledge_base:\n",
        "                    token['entity_link'] = knowledge_base[text_norm]\n",
        "                # Try alias match (case-insensitive)\n",
        "                elif text_norm.lower() in aliases:\n",
        "                    canonical = aliases[text_norm.lower()]\n",
        "                    token['entity_link'] = knowledge_base[canonical]\n",
        "                else:\n",
        "                    token['entity_link'] = \"Unknown literature reference\"\n",
        "    return sentences\n",
        "sentences = [\n",
        "    [\n",
        "        {\"text\": \"திருக்குறள்\", \"pos\": \"NOUN\", \"ner\": \"LITERATURE\"},\n",
        "        {\"text\": \"is\", \"pos\": \"AUX\", \"ner\": \"O\"}\n",
        "    ],\n",
        "    [\n",
        "        {\"text\": \"Akananooru\", \"pos\": \"NOUN\", \"ner\": \"LITERATURE\"}\n",
        "    ]\n",
        "]\n",
        "\n",
        "linked = entity_linking(sentences)\n",
        "for sent in linked:\n",
        "    for tok in sent:\n",
        "        print(tok)\n"
      ]
    },
    {
      "cell_type": "code",
      "execution_count": null,
      "metadata": {
        "colab": {
          "base_uri": "https://localhost:8080/"
        },
        "id": "F1RK0VebnxSD",
        "outputId": "0a8ca297-40f5-40ec-8056-9643e5de6e97"
      },
      "outputs": [
        {
          "name": "stdout",
          "output_type": "stream",
          "text": [
            "Stats: {'kept': 2, 'removed': 2, 'total': 4}\n",
            "['Murugan']\n",
            "['Tamil']\n"
          ]
        }
      ],
      "source": [
        "def deduplicate_sentences(sentences, case_insensitive=True, return_report=False):\n",
        "    seen = set()\n",
        "    deduped = []\n",
        "    removed = 0\n",
        "\n",
        "    for sentence in sentences:\n",
        "        sent_text = ' '.join([tok['text'] for tok in sentence]).strip()\n",
        "        if case_insensitive:\n",
        "            sent_text = sent_text.lower()\n",
        "        sent_text = ' '.join(sent_text.split())  # normalize whitespace\n",
        "\n",
        "        if sent_text not in seen:\n",
        "            seen.add(sent_text)\n",
        "            deduped.append(sentence)\n",
        "        else:\n",
        "            removed += 1\n",
        "\n",
        "    if return_report:\n",
        "        return deduped, {\"kept\": len(deduped), \"removed\": removed, \"total\": len(sentences)}\n",
        "    return deduped\n",
        "sentences = [\n",
        "    [{\"text\": \"Murugan\", \"pos\": \"PROPN\", \"ner\": \"O\"}],\n",
        "    [{\"text\": \"Murugan\", \"pos\": \"PROPN\", \"ner\": \"O\"}],\n",
        "    [{\"text\": \"murugan\", \"pos\": \"PROPN\", \"ner\": \"O\"}],\n",
        "    [{\"text\": \"Tamil\", \"pos\": \"PROPN\", \"ner\": \"O\"}]\n",
        "]\n",
        "\n",
        "deduped, stats = deduplicate_sentences(sentences, return_report=True)\n",
        "print(\"Stats:\", stats)\n",
        "for s in deduped:\n",
        "    print([t['text'] for t in s])"
      ]
    },
    {
      "cell_type": "code",
      "execution_count": null,
      "metadata": {
        "colab": {
          "base_uri": "https://localhost:8080/"
        },
        "id": "vAWyU-hDn3CZ",
        "outputId": "e0acb453-1f86-461f-bfdb-6ea2addc74ea"
      },
      "outputs": [
        {
          "name": "stdout",
          "output_type": "stream",
          "text": [
            "[[{'text': 'முருகன்', 'pos': 'PROPN', 'ner': 'O'}, {'text': 'தமிழ்', 'pos': 'PROPN', 'ner': 'O'}, {'text': 'நாட்டில்', 'pos': 'NOUN', 'ner': 'O'}, {'text': 'வழிபடப்படுகிறார்', 'pos': 'VERB', 'ner': 'O'}, {'text': '.', 'pos': 'PUNCT', 'ner': 'O'}], [{'text': 'Thirukkural', 'pos': 'PROPN', 'ner': 'LITERATURE', 'entity_link': 'A classic Tamil text by Thiruvalluvar'}, {'text': 'is', 'pos': 'PROPN', 'ner': 'O'}, {'text': 'a', 'pos': 'NOUN', 'ner': 'O'}, {'text': 'classic', 'pos': 'NOUN', 'ner': 'O'}, {'text': 'text', 'pos': 'NOUN', 'ner': 'O'}, {'text': '.', 'pos': 'PUNCT', 'ner': 'O'}]]\n"
          ]
        }
      ],
      "source": [
        "def nlp_pipeline(text):\n",
        "    text = remove_boilerplate(text)\n",
        "    text = remove_non_tamil_content(text)\n",
        "    text = remove_numbers_except_years(text)\n",
        "    sentences = process_nlp(text, lang='ta')\n",
        "    sentences = rule_based_ner(sentences)\n",
        "    sentences = entity_linking(sentences)\n",
        "    sentences = deduplicate_sentences(sentences)\n",
        "    return sentences\n",
        "sample = \"முருகன் தமிழ் நாட்டில் வழிபடப்படுகிறார். Thirukkural is a classic text.\"\n",
        "result = nlp_pipeline(sample)\n",
        "print(result)"
      ]
    },
    {
      "cell_type": "code",
      "execution_count": null,
      "metadata": {
        "colab": {
          "base_uri": "https://localhost:8080/"
        },
        "id": "IPv4ZWqn5xaR",
        "outputId": "af300ba8-8401-41a8-eae2-4ab8233d0afb"
      },
      "outputs": [
        {
          "name": "stdout",
          "output_type": "stream",
          "text": [
            "முருகன்         POS=PROPN NER=O\n",
            "தமிழ்           POS=PROPN NER=O\n",
            "நாட்டில்        POS=NOUN NER=O\n",
            "வழிபடப்படுகிறார் POS=VERB NER=O\n",
            ".               POS=PUNCT NER=O\n"
          ]
        }
      ],
      "source": [
        "import stanza\n",
        "\n",
        "# Initialize Tamil pipeline (POS only, since NER is not available)\n",
        "stanza.download('ta')\n",
        "nlp_tamil = stanza.Pipeline('ta', processors='tokenize,pos')\n",
        "\n",
        "def process_nlp(text, lang='ta'):\n",
        "    doc = nlp_tamil(text)\n",
        "    sentences = []\n",
        "    for sent in doc.sentences:\n",
        "        tokens = []\n",
        "        for w in sent.words:\n",
        "            tokens.append({\n",
        "                'text': w.text,\n",
        "                'pos': w.upos,\n",
        "                'ner': 'O'\n",
        "            })\n",
        "        sentences.append(tokens)\n",
        "    return sentences\n",
        "text = \"முருகன் தமிழ் நாட்டில் வழிபடப்படுகிறார்.\"\n",
        "result = process_nlp(text)\n",
        "\n",
        "for sent in result:\n",
        "    for tok in sent:\n",
        "        print(f\"{tok['text']:15} POS={tok['pos']} NER={tok['ner']}\")"
      ]
    },
    {
      "cell_type": "code",
      "execution_count": null,
      "metadata": {
        "id": "MzhuCNFdoAMn"
      },
      "outputs": [],
      "source": [
        "with open(out_path, 'r', encoding='utf-8') as f:\n",
        "    pdf_text = f.read()"
      ]
    },
    {
      "cell_type": "code",
      "execution_count": null,
      "metadata": {
        "id": "6P2Tp9O4SuGF"
      },
      "outputs": [],
      "source": [
        "import stanza\n",
        "import re\n",
        "\n",
        "# 1. Init Tamil Stanza pipeline (POS only)\n",
        "stanza.download('ta')\n",
        "nlp_tamil = stanza.Pipeline('ta', processors='tokenize,pos')\n",
        "\n",
        "# 2. Define your helpers (short versions here)\n",
        "def remove_boilerplate(text):\n",
        "    return re.sub(r'Bi-Yearly Peer-Reviewed Tamil Journal', '', text)\n",
        "\n",
        "def remove_non_tamil_content(text):\n",
        "    return re.sub(r'[^\\u0B80-\\u0BFFa-zA-Z0-9\\s.,;:\"\\'()\\-\\[\\]\\n!?%/]', '', text)\n",
        "\n",
        "def remove_numbers_except_years(text):\n",
        "    return re.sub(r'\\b(?!19\\d{2}\\b|20\\d{2}\\b)\\d+\\b', '', text)\n",
        "\n",
        "def process_nlp(text, lang='ta'):\n",
        "    doc = nlp_tamil(text)\n",
        "    sentences = []\n",
        "    for sent in doc.sentences:\n",
        "        tokens = []\n",
        "        for w in sent.words:\n",
        "            tokens.append({\n",
        "                'text': w.text,\n",
        "                'pos': w.upos,\n",
        "                'ner': 'O'   # default since Tamil NER is missing\n",
        "            })\n",
        "        sentences.append(tokens)\n",
        "    return sentences\n",
        "\n",
        "def rule_based_ner(sentences):\n",
        "    for sentence in sentences:\n",
        "        for token in sentence:\n",
        "            if token['text'] in ['Thirukkural','Tolkappiyam','Akananooru']:\n",
        "                token['ner'] = 'LITERATURE'\n",
        "    return sentences\n",
        "\n",
        "def entity_linking(sentences):\n",
        "    kb = {'Thirukkural':'Classic text by Thiruvalluvar'}\n",
        "    for sentence in sentences:\n",
        "        for token in sentence:\n",
        "            if token['ner']=='LITERATURE' and token['text'] in kb:\n",
        "                token['entity_link'] = kb[token['text']]\n",
        "    return sentences\n",
        "\n",
        "def deduplicate_sentences(sentences):\n",
        "    seen, deduped = set(), []\n",
        "    for s in sentences:\n",
        "        st = ' '.join([t['text'] for t in s])\n",
        "        if st not in seen:\n",
        "            seen.add(st)\n",
        "            deduped.append(s)\n",
        "    return deduped\n",
        "\n",
        "# 3. The orchestrator\n",
        "def nlp_pipeline(text):\n",
        "    text = remove_boilerplate(text)\n",
        "    text = remove_non_tamil_content(text)\n",
        "    text = remove_numbers_except_years(text)\n",
        "    sentences = process_nlp(text, lang='ta')\n",
        "    sentences = rule_based_ner(sentences)\n",
        "    sentences = entity_linking(sentences)\n",
        "    sentences = deduplicate_sentences(sentences)\n",
        "    return sentences"
      ]
    },
    {
      "cell_type": "code",
      "execution_count": null,
      "metadata": {
        "colab": {
          "base_uri": "https://localhost:8080/"
        },
        "id": "pRqIwIjwn3uF",
        "outputId": "e95e2ba4-4402-496e-8082-07e8e109baa9"
      },
      "outputs": [
        {
          "name": "stdout",
          "output_type": "stream",
          "text": [
            "\n",
            "Sentence 1\n",
            "{'text': 'முருகன்', 'pos': 'PROPN', 'ner': 'O'}\n",
            "{'text': 'தமிழ்', 'pos': 'PROPN', 'ner': 'O'}\n",
            "{'text': 'நாட்டில்', 'pos': 'NOUN', 'ner': 'O'}\n",
            "{'text': 'வழிபடப்படுகிறார்', 'pos': 'VERB', 'ner': 'O'}\n",
            "{'text': '.', 'pos': 'PUNCT', 'ner': 'O'}\n",
            "\n",
            "Sentence 2\n",
            "{'text': 'Thirukkural', 'pos': 'PROPN', 'ner': 'LITERATURE', 'entity_link': 'Classic text by Thiruvalluvar'}\n",
            "{'text': 'is', 'pos': 'PROPN', 'ner': 'O'}\n",
            "{'text': 'a', 'pos': 'NOUN', 'ner': 'O'}\n",
            "{'text': 'classic', 'pos': 'NOUN', 'ner': 'O'}\n",
            "{'text': 'text', 'pos': 'NOUN', 'ner': 'O'}\n",
            "{'text': '.', 'pos': 'PUNCT', 'ner': 'O'}\n"
          ]
        }
      ],
      "source": [
        "pdf_text = \"முருகன் தமிழ் நாட்டில் வழிபடப்படுகிறார். Thirukkural is a classic text.\"\n",
        "processed_sentences = nlp_pipeline(pdf_text)\n",
        "for i, sent in enumerate(processed_sentences, 1):\n",
        "    print(f\"\\nSentence {i}\")\n",
        "    for tok in sent:\n",
        "        print(tok)"
      ]
    },
    {
      "cell_type": "code",
      "execution_count": null,
      "metadata": {
        "colab": {
          "base_uri": "https://localhost:8080/"
        },
        "id": "PhCM1CdJn8gH",
        "outputId": "354e6498-beaf-401c-f9dd-063bee0763c2"
      },
      "outputs": [
        {
          "name": "stdout",
          "output_type": "stream",
          "text": [
            "Sentence 1:\n",
            "Token: முருகன், POS: PROPN, NER: O, Entity Link: None\n",
            "Token: தமிழ், POS: PROPN, NER: O, Entity Link: None\n",
            "Token: நாட்டில், POS: NOUN, NER: O, Entity Link: None\n",
            "Token: வழிபடப்படுகிறார், POS: VERB, NER: O, Entity Link: None\n",
            "Token: ., POS: PUNCT, NER: O, Entity Link: None\n",
            "\n",
            "Sentence 2:\n",
            "Token: Thirukkural, POS: PROPN, NER: LITERATURE, Entity Link: Classic text by Thiruvalluvar\n",
            "Token: is, POS: PROPN, NER: O, Entity Link: None\n",
            "Token: a, POS: NOUN, NER: O, Entity Link: None\n",
            "Token: classic, POS: NOUN, NER: O, Entity Link: None\n",
            "Token: text, POS: NOUN, NER: O, Entity Link: None\n",
            "Token: ., POS: PUNCT, NER: O, Entity Link: None\n",
            "\n"
          ]
        }
      ],
      "source": [
        "for i, sentence in enumerate(processed_sentences):\n",
        "    print(f\"Sentence {i+1}:\")\n",
        "    for token in sentence:\n",
        "        print(f\"Token: {token['text']}, POS: {token['pos']}, NER: {token['ner']}, Entity Link: {token.get('entity_link', 'None')}\")\n",
        "    print()"
      ]
    },
    {
      "cell_type": "code",
      "execution_count": null,
      "metadata": {
        "id": "Ez9s2bqtn-2r"
      },
      "outputs": [],
      "source": [
        "with open(out_path, 'r', encoding='utf-8') as f:\n",
        "    pdf_text = f.read()"
      ]
    },
    {
      "cell_type": "code",
      "execution_count": null,
      "metadata": {
        "colab": {
          "base_uri": "https://localhost:8080/"
        },
        "id": "lhKxwNU13EzP",
        "outputId": "ac429eef-8359-414a-d5c5-413cdcfe9c48"
      },
      "outputs": [
        {
          "name": "stdout",
          "output_type": "stream",
          "text": [
            "Sentence 1:\n",
            "  Token: முருகன், POS: PROPN, NER: O, Entity Link: None\n",
            "  Token: தமிழ், POS: PROPN, NER: O, Entity Link: None\n",
            "  Token: நாட்டில், POS: NOUN, NER: O, Entity Link: None\n",
            "  Token: வழிபடப்படுகிறார், POS: VERB, NER: O, Entity Link: None\n",
            "  Token: ., POS: PUNCT, NER: O, Entity Link: None\n",
            "\n",
            "Sentence 2:\n",
            "  Token: Thirukkural, POS: PROPN, NER: LITERATURE, Entity Link: Classic text by Thiruvalluvar\n",
            "  Token: is, POS: PROPN, NER: O, Entity Link: None\n",
            "  Token: a, POS: NOUN, NER: O, Entity Link: None\n",
            "  Token: classic, POS: NOUN, NER: O, Entity Link: None\n",
            "  Token: text, POS: NOUN, NER: O, Entity Link: None\n",
            "  Token: ., POS: PUNCT, NER: O, Entity Link: None\n",
            "\n"
          ]
        }
      ],
      "source": [
        "# Display Results\n",
        "for idx, sentence in enumerate(processed_sentences, 1):\n",
        "    print(f\"Sentence {idx}:\")\n",
        "    for token in sentence:\n",
        "        print(f\"  Token: {token['text']}, POS: {token['pos']}, NER: {token['ner']}, Entity Link: {token.get('entity_link', 'None')}\")\n",
        "    print()\n",
        "processed_data = nlp_pipeline(pdf_text)"
      ]
    },
    {
      "cell_type": "code",
      "execution_count": null,
      "metadata": {
        "id": "2YF0qqdv3GWb"
      },
      "outputs": [],
      "source": [
        "with open('nlp_output.txt', 'w', encoding='utf-8') as output_file:\n",
        "    for idx, sentence in enumerate(processed_data, 1):\n",
        "        output_file.write(f\"Sentence {idx}:\\n\")\n",
        "        for token in sentence:\n",
        "            output_file.write(f\"  Token: {token['text']}, POS: {token['pos']}, NER: {token['ner']}, Entity Link: {token.get('entity_link', 'None')}\\n\")\n",
        "        output_file.write(\"\\n\")"
      ]
    },
    {
      "cell_type": "code",
      "execution_count": null,
      "metadata": {
        "colab": {
          "base_uri": "https://localhost:8080/"
        },
        "id": "hLriS2QaS_LG",
        "outputId": "d9f78d4e-1254-45f1-996c-67e4f402a01a"
      },
      "outputs": [
        {
          "name": "stdout",
          "output_type": "stream",
          "text": [
            "\u001b[?25l     \u001b[90m━━━━━━━━━━━━━━━━━━━━━━━━━━━━━━━━━━━━━━━━\u001b[0m \u001b[32m0.0/42.8 kB\u001b[0m \u001b[31m?\u001b[0m eta \u001b[36m-:--:--\u001b[0m\r\u001b[2K     \u001b[91m━━━━━━━━━━━━━━━━━━━━━━━━━━━━━━━━━━━━━━\u001b[0m\u001b[90m╺\u001b[0m\u001b[90m━\u001b[0m \u001b[32m41.0/42.8 kB\u001b[0m \u001b[31m4.0 MB/s\u001b[0m eta \u001b[36m0:00:01\u001b[0m\r\u001b[2K     \u001b[90m━━━━━━━━━━━━━━━━━━━━━━━━━━━━━━━━━━━━━━━\u001b[0m \u001b[32m42.8/42.8 kB\u001b[0m \u001b[31m862.1 kB/s\u001b[0m eta \u001b[36m0:00:00\u001b[0m\n",
            "\u001b[?25h  Preparing metadata (setup.py) ... \u001b[?25l\u001b[?25hdone\n",
            "\u001b[2K     \u001b[90m━━━━━━━━━━━━━━━━━━━━━━━━━━━━━━━━━━━━━━━━\u001b[0m \u001b[32m48.5/48.5 kB\u001b[0m \u001b[31m2.1 MB/s\u001b[0m eta \u001b[36m0:00:00\u001b[0m\n",
            "\u001b[2K   \u001b[90m━━━━━━━━━━━━━━━━━━━━━━━━━━━━━━━━━━━━━━━━\u001b[0m \u001b[32m40.3/40.3 kB\u001b[0m \u001b[31m2.7 MB/s\u001b[0m eta \u001b[36m0:00:00\u001b[0m\n",
            "\u001b[2K   \u001b[90m━━━━━━━━━━━━━━━━━━━━━━━━━━━━━━━━━━━━━━━━\u001b[0m \u001b[32m60.0/60.0 kB\u001b[0m \u001b[31m4.3 MB/s\u001b[0m eta \u001b[36m0:00:00\u001b[0m\n",
            "\u001b[2K   \u001b[90m━━━━━━━━━━━━━━━━━━━━━━━━━━━━━━━━━━━━━━━━\u001b[0m \u001b[32m5.6/5.6 MB\u001b[0m \u001b[31m60.1 MB/s\u001b[0m eta \u001b[36m0:00:00\u001b[0m\n",
            "\u001b[2K   \u001b[90m━━━━━━━━━━━━━━━━━━━━━━━━━━━━━━━━━━━━━━━━\u001b[0m \u001b[32m2.8/2.8 MB\u001b[0m \u001b[31m79.9 MB/s\u001b[0m eta \u001b[36m0:00:00\u001b[0m\n",
            "\u001b[2K   \u001b[90m━━━━━━━━━━━━━━━━━━━━━━━━━━━━━━━━━━━━━━━━\u001b[0m \u001b[32m7.7/7.7 MB\u001b[0m \u001b[31m97.3 MB/s\u001b[0m eta \u001b[36m0:00:00\u001b[0m\n",
            "\u001b[2K   \u001b[90m━━━━━━━━━━━━━━━━━━━━━━━━━━━━━━━━━━━━━━━━\u001b[0m \u001b[32m121.1/121.1 kB\u001b[0m \u001b[31m8.7 MB/s\u001b[0m eta \u001b[36m0:00:00\u001b[0m\n",
            "\u001b[?25h  Building wheel for wikipedia-api (setup.py) ... \u001b[?25l\u001b[?25hdone\n"
          ]
        }
      ],
      "source": [
        "!pip install indic-nlp-library pdfplumber wikipedia-api --quiet"
      ]
    },
    {
      "cell_type": "code",
      "execution_count": null,
      "metadata": {
        "colab": {
          "base_uri": "https://localhost:8080/"
        },
        "id": "NKEACZ5wOLR7",
        "outputId": "15b02b6b-8d9e-461c-a79d-63a8661bd153"
      },
      "outputs": [
        {
          "name": "stdout",
          "output_type": "stream",
          "text": [
            "/usr/bin/python3: Error while finding module specification for 'indicnlp.resources.manager' (ModuleNotFoundError: No module named 'indicnlp.resources')\n"
          ]
        }
      ],
      "source": [
        "!python -m indicnlp.resources.manager download_resources"
      ]
    },
    {
      "cell_type": "code",
      "execution_count": null,
      "metadata": {
        "id": "NtvfHR0Qhd1a"
      },
      "outputs": [],
      "source": [
        "import pdfplumber\n",
        "import re, wikipediaapi\n",
        "from indicnlp import loader\n",
        "from indicnlp.tokenize import sentence_tokenize, indic_tokenize"
      ]
    },
    {
      "cell_type": "code",
      "execution_count": null,
      "metadata": {
        "colab": {
          "base_uri": "https://localhost:8080/"
        },
        "id": "vx1mgNN6N7qh",
        "outputId": "69d0db1e-e8ea-4c6a-fac7-7d515c4da1ef"
      },
      "outputs": [
        {
          "name": "stdout",
          "output_type": "stream",
          "text": [
            "Cloning into 'indic_nlp_resources'...\n",
            "remote: Enumerating objects: 139, done.\u001b[K\n",
            "remote: Counting objects: 100% (13/13), done.\u001b[K\n",
            "remote: Compressing objects: 100% (13/13), done.\u001b[K\n",
            "remote: Total 139 (delta 2), reused 2 (delta 0), pack-reused 126 (from 1)\u001b[K\n",
            "Receiving objects: 100% (139/139), 149.77 MiB | 22.01 MiB/s, done.\n",
            "Resolving deltas: 100% (53/53), done.\n",
            "Updating files: 100% (28/28), done.\n"
          ]
        }
      ],
      "source": [
        "!git clone https://github.com/anoopkunchukuttan/indic_nlp_resources.git"
      ]
    },
    {
      "cell_type": "code",
      "execution_count": null,
      "metadata": {
        "id": "hYTDM2FIhqBq"
      },
      "outputs": [],
      "source": [
        "INDIC_NLP_LIB_HOME = '/usr/local/lib/python3.11/dist-packages/indicnlp'\n",
        "INDIC_NLP_RESOURCES = '/content/indic_nlp_resources'"
      ]
    },
    {
      "cell_type": "code",
      "execution_count": null,
      "metadata": {
        "id": "GpZoJa2NQDse"
      },
      "outputs": [],
      "source": [
        "PRONOUNS = {\"நான்\",\"நீ\",\"அவர்\",\"அவர்கள்\",\"இது\",\"அது\"}\n",
        "NOUN_SUFFIXES = [\"ஐ\",\"க்கு\",\"இல்\",\"இன்\",\"உடைய\",\"ஆல்\",\"இருந்து\",\"கள்\"]\n",
        "VERB_SUFFIXES = [\"த்தான்\",\"த்தாள்\",\"த்\",\"கிறார்\",\"கிறார்கள்\",\"கிறேன்\",\"வது\"]"
      ]
    },
    {
      "cell_type": "code",
      "execution_count": null,
      "metadata": {
        "id": "HWQjV3u3ipvm"
      },
      "outputs": [],
      "source": [
        "GAZETTEER_PERSONS = {'அருள்மொழி', 'வந்தியத்தேவன்', 'நந்தினி'}\n",
        "GAZETTEER_PLACES = {'தஞ்சாவூர்', 'காஞ்சிபுரம்'}\n",
        "GAZETTEER_PERSONS = {\"திரு\",\"திருமதி\",\"மதி\"}\n",
        "GAZETTEER_PLACES  = {\"சென்னை\",\"மதுரை\",\"காஞ்சிபுரம்\",\"கோவை\",\"காஞ்சி\"}"
      ]
    },
    {
      "cell_type": "code",
      "execution_count": null,
      "metadata": {
        "colab": {
          "base_uri": "https://localhost:8080/"
        },
        "id": "yQAswE34hyg6",
        "outputId": "0aae36fa-403d-4270-9459-4cf23b6f9ac1"
      },
      "outputs": [
        {
          "name": "stdout",
          "output_type": "stream",
          "text": [
            "திருக்குறள்\n"
          ]
        }
      ],
      "source": [
        "import re\n",
        "\n",
        "BOILERPLATE_PATTERNS = [\n",
        "    r\"Project Madurai.*?$\",\n",
        "    r\"Etext.*?$\",\n",
        "    r\"www\\.\\S+\",\n",
        "    r\"https?://\\S+\",\n",
        "    r\"Vol[-– ]\\s*\\w+\",\n",
        "    r\"^\\s*\\d+\\s*$\",\n",
        "    r\"Page\\s*\\d+\",\n",
        "]\n",
        "\n",
        "def remove_boilerplate(text):\n",
        "    for pattern in BOILERPLATE_PATTERNS:\n",
        "        text = re.sub(pattern, \"\", text, flags=re.MULTILINE | re.IGNORECASE)\n",
        "    # collapse multiple blank lines\n",
        "    text = re.sub(r\"\\n\\s*\\n+\", \"\\n\\n\", text)\n",
        "    return text.strip()\n",
        "sample = \"\"\"\n",
        "Project Madurai Digital Library\n",
        "Etext prepared by XYZ\n",
        "www.example.com\n",
        "Vol- II\n",
        "12\n",
        "\n",
        "திருக்குறள்\n",
        "Page 34\n",
        "\"\"\"\n",
        "\n",
        "print(remove_boilerplate(sample))"
      ]
    },
    {
      "cell_type": "code",
      "execution_count": null,
      "metadata": {
        "id": "fRmvtLrwh04Q"
      },
      "outputs": [],
      "source": [
        "pdf_path = '/content/drive/MyDrive/Journals/Ponniyan Selvan Part1.pdf'"
      ]
    },
    {
      "cell_type": "code",
      "execution_count": null,
      "metadata": {
        "colab": {
          "base_uri": "https://localhost:8080/"
        },
        "id": "pJl0eTq1h3D8",
        "outputId": "bbb80a3c-6f5d-4eda-833f-70c741470d94"
      },
      "outputs": [
        {
          "name": "stdout",
          "output_type": "stream",
          "text": [
            "«`ˆ(cid:247) ‚ł‚¢´¢(cid:253)\n",
            "ƒ(cid:192)¡(cid:253)(cid:201)¢´¢(cid:253) ƒ”ł¯(cid:253)\n",
            "(cid:192)¡‚ı - 1« - (cid:210)— ƒ¯ß˙ı\n",
            "(«(cid:242)(cid:190)¢´¡´(cid:237)‚ß 1- 30)\n",
            "kalkiyin2\n",
            "ponniyin celvan\n",
            "part-1a putu veLLam (chapters 1- 30)\n",
            "in tamil script, TSCII format\n",
            "Etext in Tamil Script - TSCII format (v. 1.7)\n",
            "Etext preparation: Mr. Bhaskaran Sankaran and colleagues of Anna University - KBC\n",
            "Research Center, MIT - Chrompet Campus, Chennai, India.\n",
            "Proof-reading: Mr. S. Anbumani, Mr. N.D. Logasundaram, Mr. Narayanan Govindarajan,\n",
            "Ms. Pavithra Srinivasan, Mr. Ramachandran Mahadevan, Ms. Sathya, Mr. Sreeram\n",
            "Krishnamoorthy, Dr. Sridhar Rathinam, Mrs. Srilatha Rajagopal, Mr. Vinoth Jagannathan\n",
            "Etext prep. in html/web version: Mr. S. Anbumani, Blacksburg, Virginia, USA\n",
            "Etext prep in pdf format: Dr. K. Kalyanasundaram, Lausanne, Switzerland\n",
            "This pdf file is based on TSCInaimathi font embedded in the file. Hence this file can be\n",
            "viewed and printed on all computer platforms: Windows, Macintosh and Unix\n",
            "w\n",
            "Number of pages extracted: 145\n",
            "First page preview:\n",
            " «`ˆ(cid:247) ‚ł‚¢´¢(cid:253)\n",
            "ƒ(cid:192)¡(cid:253)(cid:201)¢´¢(cid:253) ƒ”ł¯(cid:253)\n",
            "(cid:192)¡‚ı - 1« - (cid:210)— ƒ¯ß˙ı\n",
            "(«(cid:242)(cid:190)¢´¡´(cid:237)‚ß 1- 30)\n",
            "kalkiyin2\n",
            "ponniyin celvan\n",
            "part-1a putu veLLam (chapters 1- 30)\n",
            "in tamil script, TSCII format\n",
            "Etext in Tamil Script - TSCII format (v. 1.7)\n",
            "Etext preparation: Mr. Bhaskaran Sankaran and colleagues of Anna University - KBC\n",
            "Research Center, MIT - Chrompet Campus, Chennai, India.\n",
            "Proof-reading: Mr. S. Anbumani, Mr. N.D. Logasundaram, Mr.\n"
          ]
        }
      ],
      "source": [
        "import pdfplumber\n",
        "\n",
        "def extract_text(pdf_path, as_list=False):\n",
        "    texts = []\n",
        "    with pdfplumber.open(pdf_path) as pdf:\n",
        "        for page in pdf.pages:\n",
        "            page_text = page.extract_text()\n",
        "            if page_text:\n",
        "                # strip trailing spaces, normalize newlines\n",
        "                cleaned = page_text.strip()\n",
        "                texts.append(cleaned)\n",
        "\n",
        "    if as_list:\n",
        "        return texts\n",
        "    return \"\\n\".join(texts)\n",
        "pdf_text = extract_text(\"/content/drive/MyDrive/Journals/Ponniyan Selvan Part1.pdf\")\n",
        "print(pdf_text[:1000])   # show first 1000 characters\n",
        "\n",
        "pages = extract_text(\"/content/drive/MyDrive/Journals/Ponniyan Selvan Part1.pdf\", as_list=True)\n",
        "print(\"Number of pages extracted:\", len(pages))\n",
        "print(\"First page preview:\\n\", pages[0][:500])"
      ]
    },
    {
      "cell_type": "code",
      "execution_count": null,
      "metadata": {
        "colab": {
          "base_uri": "https://localhost:8080/"
        },
        "id": "28yf6HRAh8Yv",
        "outputId": "ae6e1f23-aa5c-462e-f5b6-99de7574e5b3"
      },
      "outputs": [
        {
          "name": "stdout",
          "output_type": "stream",
          "text": [
            "Cleaned file saved at: /content/drive/MyDrive/tamil_data_cleaned.txt\n",
            "Preview:\n",
            " ஒலிம்பிக் போட்டிகள் நடந்த இடங்கள் 1. 1896 - ஏதென்ஸ், கிரீஸ் 2. 1900 - பாரிஸ், பிரான்ஸ் 3. 1904 - செயின் லூயிஸ், அமெரிக்கா 4. 1908 - லண்டன்,பிரிட்டன் 5. 1912 - ஸ்டோக்ஹோம், சுவீடன் 6. 1920 - ஆண்ட்வெர்ப், பெல்ஜியம் 7. 1924 - பாரிஸ், பிரான்ஸ் 8. 1928 - ஆம்ஸ்டர்டாம், ஹாலந்து 9. 1932 - லாஸ், ஏஞ்சல்ஸ் 10. 1936 - பெர்லின், ஜெர்மனி 11. 1948 - லண்டன், இங்கிலாந்து 12. 1952 - ஹல்சின்கி, பின்லாந்து 13. 1956 - மேபோர்ன்,ஆஸ்திரேலியா 14. 1960 - ரோம், இத்தாலி 15. 1964 - டோக்கியோ, ஜப்பான் 16. 1968 - மெக்சிகோ, மெக்\n"
          ]
        }
      ],
      "source": [
        "import re\n",
        "\n",
        "BOILERPLATE_PATTERNS = [\n",
        "    r\"Project Madurai.*?$\",\n",
        "    r\"Etext.*?$\",\n",
        "    r\"www\\.\\S+\",\n",
        "    r\"https?://\\S+\",\n",
        "    r\"Vol[-– ]\\s*\\w+\",\n",
        "    r\"^\\s*\\d+\\s*$\"\n",
        "]\n",
        "\n",
        "def remove_boilerplate(text):\n",
        "    for pattern in BOILERPLATE_PATTERNS:\n",
        "        text = re.sub(pattern, '', text, flags=re.IGNORECASE | re.MULTILINE)\n",
        "    # collapse multiple blank lines\n",
        "    text = re.sub(r'\\n\\s*\\n+', '\\n\\n', text)\n",
        "    return text.strip()\n",
        "input_path = \"/content/drive/MyDrive/tamil_data.txt\"\n",
        "output_path = \"/content/drive/MyDrive/tamil_data_cleaned.txt\"\n",
        "\n",
        "with open(input_path, \"r\", encoding=\"utf-8\") as f:\n",
        "    raw_text = f.read()\n",
        "\n",
        "cleaned_text = remove_boilerplate(raw_text)\n",
        "\n",
        "with open(output_path, \"w\", encoding=\"utf-8\") as f:\n",
        "    f.write(cleaned_text)\n",
        "\n",
        "print(f\"Cleaned file saved at: {output_path}\")\n",
        "print(\"Preview:\\n\", cleaned_text[:500])  # first 500 chars\n"
      ]
    },
    {
      "cell_type": "code",
      "execution_count": null,
      "metadata": {
        "id": "9xVONaIxh-Ug"
      },
      "outputs": [],
      "source": [
        "import re\n",
        "\n",
        "def remove_non_tamil(text):\n",
        "    return re.sub(r\"[^ \\t\\n\\r.,;:!?()\\-\\—–\\\"'“”‘’0-9\\u0B80-\\u0BFF]\", \"\", text)"
      ]
    },
    {
      "cell_type": "code",
      "execution_count": null,
      "metadata": {
        "id": "Z0eblnJqiAUO"
      },
      "outputs": [],
      "source": [
        "def remove_numbers_but_keep_years(text):\n",
        "    return ' '.join([w for w in text.split() if not (w.isdigit() and not 1000 <= int(w) <= 2100)])"
      ]
    },
    {
      "cell_type": "code",
      "execution_count": null,
      "metadata": {
        "id": "LlcRtCbKL6FH"
      },
      "outputs": [],
      "source": [
        "NOUN_SUFFIXES, VERB_SUFFIXES, PRONOUNS = ['க்கு', 'இல்'], ['கிறான்'], ['நான்', 'நீ']"
      ]
    },
    {
      "cell_type": "code",
      "execution_count": null,
      "metadata": {
        "colab": {
          "base_uri": "https://localhost:8080/"
        },
        "id": "aUNEZOIsiCBv",
        "outputId": "f03ead40-b2ef-4928-a4b0-c2c01ebef03b"
      },
      "outputs": [
        {
          "name": "stdout",
          "output_type": "stream",
          "text": [
            "நான் -> PRONOUN\n",
            "நூலகத்தில் -> NOUN\n",
            "படிக்கிறான் -> VERB\n",
            "தமிழ் -> OTHER\n"
          ]
        }
      ],
      "source": [
        "import re\n",
        "\n",
        "# Example lexicons (you can expand)\n",
        "PRONOUNS = {\"நான்\", \"நீ\", \"அவர்\", \"அவள்\", \"அது\", \"நாம்\"}\n",
        "VERB_SUFFIXES = [\"கிறான்\", \"கிறாள்\", \"கிறேன்\", \"கிறோம்\", \"த்தான்\", \"வான்\"]\n",
        "NOUN_SUFFIXES = [\"ம்\", \"த்தில்\", \"ங்கள்\", \"னால்\"]\n",
        "\n",
        "def pos_tag(token):\n",
        "    token = token.strip()\n",
        "    token = re.sub(r'[^\\u0B80-\\u0BFF]', '', token)   # keep only Tamil chars\n",
        "\n",
        "    if token in PRONOUNS:\n",
        "        return 'PRONOUN'\n",
        "    if any(token.endswith(suf) for suf in VERB_SUFFIXES):\n",
        "        return 'VERB'\n",
        "    if any(token.endswith(suf) for suf in NOUN_SUFFIXES):\n",
        "        return 'NOUN'\n",
        "    return 'OTHER'\n",
        "\n",
        "words = [\"நான்\", \"நூலகத்தில்\", \"படிக்கிறான்\", \"தமிழ்\"]\n",
        "for w in words:\n",
        "    print(w, \"->\", pos_tag(w))"
      ]
    },
    {
      "cell_type": "code",
      "execution_count": null,
      "metadata": {
        "colab": {
          "base_uri": "https://localhost:8080/"
        },
        "id": "oR5QH8O7iD6D",
        "outputId": "1e7a7126-4b59-4d1e-a13a-1fc67b7b2e2f"
      },
      "outputs": [
        {
          "name": "stdout",
          "output_type": "stream",
          "text": [
            "திருவள்ளுவர் -> PERSON\n",
            "சென்னை -> LOCATION\n",
            "நகரம் -> O\n",
            "தமிழ் -> O\n"
          ]
        }
      ],
      "source": [
        "import re\n",
        "\n",
        "# Example gazetteers (expand as needed)\n",
        "GAZETTEER_PERSONS = {\"திருவள்ளுவர்\", \"கம்பர்\", \"இளங்கோ\"}\n",
        "GAZETTEER_PLACES  = {\"சென்னை\", \"மதுரை\", \"திருச்சி\", \"காஞ்சிபுரம்\"}\n",
        "\n",
        "def normalize_token(token):\n",
        "    return re.sub(r'[^\\u0B80-\\u0BFFA-Za-z]', '', token)\n",
        "\n",
        "def ner_tag(token: str, next_token: str = None) -> str:\n",
        "    token_norm = normalize_token(token)\n",
        "    next_norm  = normalize_token(next_token) if next_token else None\n",
        "\n",
        "    if token_norm in GAZETTEER_PERSONS:\n",
        "        return \"PERSON\"\n",
        "    if token_norm in GAZETTEER_PLACES:\n",
        "        return \"LOCATION\"\n",
        "    if next_norm in {\"நகரம்\", \"மாவட்டம்\"}:\n",
        "        return \"POSSIBLE_LOCATION\"\n",
        "    return \"O\"\n",
        "tokens = [\"திருவள்ளுவர்\", \"சென்னை\", \"நகரம்\", \"தமிழ்\"]\n",
        "for i, tok in enumerate(tokens):\n",
        "    nxt = tokens[i+1] if i+1 < len(tokens) else None\n",
        "    print(tok, \"->\", ner_tag(tok, nxt))\n"
      ]
    },
    {
      "cell_type": "code",
      "execution_count": null,
      "metadata": {
        "id": "31g0WGnlMBaO"
      },
      "outputs": [],
      "source": [
        "wiki_ta = wikipediaapi.Wikipedia(user_agent='MyTamilNLPApp/1.0 (https://example.com/myappinfo)', language='ta')"
      ]
    },
    {
      "cell_type": "code",
      "execution_count": null,
      "metadata": {
        "colab": {
          "base_uri": "https://localhost:8080/"
        },
        "id": "r02wjn4EhQG-",
        "outputId": "f3bc80cc-13e3-4fb7-ff2b-0feca6f9ebfc"
      },
      "outputs": [
        {
          "name": "stdout",
          "output_type": "stream",
          "text": [
            "Page Title: திருக்குறள்\n",
            "Summary: திருக்குறள் (Tirukkural), சுருக்கமாக குறள் (Kural), ஒரு தொன்மையான தமிழ் மொழி அற இலக்கியமாகும். சங்க இலக்கிய வகைப்பாட்டில் பதினெண்கீழ்க்கணக்கு எனப்படும் பதினெட்டு நூல்களின் திரட்டில் இருக்கும் இந்நூல் குறள் வெண்பா என்னும் பாவகையினாலான 1,330 ஈரடிச் செய்யுள்களைக் கொண்டது. இந்நூல் முறையே அறம், பொருள், இன்பம் ஆகிய மூன்று தொகுப்புகளைக் கொண்டது. இது அடிப்படையில் ஒரு வாழ்வியல் நூல் ஆகும். மாந்தர்கள் தம் அகவாழ்விலும் புற வாழ்விலும் நலமுடன் வாழ்வதற்குத் தேவையான அடிப்படைப் பண்புகளை விளக்குகிறது. இந்நூல் அற\n"
          ]
        }
      ],
      "source": [
        "import wikipediaapi\n",
        "\n",
        "wiki_ta = wikipediaapi.Wikipedia(\n",
        "    user_agent=\"TamilNLPBot/1.0 (https://github.com/yourname; contact@example.com)\",\n",
        "    language=\"ta\"\n",
        ")\n",
        "\n",
        "page = wiki_ta.page(\"திருக்குறள்\")\n",
        "print(\"Page Title:\", page.title)\n",
        "print(\"Summary:\", page.summary[:500])  # first 500 chars"
      ]
    },
    {
      "cell_type": "code",
      "execution_count": null,
      "metadata": {
        "colab": {
          "base_uri": "https://localhost:8080/"
        },
        "id": "4Q9enMpJiGad",
        "outputId": "2605e444-6e68-4e65-c692-a8f13331b3bf"
      },
      "outputs": [
        {
          "name": "stdout",
          "output_type": "stream",
          "text": [
            "{'title': 'திருவள்ளுவர்', 'url': 'https://ta.wikipedia.org/wiki/%E0%AE%A4%E0%AE%BF%E0%AE%B0%E0%AF%81%E0%AE%B5%E0%AE%B3%E0%AF%8D%E0%AE%B3%E0%AF%81%E0%AE%B5%E0%AE%B0%E0%AF%8D', 'summary': 'திருவள்ளுவர் (ஆங்கிலம்: Thiruvalluvar) (சுருக்கமாக வள்ளுவர்), பழந்தமிழ் இலக்கியமான திருக்குறளை இயற்றிய தமிழ்ப்புலவர் ஆவார். கடைச்சங்ககால புலவரான இவர் பொ.ஊ.மு 400க்கும் பொ.ஊ. 100க்கும் இடைப்பட்ட காலத்த...'}\n",
            "{'title': 'மதுரை', 'url': 'https://ta.wikipedia.org/wiki/%E0%AE%AE%E0%AE%A4%E0%AF%81%E0%AE%B0%E0%AF%88', 'summary': 'மதுரை (Madurai) இந்தியாவின், தமிழ்நாடு மாநிலத்தில் அமைந்துள்ள ஒரு தொன்மையான நகரம் ஆகும். இது மதுரை மாவட்டத்தின் தலைநகர் ஆகும். தமிழ்நாட்டின் தூங்கா நகரம் என அழைக்கப்படுகின்றது தமிழ்நாட்டில் உள்ள பெருந...'}\n"
          ]
        }
      ],
      "source": [
        "def entity_link(entity):\n",
        "    entity = entity.strip()\n",
        "    page = wiki_ta.page(entity)\n",
        "\n",
        "    if page.exists():\n",
        "        return {\n",
        "            \"title\": page.title,\n",
        "            \"url\": page.fullurl,\n",
        "            \"summary\": page.summary[:200] + \"...\" if page.summary else \"\"\n",
        "        }\n",
        "    return None\n",
        "print(entity_link(\"திருவள்ளுவர்\"))\n",
        "print(entity_link(\"மதுரை\"))"
      ]
    },
    {
      "cell_type": "code",
      "execution_count": null,
      "metadata": {
        "id": "8sHdUumXg_3M"
      },
      "outputs": [],
      "source": [
        "def remove_numbers_but_keep_years(text):\n",
        "    # Remove 1-2 digit numbers and 5+ digit numbers\n",
        "    text = re.sub(r\"(?<!\\d)\\d{1,2}(?!\\d)\", \"\", text)\n",
        "    text = re.sub(r\"(?<!\\d)\\d{5,}(?!\\d)\", \"\", text)\n",
        "    return text"
      ]
    },
    {
      "cell_type": "code",
      "execution_count": null,
      "metadata": {
        "colab": {
          "base_uri": "https://localhost:8080/"
        },
        "id": "6hI7zTKYOGnc",
        "outputId": "aff8e787-601b-4347-990c-045db92c88f0"
      },
      "outputs": [
        {
          "name": "stdout",
          "output_type": "stream",
          "text": [
            "Raw length: 933396\n",
            "After boilerplate: 932776\n",
            "After non-Tamil: 545182\n"
          ]
        }
      ],
      "source": [
        "raw_text = extract_text(pdf_path)\n",
        "print(\"Raw length:\", len(raw_text))\n",
        "\n",
        "text = remove_boilerplate(raw_text)\n",
        "print(\"After boilerplate:\", len(text))\n",
        "\n",
        "text = remove_non_tamil(text)\n",
        "print(\"After non-Tamil:\", len(text))"
      ]
    },
    {
      "cell_type": "code",
      "execution_count": null,
      "metadata": {
        "id": "1QzJHGR6gtL1"
      },
      "outputs": [],
      "source": [
        "import unicodedata, re\n",
        "from indicnlp.tokenize import sentence_tokenize"
      ]
    },
    {
      "cell_type": "code",
      "execution_count": null,
      "metadata": {
        "id": "uZcg2ITFg0wF"
      },
      "outputs": [],
      "source": [
        "def normalize_text(text):\n",
        "    # Normalize Unicode (important for Tamil)\n",
        "    text = unicodedata.normalize(\"NFC\", text)\n",
        "    # Remove invisible chars\n",
        "    text = re.sub(r'[\\u200b\\u200c\\u200d\\ufeff]', '', text)\n",
        "    # Convert non-breaking space to normal space\n",
        "    text = text.replace(\"\\u00a0\", \" \")\n",
        "    return text.strip()"
      ]
    },
    {
      "cell_type": "code",
      "execution_count": null,
      "metadata": {
        "id": "P0ripdPqOK85"
      },
      "outputs": [],
      "source": [
        "sentences = [s.strip() for s in text.split(\"।\") if s.strip()]"
      ]
    },
    {
      "cell_type": "code",
      "execution_count": null,
      "metadata": {
        "id": "FPAqbcIkiIBj"
      },
      "outputs": [],
      "source": [
        "def deduplicate_sentences(sent_list):\n",
        "    return list(dict.fromkeys(sent_list))"
      ]
    },
    {
      "cell_type": "code",
      "execution_count": null,
      "metadata": {
        "id": "DUUpTEodiJo9"
      },
      "outputs": [],
      "source": [
        "text = extract_text(pdf_path)\n",
        "text = remove_boilerplate(text)\n",
        "text = normalize_text(text)\n",
        "text = remove_non_tamil(text)\n",
        "text = remove_numbers_but_keep_years(text)\n",
        "\n",
        "sentences = sentence_tokenize.sentence_split(text, lang='ta')\n",
        "sentences = deduplicate_sentences(sentences)\n"
      ]
    },
    {
      "cell_type": "code",
      "execution_count": null,
      "metadata": {
        "id": "Sw6txypwiLag"
      },
      "outputs": [],
      "source": [
        "# Deduplication\n",
        "def deduplicate_sentences(sentences):\n",
        "    return list(dict.fromkeys(sentences))"
      ]
    },
    {
      "cell_type": "code",
      "execution_count": null,
      "metadata": {
        "colab": {
          "base_uri": "https://localhost:8080/"
        },
        "id": "xcntEKweiP76",
        "outputId": "2316bb7f-116c-4abe-923b-0f51c6c33950"
      },
      "outputs": [],
      "source": [
        "#Sentence Tokenization\n",
        "for sent in sentences:\n",
        "    tokens = indic_tokenize.trivial_tokenize(sent, lang='ta')\n",
        "    print(f\"\\nSentence: {sent.strip()}\")\n",
        "    for idx, tok in enumerate(tokens):\n",
        "        pos = pos_tag(tok)\n",
        "        next_tok = tokens[idx+1] if idx+1 < len(tokens) else None\n",
        "        ner = ner_tag(tok, next_tok)\n",
        "        link = entity_link(tok) if ner in ['PERSON', 'LOCATION'] else None\n",
        "        print(f\"{tok:15} | POS: {pos:8} | NER: {ner:10} | Link: {link}\")\n",
        "        print(sentences)"
      ]
    },
    {
      "cell_type": "code",
      "execution_count": null,
      "metadata": {
        "colab": {
          "base_uri": "https://localhost:8080/"
        },
        "id": "zLvhAlMowzx6",
        "outputId": "f725ef1a-9a54-4bac-844b-c08a524f00df"
      },
      "outputs": [
        {
          "name": "stdout",
          "output_type": "stream",
          "text": [
            "Reading package lists... Done\n",
            "Building dependency tree... Done\n",
            "Reading state information... Done\n",
            "tesseract-ocr is already the newest version (4.1.1-2.1build1).\n",
            "0 upgraded, 0 newly installed, 0 to remove and 35 not upgraded.\n"
          ]
        }
      ],
      "source": [
        "!apt-get install -y tesseract-ocr"
      ]
    },
    {
      "cell_type": "code",
      "execution_count": null,
      "metadata": {
        "colab": {
          "base_uri": "https://localhost:8080/"
        },
        "id": "y-yJq6juHa79",
        "outputId": "e66b882c-1a8e-4be7-f50e-618c32c40799"
      },
      "outputs": [
        {
          "name": "stdout",
          "output_type": "stream",
          "text": [
            "\u001b[?25l     \u001b[90m━━━━━━━━━━━━━━━━━━━━━━━━━━━━━━━━━━━━━━━━\u001b[0m \u001b[32m0.0/42.8 kB\u001b[0m \u001b[31m?\u001b[0m eta \u001b[36m-:--:--\u001b[0m\r\u001b[2K     \u001b[90m━━━━━━━━━━━━━━━━━━━━━━━━━━━━━━━━━━━━━━━━\u001b[0m \u001b[32m42.8/42.8 kB\u001b[0m \u001b[31m1.6 MB/s\u001b[0m eta \u001b[36m0:00:00\u001b[0m\n",
            "\u001b[?25h  Preparing metadata (setup.py) ... \u001b[?25l\u001b[?25hdone\n",
            "\u001b[2K     \u001b[90m━━━━━━━━━━━━━━━━━━━━━━━━━━━━━━━━━━━━━━━━\u001b[0m \u001b[32m48.5/48.5 kB\u001b[0m \u001b[31m2.7 MB/s\u001b[0m eta \u001b[36m0:00:00\u001b[0m\n",
            "\u001b[2K   \u001b[90m━━━━━━━━━━━━━━━━━━━━━━━━━━━━━━━━━━━━━━━━\u001b[0m \u001b[32m60.0/60.0 kB\u001b[0m \u001b[31m4.0 MB/s\u001b[0m eta \u001b[36m0:00:00\u001b[0m\n",
            "\u001b[2K   \u001b[90m━━━━━━━━━━━━━━━━━━━━━━━━━━━━━━━━━━━━━━━━\u001b[0m \u001b[32m5.6/5.6 MB\u001b[0m \u001b[31m50.7 MB/s\u001b[0m eta \u001b[36m0:00:00\u001b[0m\n",
            "\u001b[2K   \u001b[90m━━━━━━━━━━━━━━━━━━━━━━━━━━━━━━━━━━━━━━━━\u001b[0m \u001b[32m40.3/40.3 kB\u001b[0m \u001b[31m2.5 MB/s\u001b[0m eta \u001b[36m0:00:00\u001b[0m\n",
            "\u001b[2K   \u001b[90m━━━━━━━━━━━━━━━━━━━━━━━━━━━━━━━━━━━━━━━━\u001b[0m \u001b[32m2.8/2.8 MB\u001b[0m \u001b[31m59.0 MB/s\u001b[0m eta \u001b[36m0:00:00\u001b[0m\n",
            "\u001b[2K   \u001b[90m━━━━━━━━━━━━━━━━━━━━━━━━━━━━━━━━━━━━━━━━\u001b[0m \u001b[32m7.7/7.7 MB\u001b[0m \u001b[31m76.1 MB/s\u001b[0m eta \u001b[36m0:00:00\u001b[0m\n",
            "\u001b[2K   \u001b[90m━━━━━━━━━━━━━━━━━━━━━━━━━━━━━━━━━━━━━━━━\u001b[0m \u001b[32m121.1/121.1 kB\u001b[0m \u001b[31m9.1 MB/s\u001b[0m eta \u001b[36m0:00:00\u001b[0m\n",
            "\u001b[?25h  Building wheel for wikipedia-api (setup.py) ... \u001b[?25l\u001b[?25hdone\n"
          ]
        }
      ],
      "source": [
        "!pip install pdfplumber pytesseract indic-nlp-library wikipedia-api --quiet"
      ]
    },
    {
      "cell_type": "code",
      "execution_count": null,
      "metadata": {
        "id": "mh8PdlXeHdqC"
      },
      "outputs": [],
      "source": [
        "import pdfplumber\n",
        "import pytesseract\n",
        "import re, wikipediaapi\n",
        "from PIL import Image\n",
        "from indicnlp import loader\n",
        "from indicnlp.tokenize import sentence_tokenize, indic_tokenize"
      ]
    },
    {
      "cell_type": "code",
      "execution_count": null,
      "metadata": {
        "id": "Z1j3iwGmHjss"
      },
      "outputs": [],
      "source": [
        "INDIC_NLP_LIB_HOME = '/usr/local/lib/python3.11/dist-packages/indicnlp'\n",
        "INDIC_NLP_RESOURCES = '/usr/local/lib/python3.11/dist-packages/indicnlp/resources'"
      ]
    },
    {
      "cell_type": "code",
      "execution_count": null,
      "metadata": {
        "id": "eAa3uTqsHnth"
      },
      "outputs": [],
      "source": [
        "GAZETTEER_PERSONS = {'அருள்மொழி', 'வந்தியத்தேவன்', 'நந்தினி'}\n",
        "GAZETTEER_PLACES = {'தஞ்சாவூர்', 'காஞ்சிபுரம்'}"
      ]
    },
    {
      "cell_type": "code",
      "execution_count": null,
      "metadata": {
        "id": "wLpp2hAsHqP3"
      },
      "outputs": [],
      "source": [
        "pdf_path = '/content/drive/MyDrive/Journals/Ponniyan Selvan Part1.pdf'"
      ]
    },
    {
      "cell_type": "code",
      "execution_count": null,
      "metadata": {
        "id": "wjHcAZmQHtD6"
      },
      "outputs": [],
      "source": [
        "def extract_text_with_ocr(pdf_path='/content/drive/MyDrive/Journals/Ponniyan Selvan Part1.pdf',ocr_lang= \"tam+eng\",dpi= 300,min_text_len= 20,verbose = True):\n",
        "    collected = []\n",
        "\n",
        "    with pdfplumber.open(pdf_path) as pdf_obj:\n",
        "        for page in pdf_obj.pages:\n",
        "            # 1) Try text layer (tweak tolerances to capture more text)\n",
        "            page_text = page.extract_text(x_tolerance=1.5, y_tolerance=1.5)\n",
        "            if page_text and len(page_text.strip()) >= min_text_len:\n",
        "                collected.append(page_text.strip())\n",
        "                continue\n",
        "\n",
        "            # 2) OCR fallback\n",
        "            if verbose:\n",
        "                print(f\"Page {page.page_number}: no reliable text layer — using OCR\")\n",
        "            # Render to image for OCR\n",
        "            page_image = page.to_image(resolution=dpi).original.convert(\"RGB\")\n",
        "            # Try to deskew/autorotate\n",
        "            page_image = _deskew_if_needed(page_image, verbose=verbose)\n",
        "\n",
        "            # Tesseract config: OEM 3 (LSTM), PSM 4 (block of text) is good for pages\n",
        "            config = \"--oem 3 --psm 4\"\n",
        "            try:\n",
        "                ocr_text = pytesseract.image_to_string(page_image, lang=ocr_lang, config=config)\n",
        "            except pytesseract.TesseractError as e:\n",
        "                if verbose:\n",
        "                    print(f\"  ! Tesseract error on page {page.page_number}: {e}\")\n",
        "                ocr_text = \"\"\n",
        "\n",
        "            collected.append(ocr_text.strip())\n",
        "\n",
        "    return _normalize_text(\"\\n\\n\".join([t for t in collected if t]))\n",
        "result = nlp_pipeline(extract_text_with_ocr(pdf_path))"
      ]
    },
    {
      "cell_type": "code",
      "execution_count": null,
      "metadata": {
        "colab": {
          "base_uri": "https://localhost:8080/"
        },
        "id": "oUVuhEVBH6jQ",
        "outputId": "560972b5-3df8-40a7-929c-e70ec8f640e8"
      },
      "outputs": [
        {
          "name": "stdout",
          "output_type": "stream",
          "text": [
            "<function remove_boilerplate at 0x7f0fce7bfec0>\n"
          ]
        }
      ],
      "source": [
        "def remove_boilerplate(text: str) -> str:\n",
        "    lines = [ln for ln in text.splitlines() if ln.strip() and not is_boilerplate_line(ln)]\n",
        "    text = \"\\n\".join(lines)\n",
        "    return re.sub(r'\\n\\s*\\n+', '\\n\\n', text).strip()\n",
        "print(remove_boilerplate)"
      ]
    },
    {
      "cell_type": "code",
      "execution_count": null,
      "metadata": {
        "colab": {
          "base_uri": "https://localhost:8080/"
        },
        "id": "i_cv3is4QNPm",
        "outputId": "44d14c93-90c4-45f2-cd21-180cb96fcb37"
      },
      "outputs": [
        {
          "name": "stdout",
          "output_type": "stream",
          "text": [
            "<function is_boilerplate_line at 0x7f0ec79e4fe0>\n"
          ]
        }
      ],
      "source": [
        "def is_boilerplate_line(line):\n",
        "    s = line.strip()\n",
        "    if not s:\n",
        "        return True\n",
        "\n",
        "    for p in BOILERPLATE_PATTERNS:\n",
        "        if re.search(p, s, flags=re.IGNORECASE):\n",
        "            return True\n",
        "    return False\n",
        "BOILERPLATE_PATTERNS = [\n",
        "    r\"Project Madurai.*$\",\n",
        "    r\"Etext.*$\",\n",
        "    r\"^\\s*\\d+\\s*$\",\n",
        "]\n",
        "\n",
        "print(is_boilerplate_line)"
      ]
    },
    {
      "cell_type": "code",
      "execution_count": null,
      "metadata": {
        "colab": {
          "base_uri": "https://localhost:8080/"
        },
        "id": "PDVuYlAgH7dk",
        "outputId": "10cca9d4-8c60-44be-b8c9-7b087918b802"
      },
      "outputs": [
        {
          "name": "stdout",
          "output_type": "stream",
          "text": [
            "<function remove_non_tamil_chars at 0x7f0ec783f560>\n"
          ]
        }
      ],
      "source": [
        "def remove_non_tamil_chars(text):\n",
        "    out = []\n",
        "    for ch in text:\n",
        "        cp = ord(ch)\n",
        "        if (TAMIL_BLOCK[0] <= cp <= TAMIL_BLOCK[1]) \\\n",
        "           or ch.isspace() \\\n",
        "           or ch in \".,?!;:–—-()[]{}\\\"'…\":\n",
        "            out.append(ch)\n",
        "    cleaned = \"\".join(out)\n",
        "    cleaned = re.sub(r\"[ \\t]+\", \" \", cleaned)\n",
        "    cleaned = re.sub(r\"\\n\\s*\\n+\", \"\\n\\n\", cleaned)\n",
        "    return cleaned.strip()\n",
        "print(remove_non_tamil_chars)"
      ]
    },
    {
      "cell_type": "code",
      "execution_count": null,
      "metadata": {
        "colab": {
          "base_uri": "https://localhost:8080/"
        },
        "id": "tlOz5Y6yH-oz",
        "outputId": "5444c175-3372-456c-8a20-d4eeb259b5f5"
      },
      "outputs": [
        {
          "name": "stdout",
          "output_type": "stream",
          "text": [
            "<function remove_numbers_but_keep_years at 0x7f0fce7e00e0>\n"
          ]
        }
      ],
      "source": [
        "def remove_numbers_but_keep_years(text):\n",
        "    def keep_token(token):\n",
        "        # Strip punctuation around token\n",
        "        core = re.sub(r'[^\\d]', '', token)\n",
        "        if core.isdigit():\n",
        "            year = int(core)\n",
        "            return 1000 <= year <= 2100\n",
        "        return True\n",
        "\n",
        "    tokens = text.split()\n",
        "    kept = [w for w in tokens if keep_token(w)]\n",
        "    return ' '.join(kept)\n",
        "print(remove_numbers_but_keep_years)"
      ]
    },
    {
      "cell_type": "code",
      "execution_count": null,
      "metadata": {
        "id": "ISa1VhQxkTgi"
      },
      "outputs": [],
      "source": [
        "NOUN_SUFFIXES, VERB_SUFFIXES, PRONOUNS = ['க்கு', 'இல்'], ['கிறான்'], ['நான்', 'நீ']"
      ]
    },
    {
      "cell_type": "code",
      "execution_count": null,
      "metadata": {
        "colab": {
          "base_uri": "https://localhost:8080/"
        },
        "id": "YQ8LzlerQX3o",
        "outputId": "c21ffd51-7c54-43e7-cede-292ddcb3419f"
      },
      "outputs": [
        {
          "name": "stdout",
          "output_type": "stream",
          "text": [
            "<function remove_non_tamil_content at 0x7f0ec783ef20>\n"
          ]
        }
      ],
      "source": [
        "TAMIL_BLOCK = (0x0B80, 0x0BFF)\n",
        "def remove_non_tamil_content(text):\n",
        "    out = []\n",
        "    for ch in text:\n",
        "        cp = ord(ch)\n",
        "        if (TAMIL_BLOCK[0] <= cp <= TAMIL_BLOCK[1]) \\\n",
        "           or ch.isspace() \\\n",
        "           or ch in \".,?!;:–—-()[]{}\\\"'…\":\n",
        "            out.append(ch)\n",
        "    cleaned = \"\".join(out)\n",
        "    cleaned = re.sub(r\"[ \\t]+\", \" \", cleaned)\n",
        "    cleaned = re.sub(r\"\\n\\s*\\n+\", \"\\n\\n\", cleaned)\n",
        "    return cleaned.strip()\n",
        "print(remove_non_tamil_content)"
      ]
    },
    {
      "cell_type": "code",
      "execution_count": null,
      "metadata": {
        "colab": {
          "base_uri": "https://localhost:8080/"
        },
        "id": "hzs2deeAkb62",
        "outputId": "a3eb6f0b-d9b3-489d-a1d7-327718672a29"
      },
      "outputs": [
        {
          "name": "stdout",
          "output_type": "stream",
          "text": [
            "நான் -> PRONOUN\n",
            "நூலகத்தில் -> OTHER\n",
            "படிக்கிறான் -> VERB\n",
            "தமிழ் -> OTHER\n",
            "அவர்கள் -> OTHER\n"
          ]
        }
      ],
      "source": [
        "def pos_tag(token):\n",
        "    token = re.sub(r'[^\\u0B80-\\u0BFF]', '', token.strip())\n",
        "    if not token:\n",
        "        return 'OTHER'\n",
        "\n",
        "    if token in PRONOUNS:\n",
        "        return 'PRONOUN'\n",
        "    if any(token.endswith(suf) for suf in VERB_SUFFIXES):\n",
        "        return 'VERB'\n",
        "    if any(token.endswith(suf) for suf in NOUN_SUFFIXES):\n",
        "        return 'NOUN'\n",
        "    return 'OTHER'\n",
        "words = [\"நான்\", \"நூலகத்தில்\", \"படிக்கிறான்\", \"தமிழ்\", \"அவர்கள்\"]\n",
        "for w in words:\n",
        "    print(w, \"->\", pos_tag(w))"
      ]
    },
    {
      "cell_type": "code",
      "execution_count": null,
      "metadata": {
        "colab": {
          "base_uri": "https://localhost:8080/"
        },
        "id": "ZPy4tuq4keUu",
        "outputId": "85953c88-88f7-4313-aae2-4844b76eb9f8"
      },
      "outputs": [
        {
          "name": "stdout",
          "output_type": "stream",
          "text": [
            "திருவள்ளுவர் -> O\n",
            "சென்னை -> POSSIBLE_LOCATION\n",
            "நகரம் -> O\n",
            "தமிழ் -> O\n"
          ]
        }
      ],
      "source": [
        "def normalize_token(token):\n",
        "    # Keep only Tamil (\\u0B80-\\u0BFF), English letters (A-Za-z), and digits (0-9)\n",
        "    return re.sub(r'[^\\u0B80-\\u0BFFA-Za-z0-9]', '', token)\n",
        "\n",
        "def ner_tag(token: str, next_token: str = None) -> str:\n",
        "    t = normalize_token(token)\n",
        "    n = normalize_token(next_token) if next_token else None\n",
        "\n",
        "    if t in GAZETTEER_PERSONS:\n",
        "        return \"PERSON\"\n",
        "    if t in GAZETTEER_PLACES:\n",
        "        return \"LOCATION\"\n",
        "    if n in {\"நகரம்\", \"மாவட்டம்\"}:\n",
        "        return \"POSSIBLE_LOCATION\"\n",
        "    return \"O\"\n",
        "tokens = [\"திருவள்ளுவர்\", \"சென்னை\", \"நகரம்\", \"தமிழ்\"]\n",
        "for i, tok in enumerate(tokens):\n",
        "    nxt = tokens[i+1] if i+1 < len(tokens) else None\n",
        "    print(tok, \"->\", ner_tag(tok, nxt))"
      ]
    },
    {
      "cell_type": "code",
      "execution_count": null,
      "metadata": {
        "id": "VIUmrqElkgtZ"
      },
      "outputs": [],
      "source": [
        "wiki_ta = wikipediaapi.Wikipedia(user_agent='MyTamilNLPApp/1.0 (https://example.com/myappinfo)', language='ta')"
      ]
    },
    {
      "cell_type": "code",
      "execution_count": null,
      "metadata": {
        "colab": {
          "base_uri": "https://localhost:8080/"
        },
        "id": "5-R81ugNki3A",
        "outputId": "13152bbe-41c6-4adf-f911-e259e4b9653f"
      },
      "outputs": [
        {
          "name": "stdout",
          "output_type": "stream",
          "text": [
            "<function entity_link at 0x7f0fce7e07c0>\n"
          ]
        }
      ],
      "source": [
        "def entity_link(entity,fallback_to_en = True):\n",
        "    entity = entity.strip()\n",
        "    if not entity:\n",
        "        return None\n",
        "\n",
        "    try:\n",
        "        page = wiki_ta.page(entity)\n",
        "        if page.exists():\n",
        "            return {\n",
        "                \"title\": page.title,\n",
        "                \"url\": page.fullurl,\n",
        "                \"summary\": page.summary[:200] + \"...\" if page.summary else \"\"\n",
        "            }\n",
        "\n",
        "        if fallback_to_en:\n",
        "            page = wiki_en.page(entity)\n",
        "            if page.exists():\n",
        "                return {\n",
        "                    \"title\": page.title,\n",
        "                    \"url\": page.fullurl,\n",
        "                    \"summary\": page.summary[:200] + \"...\" if page.summary else \"\"\n",
        "                }\n",
        "    except Exception as e:\n",
        "        return {\"error\": str(e)}\n",
        "\n",
        "    return None\n",
        "print(entity_link)"
      ]
    },
    {
      "cell_type": "code",
      "execution_count": null,
      "metadata": {
        "id": "Qn0u7-i8klXN"
      },
      "outputs": [],
      "source": [
        "def deduplicate_sentences(sents):\n",
        "  return list(dict.fromkeys(sents))"
      ]
    },
    {
      "cell_type": "code",
      "execution_count": null,
      "metadata": {
        "id": "6b806908"
      },
      "outputs": [],
      "source": [
        "def nlp_pipeline(text):\n",
        "    text = remove_boilerplate(text)\n",
        "    text = remove_non_tamil_content(text)\n",
        "    text = remove_numbers_but_keep_years(text)\n",
        "    sentences = sentence_tokenize.sentence_split(text, lang='ta')\n",
        "    sentences = deduplicate_sentences(sentences)\n",
        "    return sentences"
      ]
    },
    {
      "cell_type": "code",
      "execution_count": null,
      "metadata": {
        "colab": {
          "base_uri": "https://localhost:8080/"
        },
        "id": "GOnNNyQkkp7-",
        "outputId": "e4737850-9c2e-4613-f358-eebd4c80defe"
      },
      "outputs": [
        {
          "name": "stdout",
          "output_type": "stream",
          "text": [
            "\n",
            "[]\n"
          ]
        }
      ],
      "source": [
        "text = extract_text_with_ocr(pdf_path)\n",
        "text = remove_boilerplate(text)\n",
        "text = remove_non_tamil(text)\n",
        "text = remove_numbers_but_keep_years(text)\n",
        "sentences = sentence_tokenize.sentence_split(text, lang='ta')\n",
        "sentences = deduplicate_sentences(sentences)"
      ]
    },
    {
      "cell_type": "code",
      "execution_count": null,
      "metadata": {
        "id": "dG18cPD4ks8q"
      },
      "outputs": [],
      "source": [
        "for sent in sentences:\n",
        "    tokens = indic_tokenize.trivial_tokenize(sent, lang='ta')\n",
        "    print(f\"\\nSentence: {sent.strip()}\")\n",
        "    for idx, tok in enumerate(tokens):\n",
        "        pos = pos_tag(tok)\n",
        "        next_tok = tokens[idx+1] if idx+1 < len(tokens) else None\n",
        "        ner = ner_tag(tok, next_tok)\n",
        "        link = entity_link(tok) if ner in ['PERSON', 'LOCATION'] else None\n",
        "        print(f\"{tok:15} | POS: {pos:8} | NER: {ner:10} | Link: {link}\")"
      ]
    },
    {
      "cell_type": "code",
      "execution_count": null,
      "metadata": {
        "id": "473661a2"
      },
      "outputs": [],
      "source": [
        "!pip install langdetect --quiet"
      ]
    },
    {
      "cell_type": "code",
      "execution_count": null,
      "metadata": {
        "id": "503b62b8"
      },
      "outputs": [],
      "source": [
        "!pip install indic-nlp-library --quiet"
      ]
    },
    {
      "cell_type": "code",
      "execution_count": null,
      "metadata": {
        "id": "BN1pMTgpku2k"
      },
      "outputs": [],
      "source": [
        "from indicnlp.tokenize.sentence_tokenize import sentence_split\n",
        "from indicnlp.tokenize.indic_tokenize import trivial_tokenize\n",
        "from indicnlp.normalize.indic_normalize import IndicNormalizerFactory\n",
        "#from indicnlp.morph.analyzer import Analyzer\n",
        "from indicnlp import common\n",
        "import unicodedata\n",
        "import re\n",
        "from langdetect import detect\n",
        "import json"
      ]
    },
    {
      "cell_type": "code",
      "execution_count": null,
      "metadata": {
        "colab": {
          "base_uri": "https://localhost:8080/"
        },
        "id": "_AUVQCaI1PiU",
        "outputId": "dfa6948d-1f0e-44e2-d5b8-f28bbf1f43fe"
      },
      "outputs": [
        {
          "name": "stdout",
          "output_type": "stream",
          "text": [
            "Collecting stanza\n",
            "  Downloading stanza-1.10.1-py3-none-any.whl.metadata (13 kB)\n",
            "Collecting emoji (from stanza)\n",
            "  Downloading emoji-2.14.1-py3-none-any.whl.metadata (5.7 kB)\n",
            "Requirement already satisfied: numpy in /usr/local/lib/python3.11/dist-packages (from stanza) (2.0.2)\n",
            "Requirement already satisfied: protobuf>=3.15.0 in /usr/local/lib/python3.11/dist-packages (from stanza) (5.29.5)\n",
            "Requirement already satisfied: requests in /usr/local/lib/python3.11/dist-packages (from stanza) (2.32.3)\n",
            "Requirement already satisfied: networkx in /usr/local/lib/python3.11/dist-packages (from stanza) (3.5)\n",
            "Requirement already satisfied: torch>=1.3.0 in /usr/local/lib/python3.11/dist-packages (from stanza) (2.6.0+cu124)\n",
            "Requirement already satisfied: tqdm in /usr/local/lib/python3.11/dist-packages (from stanza) (4.67.1)\n",
            "Requirement already satisfied: filelock in /usr/local/lib/python3.11/dist-packages (from torch>=1.3.0->stanza) (3.18.0)\n",
            "Requirement already satisfied: typing-extensions>=4.10.0 in /usr/local/lib/python3.11/dist-packages (from torch>=1.3.0->stanza) (4.14.1)\n",
            "Requirement already satisfied: jinja2 in /usr/local/lib/python3.11/dist-packages (from torch>=1.3.0->stanza) (3.1.6)\n",
            "Requirement already satisfied: fsspec in /usr/local/lib/python3.11/dist-packages (from torch>=1.3.0->stanza) (2025.3.0)\n",
            "Collecting nvidia-cuda-nvrtc-cu12==12.4.127 (from torch>=1.3.0->stanza)\n",
            "  Downloading nvidia_cuda_nvrtc_cu12-12.4.127-py3-none-manylinux2014_x86_64.whl.metadata (1.5 kB)\n",
            "Collecting nvidia-cuda-runtime-cu12==12.4.127 (from torch>=1.3.0->stanza)\n",
            "  Downloading nvidia_cuda_runtime_cu12-12.4.127-py3-none-manylinux2014_x86_64.whl.metadata (1.5 kB)\n",
            "Collecting nvidia-cuda-cupti-cu12==12.4.127 (from torch>=1.3.0->stanza)\n",
            "  Downloading nvidia_cuda_cupti_cu12-12.4.127-py3-none-manylinux2014_x86_64.whl.metadata (1.6 kB)\n",
            "Collecting nvidia-cudnn-cu12==9.1.0.70 (from torch>=1.3.0->stanza)\n",
            "  Downloading nvidia_cudnn_cu12-9.1.0.70-py3-none-manylinux2014_x86_64.whl.metadata (1.6 kB)\n",
            "Collecting nvidia-cublas-cu12==12.4.5.8 (from torch>=1.3.0->stanza)\n",
            "  Downloading nvidia_cublas_cu12-12.4.5.8-py3-none-manylinux2014_x86_64.whl.metadata (1.5 kB)\n",
            "Collecting nvidia-cufft-cu12==11.2.1.3 (from torch>=1.3.0->stanza)\n",
            "  Downloading nvidia_cufft_cu12-11.2.1.3-py3-none-manylinux2014_x86_64.whl.metadata (1.5 kB)\n",
            "Collecting nvidia-curand-cu12==10.3.5.147 (from torch>=1.3.0->stanza)\n",
            "  Downloading nvidia_curand_cu12-10.3.5.147-py3-none-manylinux2014_x86_64.whl.metadata (1.5 kB)\n",
            "Collecting nvidia-cusolver-cu12==11.6.1.9 (from torch>=1.3.0->stanza)\n",
            "  Downloading nvidia_cusolver_cu12-11.6.1.9-py3-none-manylinux2014_x86_64.whl.metadata (1.6 kB)\n",
            "Collecting nvidia-cusparse-cu12==12.3.1.170 (from torch>=1.3.0->stanza)\n",
            "  Downloading nvidia_cusparse_cu12-12.3.1.170-py3-none-manylinux2014_x86_64.whl.metadata (1.6 kB)\n",
            "Requirement already satisfied: nvidia-cusparselt-cu12==0.6.2 in /usr/local/lib/python3.11/dist-packages (from torch>=1.3.0->stanza) (0.6.2)\n",
            "Collecting nvidia-nccl-cu12==2.21.5 (from torch>=1.3.0->stanza)\n",
            "  Downloading nvidia_nccl_cu12-2.21.5-py3-none-manylinux2014_x86_64.whl.metadata (1.8 kB)\n",
            "Requirement already satisfied: nvidia-nvtx-cu12==12.4.127 in /usr/local/lib/python3.11/dist-packages (from torch>=1.3.0->stanza) (12.4.127)\n",
            "Collecting nvidia-nvjitlink-cu12==12.4.127 (from torch>=1.3.0->stanza)\n",
            "  Downloading nvidia_nvjitlink_cu12-12.4.127-py3-none-manylinux2014_x86_64.whl.metadata (1.5 kB)\n",
            "Requirement already satisfied: triton==3.2.0 in /usr/local/lib/python3.11/dist-packages (from torch>=1.3.0->stanza) (3.2.0)\n",
            "Requirement already satisfied: sympy==1.13.1 in /usr/local/lib/python3.11/dist-packages (from torch>=1.3.0->stanza) (1.13.1)\n",
            "Requirement already satisfied: mpmath<1.4,>=1.1.0 in /usr/local/lib/python3.11/dist-packages (from sympy==1.13.1->torch>=1.3.0->stanza) (1.3.0)\n",
            "Requirement already satisfied: charset-normalizer<4,>=2 in /usr/local/lib/python3.11/dist-packages (from requests->stanza) (3.4.3)\n",
            "Requirement already satisfied: idna<4,>=2.5 in /usr/local/lib/python3.11/dist-packages (from requests->stanza) (3.10)\n",
            "Requirement already satisfied: urllib3<3,>=1.21.1 in /usr/local/lib/python3.11/dist-packages (from requests->stanza) (2.5.0)\n",
            "Requirement already satisfied: certifi>=2017.4.17 in /usr/local/lib/python3.11/dist-packages (from requests->stanza) (2025.8.3)\n",
            "Requirement already satisfied: MarkupSafe>=2.0 in /usr/local/lib/python3.11/dist-packages (from jinja2->torch>=1.3.0->stanza) (3.0.2)\n",
            "Downloading stanza-1.10.1-py3-none-any.whl (1.1 MB)\n",
            "\u001b[2K   \u001b[90m━━━━━━━━━━━━━━━━━━━━━━━━━━━━━━━━━━━━━━━━\u001b[0m \u001b[32m1.1/1.1 MB\u001b[0m \u001b[31m13.2 MB/s\u001b[0m eta \u001b[36m0:00:00\u001b[0m\n",
            "\u001b[?25hDownloading nvidia_cublas_cu12-12.4.5.8-py3-none-manylinux2014_x86_64.whl (363.4 MB)\n",
            "\u001b[2K   \u001b[90m━━━━━━━━━━━━━━━━━━━━━━━━━━━━━━━━━━━━━━━━\u001b[0m \u001b[32m363.4/363.4 MB\u001b[0m \u001b[31m4.9 MB/s\u001b[0m eta \u001b[36m0:00:00\u001b[0m\n",
            "\u001b[?25hDownloading nvidia_cuda_cupti_cu12-12.4.127-py3-none-manylinux2014_x86_64.whl (13.8 MB)\n",
            "\u001b[2K   \u001b[90m━━━━━━━━━━━━━━━━━━━━━━━━━━━━━━━━━━━━━━━━\u001b[0m \u001b[32m13.8/13.8 MB\u001b[0m \u001b[31m88.2 MB/s\u001b[0m eta \u001b[36m0:00:00\u001b[0m\n",
            "\u001b[?25hDownloading nvidia_cuda_nvrtc_cu12-12.4.127-py3-none-manylinux2014_x86_64.whl (24.6 MB)\n",
            "\u001b[2K   \u001b[90m━━━━━━━━━━━━━━━━━━━━━━━━━━━━━━━━━━━━━━━━\u001b[0m \u001b[32m24.6/24.6 MB\u001b[0m \u001b[31m30.7 MB/s\u001b[0m eta \u001b[36m0:00:00\u001b[0m\n",
            "\u001b[?25hDownloading nvidia_cuda_runtime_cu12-12.4.127-py3-none-manylinux2014_x86_64.whl (883 kB)\n",
            "\u001b[2K   \u001b[90m━━━━━━━━━━━━━━━━━━━━━━━━━━━━━━━━━━━━━━━━\u001b[0m \u001b[32m883.7/883.7 kB\u001b[0m \u001b[31m47.2 MB/s\u001b[0m eta \u001b[36m0:00:00\u001b[0m\n",
            "\u001b[?25hDownloading nvidia_cudnn_cu12-9.1.0.70-py3-none-manylinux2014_x86_64.whl (664.8 MB)\n",
            "\u001b[2K   \u001b[90m━━━━━━━━━━━━━━━━━━━━━━━━━━━━━━━━━━━━━━━━\u001b[0m \u001b[32m664.8/664.8 MB\u001b[0m \u001b[31m2.2 MB/s\u001b[0m eta \u001b[36m0:00:00\u001b[0m\n",
            "\u001b[?25hDownloading nvidia_cufft_cu12-11.2.1.3-py3-none-manylinux2014_x86_64.whl (211.5 MB)\n",
            "\u001b[2K   \u001b[90m━━━━━━━━━━━━━━━━━━━━━━━━━━━━━━━━━━━━━━━━\u001b[0m \u001b[32m211.5/211.5 MB\u001b[0m \u001b[31m5.9 MB/s\u001b[0m eta \u001b[36m0:00:00\u001b[0m\n",
            "\u001b[?25hDownloading nvidia_curand_cu12-10.3.5.147-py3-none-manylinux2014_x86_64.whl (56.3 MB)\n",
            "\u001b[2K   \u001b[90m━━━━━━━━━━━━━━━━━━━━━━━━━━━━━━━━━━━━━━━━\u001b[0m \u001b[32m56.3/56.3 MB\u001b[0m \u001b[31m12.6 MB/s\u001b[0m eta \u001b[36m0:00:00\u001b[0m\n",
            "\u001b[?25hDownloading nvidia_cusolver_cu12-11.6.1.9-py3-none-manylinux2014_x86_64.whl (127.9 MB)\n",
            "\u001b[2K   \u001b[90m━━━━━━━━━━━━━━━━━━━━━━━━━━━━━━━━━━━━━━━━\u001b[0m \u001b[32m127.9/127.9 MB\u001b[0m \u001b[31m7.3 MB/s\u001b[0m eta \u001b[36m0:00:00\u001b[0m\n",
            "\u001b[?25hDownloading nvidia_cusparse_cu12-12.3.1.170-py3-none-manylinux2014_x86_64.whl (207.5 MB)\n",
            "\u001b[2K   \u001b[90m━━━━━━━━━━━━━━━━━━━━━━━━━━━━━━━━━━━━━━━━\u001b[0m \u001b[32m207.5/207.5 MB\u001b[0m \u001b[31m5.8 MB/s\u001b[0m eta \u001b[36m0:00:00\u001b[0m\n",
            "\u001b[?25hDownloading nvidia_nccl_cu12-2.21.5-py3-none-manylinux2014_x86_64.whl (188.7 MB)\n",
            "\u001b[2K   \u001b[90m━━━━━━━━━━━━━━━━━━━━━━━━━━━━━━━━━━━━━━━━\u001b[0m \u001b[32m188.7/188.7 MB\u001b[0m \u001b[31m6.4 MB/s\u001b[0m eta \u001b[36m0:00:00\u001b[0m\n",
            "\u001b[?25hDownloading nvidia_nvjitlink_cu12-12.4.127-py3-none-manylinux2014_x86_64.whl (21.1 MB)\n",
            "\u001b[2K   \u001b[90m━━━━━━━━━━━━━━━━━━━━━━━━━━━━━━━━━━━━━━━━\u001b[0m \u001b[32m21.1/21.1 MB\u001b[0m \u001b[31m88.3 MB/s\u001b[0m eta \u001b[36m0:00:00\u001b[0m\n",
            "\u001b[?25hDownloading emoji-2.14.1-py3-none-any.whl (590 kB)\n",
            "\u001b[2K   \u001b[90m━━━━━━━━━━━━━━━━━━━━━━━━━━━━━━━━━━━━━━━━\u001b[0m \u001b[32m590.6/590.6 kB\u001b[0m \u001b[31m34.0 MB/s\u001b[0m eta \u001b[36m0:00:00\u001b[0m\n",
            "\u001b[?25hInstalling collected packages: nvidia-nvjitlink-cu12, nvidia-nccl-cu12, nvidia-curand-cu12, nvidia-cufft-cu12, nvidia-cuda-runtime-cu12, nvidia-cuda-nvrtc-cu12, nvidia-cuda-cupti-cu12, nvidia-cublas-cu12, emoji, nvidia-cusparse-cu12, nvidia-cudnn-cu12, nvidia-cusolver-cu12, stanza\n",
            "  Attempting uninstall: nvidia-nvjitlink-cu12\n",
            "    Found existing installation: nvidia-nvjitlink-cu12 12.5.82\n",
            "    Uninstalling nvidia-nvjitlink-cu12-12.5.82:\n",
            "      Successfully uninstalled nvidia-nvjitlink-cu12-12.5.82\n",
            "  Attempting uninstall: nvidia-nccl-cu12\n",
            "    Found existing installation: nvidia-nccl-cu12 2.23.4\n",
            "    Uninstalling nvidia-nccl-cu12-2.23.4:\n",
            "      Successfully uninstalled nvidia-nccl-cu12-2.23.4\n",
            "  Attempting uninstall: nvidia-curand-cu12\n",
            "    Found existing installation: nvidia-curand-cu12 10.3.6.82\n",
            "    Uninstalling nvidia-curand-cu12-10.3.6.82:\n",
            "      Successfully uninstalled nvidia-curand-cu12-10.3.6.82\n",
            "  Attempting uninstall: nvidia-cufft-cu12\n",
            "    Found existing installation: nvidia-cufft-cu12 11.2.3.61\n",
            "    Uninstalling nvidia-cufft-cu12-11.2.3.61:\n",
            "      Successfully uninstalled nvidia-cufft-cu12-11.2.3.61\n",
            "  Attempting uninstall: nvidia-cuda-runtime-cu12\n",
            "    Found existing installation: nvidia-cuda-runtime-cu12 12.5.82\n",
            "    Uninstalling nvidia-cuda-runtime-cu12-12.5.82:\n",
            "      Successfully uninstalled nvidia-cuda-runtime-cu12-12.5.82\n",
            "  Attempting uninstall: nvidia-cuda-nvrtc-cu12\n",
            "    Found existing installation: nvidia-cuda-nvrtc-cu12 12.5.82\n",
            "    Uninstalling nvidia-cuda-nvrtc-cu12-12.5.82:\n",
            "      Successfully uninstalled nvidia-cuda-nvrtc-cu12-12.5.82\n",
            "  Attempting uninstall: nvidia-cuda-cupti-cu12\n",
            "    Found existing installation: nvidia-cuda-cupti-cu12 12.5.82\n",
            "    Uninstalling nvidia-cuda-cupti-cu12-12.5.82:\n",
            "      Successfully uninstalled nvidia-cuda-cupti-cu12-12.5.82\n",
            "  Attempting uninstall: nvidia-cublas-cu12\n",
            "    Found existing installation: nvidia-cublas-cu12 12.5.3.2\n",
            "    Uninstalling nvidia-cublas-cu12-12.5.3.2:\n",
            "      Successfully uninstalled nvidia-cublas-cu12-12.5.3.2\n",
            "  Attempting uninstall: nvidia-cusparse-cu12\n",
            "    Found existing installation: nvidia-cusparse-cu12 12.5.1.3\n",
            "    Uninstalling nvidia-cusparse-cu12-12.5.1.3:\n",
            "      Successfully uninstalled nvidia-cusparse-cu12-12.5.1.3\n",
            "  Attempting uninstall: nvidia-cudnn-cu12\n",
            "    Found existing installation: nvidia-cudnn-cu12 9.3.0.75\n",
            "    Uninstalling nvidia-cudnn-cu12-9.3.0.75:\n",
            "      Successfully uninstalled nvidia-cudnn-cu12-9.3.0.75\n",
            "  Attempting uninstall: nvidia-cusolver-cu12\n",
            "    Found existing installation: nvidia-cusolver-cu12 11.6.3.83\n",
            "    Uninstalling nvidia-cusolver-cu12-11.6.3.83:\n",
            "      Successfully uninstalled nvidia-cusolver-cu12-11.6.3.83\n",
            "Successfully installed emoji-2.14.1 nvidia-cublas-cu12-12.4.5.8 nvidia-cuda-cupti-cu12-12.4.127 nvidia-cuda-nvrtc-cu12-12.4.127 nvidia-cuda-runtime-cu12-12.4.127 nvidia-cudnn-cu12-9.1.0.70 nvidia-cufft-cu12-11.2.1.3 nvidia-curand-cu12-10.3.5.147 nvidia-cusolver-cu12-11.6.1.9 nvidia-cusparse-cu12-12.3.1.170 nvidia-nccl-cu12-2.21.5 nvidia-nvjitlink-cu12-12.4.127 stanza-1.10.1\n"
          ]
        }
      ],
      "source": [
        "!pip install stanza"
      ]
    },
    {
      "cell_type": "code",
      "execution_count": null,
      "metadata": {
        "colab": {
          "base_uri": "https://localhost:8080/",
          "height": 616,
          "referenced_widgets": [
            "63b4bc53bf9b4db89d4b7ed7d1a14f53",
            "fae5cd60b63a4ec7aec71f0388016735",
            "5b2eaddcf2f649a0a93e7280bc47f699",
            "6b9690b46ac743ba888df8e1fa83c4e1",
            "a5912136366e433599b9c62b8a023d5d",
            "6f78edac4ea54740bc51987f22a66a29",
            "bd1e75903e004fe98d33f30b2bb47764",
            "1227481b558b42249c34aefaf7f70bc5",
            "0fa0493812ff4849979fee853a098616",
            "fc2f762efe7445e981a284293ccfa054",
            "77841cadfb5142569ef70b58555e212c",
            "7dac1bd9c15b4534bd4cd62bd89fa407",
            "3973ee16a34d4e2289a904764dd9f089",
            "36ce3a11aebc4b6288077e8c9d79672e",
            "14c32dac333f42439486057899f74114",
            "a988cae5fb784d1fa81d4f4217fff107",
            "51abdbfb1b864612aabc5568c020d08c",
            "16ba0d3e195847c48109ccebb4359ad6",
            "52ed88a610dc40abac942201c3947699",
            "6a829318434d4132897bab9c5fb6c7a2",
            "14c1e1aa1494420ca2039d49174cf38d",
            "956ed04745cf43ffa8a08f8a0737338f",
            "acf3edfb44d24f5da732aea17a4f29e0",
            "0d81036d752c4c00b9a4e9d058f88497",
            "d5878b86e0e84f4a80f27b4c128917ac",
            "8f26b2f5cb5449bcbae136fa5cafbe8c",
            "bc4484fe7e1c404390eaa240ad5af2b7",
            "2c88aac4d1424f2cbf3767e1a6f26957",
            "dd77050fb1d049e7bf458a81cd4d609b",
            "d2eb94613de846bd89230a9ff96cfe2a",
            "28f2410bf4f347d691020cada3001a76",
            "d69b5f7dd7484ac29bc454af1660fa13",
            "18b3b20e00c94f3cbbf3fc77359a8511"
          ]
        },
        "id": "NFnnhLZy1OaA",
        "outputId": "196d064c-8471-46c0-ca39-af826e87f587"
      },
      "outputs": [
        {
          "data": {
            "application/vnd.jupyter.widget-view+json": {
              "model_id": "63b4bc53bf9b4db89d4b7ed7d1a14f53",
              "version_major": 2,
              "version_minor": 0
            },
            "text/plain": [
              "Downloading https://raw.githubusercontent.com/stanfordnlp/stanza-resources/main/resources_1.10.0.json:   0%|  …"
            ]
          },
          "metadata": {},
          "output_type": "display_data"
        },
        {
          "name": "stderr",
          "output_type": "stream",
          "text": [
            "INFO:stanza:Downloaded file to /root/stanza_resources/resources.json\n",
            "INFO:stanza:Downloading default packages for language: ta (Tamil) ...\n"
          ]
        },
        {
          "data": {
            "application/vnd.jupyter.widget-view+json": {
              "model_id": "7dac1bd9c15b4534bd4cd62bd89fa407",
              "version_major": 2,
              "version_minor": 0
            },
            "text/plain": [
              "Downloading https://huggingface.co/stanfordnlp/stanza-ta/resolve/v1.10.0/models/default.zip:   0%|          | …"
            ]
          },
          "metadata": {},
          "output_type": "display_data"
        },
        {
          "name": "stderr",
          "output_type": "stream",
          "text": [
            "INFO:stanza:Downloaded file to /root/stanza_resources/ta/default.zip\n",
            "INFO:stanza:Finished downloading models and saved to /root/stanza_resources\n",
            "INFO:stanza:Checking for updates to resources.json in case models have been updated.  Note: this behavior can be turned off with download_method=None or download_method=DownloadMethod.REUSE_RESOURCES\n"
          ]
        },
        {
          "data": {
            "application/vnd.jupyter.widget-view+json": {
              "model_id": "acf3edfb44d24f5da732aea17a4f29e0",
              "version_major": 2,
              "version_minor": 0
            },
            "text/plain": [
              "Downloading https://raw.githubusercontent.com/stanfordnlp/stanza-resources/main/resources_1.10.0.json:   0%|  …"
            ]
          },
          "metadata": {},
          "output_type": "display_data"
        },
        {
          "name": "stderr",
          "output_type": "stream",
          "text": [
            "INFO:stanza:Downloaded file to /root/stanza_resources/resources.json\n",
            "WARNING:stanza:Language ta package default expects mwt, which has been added\n",
            "INFO:stanza:Loading these models for language: ta (Tamil):\n",
            "============================\n",
            "| Processor | Package      |\n",
            "----------------------------\n",
            "| tokenize  | ttb          |\n",
            "| mwt       | ttb          |\n",
            "| pos       | ttb_nocharlm |\n",
            "| lemma     | ttb_nocharlm |\n",
            "============================\n",
            "\n",
            "INFO:stanza:Using device: cpu\n",
            "INFO:stanza:Loading: tokenize\n",
            "INFO:stanza:Loading: mwt\n",
            "INFO:stanza:Loading: pos\n",
            "INFO:stanza:Loading: lemma\n",
            "INFO:stanza:Done loading processors!\n"
          ]
        }
      ],
      "source": [
        "import stanza\n",
        "stanza.download('ta')\n",
        "nlp = stanza.Pipeline('ta', processors='tokenize,pos,lemma', use_gpu=False)\n",
        "\n",
        "def lemmatize_tamil(text):\n",
        "    doc = nlp(text)\n",
        "    lemmas = []\n",
        "    for sentence in doc.sentences:\n",
        "        for word in sentence.words:\n",
        "            lemmas.append(word.lemma)\n",
        "    return lemmas"
      ]
    },
    {
      "cell_type": "code",
      "execution_count": null,
      "metadata": {
        "colab": {
          "base_uri": "https://localhost:8080/"
        },
        "id": "gp9NKXTD12xg",
        "outputId": "53b3faac-fd29-4de3-8ff4-971eedcc08f9"
      },
      "outputs": [
        {
          "name": "stdout",
          "output_type": "stream",
          "text": [
            "['அவன்', 'சிறந்த', 'பாடு', 'எழுது']\n"
          ]
        }
      ],
      "source": [
        "text = \"அவன் சிறந்த பாடல்கள் எழுதுகிறான்\"\n",
        "print(lemmatize_tamil(text))"
      ]
    },
    {
      "cell_type": "code",
      "execution_count": null,
      "metadata": {
        "id": "epkFhIF4Xqn_"
      },
      "outputs": [],
      "source": [
        "INDICNLP_RESOURCES = \"/path/to/indicnlp/resources\"\n",
        "common.set_resources_path(INDICNLP_RESOURCES)\n",
        "#analyzer = Analyzer(\"ta\", INDICNLP_RESOURCES + \"/morph/ta/\")"
      ]
    },
    {
      "cell_type": "code",
      "execution_count": null,
      "metadata": {
        "id": "B8fFnBZAXvgd"
      },
      "outputs": [],
      "source": [
        "# Tamil range regex\n",
        "tamil_range = re.compile(r'[\\u0B80-\\u0BFF]+')"
      ]
    },
    {
      "cell_type": "code",
      "execution_count": null,
      "metadata": {
        "id": "V_2QuPGcXxWt"
      },
      "outputs": [],
      "source": [
        "# Tamil stopwords (example subset)\n",
        "stopwords_ta = set(['ஒரு', 'என்று', 'இந்த', 'மற்றும்', 'இது'])"
      ]
    },
    {
      "cell_type": "code",
      "execution_count": null,
      "metadata": {
        "id": "8gmLkAeOXzOF"
      },
      "outputs": [],
      "source": [
        "def clean_and_process(text):\n",
        "    text = unicodedata.normalize('NFKC', text)\n",
        "    if not tamil_range.search(text):\n",
        "      return None\n",
        "    try:\n",
        "      if detect(text) != 'ta':\n",
        "        return None\n",
        "    except:\n",
        "      return None\n",
        "    sentences = sentence_split(text, lang='ta')\n",
        "    cleaned_sentences = []\n",
        "\n",
        "    for sent in sentences:\n",
        "        # Word tokenize\n",
        "        words = trivial_tokenize(sent)\n",
        "        words = [w for w in words if w not in stopwords_ta]\n",
        "\n",
        "        lemmatized = []\n",
        "        for word in words:\n",
        "            # Without Analyzer, just keep the word\n",
        "            lemmatized.append(word)\n",
        "\n",
        "        if lemmatized:\n",
        "            cleaned_sentences.append(\" \".join(lemmatized))\n",
        "\n",
        "    return cleaned_sentences"
      ]
    },
    {
      "cell_type": "code",
      "execution_count": null,
      "metadata": {
        "id": "Z9ZTyEYmYVK0"
      },
      "outputs": [],
      "source": [
        "input_text = \"அவன் ஒரு சிறந்த வீரன். அவன் போரில் வெற்றி பெற்றான்.\""
      ]
    },
    {
      "cell_type": "code",
      "execution_count": null,
      "metadata": {
        "id": "TrtHco4SYXCu"
      },
      "outputs": [],
      "source": [
        "output = clean_and_process(input_text)"
      ]
    },
    {
      "cell_type": "code",
      "execution_count": null,
      "metadata": {
        "colab": {
          "base_uri": "https://localhost:8080/"
        },
        "id": "wOcM4jDRYYKB",
        "outputId": "2972a296-9cca-40b1-e012-0021b1fb605d"
      },
      "outputs": [
        {
          "name": "stdout",
          "output_type": "stream",
          "text": [
            "['அவன் சிறந்த வீரன் .', 'அவன் போரில் வெற்றி பெற்றான் .']\n"
          ]
        }
      ],
      "source": [
        "print(output)"
      ]
    },
    {
      "cell_type": "code",
      "execution_count": null,
      "metadata": {
        "id": "aUAvvc73VGf5"
      },
      "outputs": [],
      "source": []
    }
  ],
  "metadata": {
    "colab": {
      "gpuType": "T4",
      "provenance": []
    },
    "kernelspec": {
      "display_name": "Python 3",
      "name": "python3"
    },
    "language_info": {
      "name": "python"
    },
    "widgets": {
      "application/vnd.jupyter.widget-state+json": {
        "0d81036d752c4c00b9a4e9d058f88497": {
          "model_module": "@jupyter-widgets/controls",
          "model_module_version": "1.5.0",
          "model_name": "HTMLModel",
          "state": {
            "_dom_classes": [],
            "_model_module": "@jupyter-widgets/controls",
            "_model_module_version": "1.5.0",
            "_model_name": "HTMLModel",
            "_view_count": null,
            "_view_module": "@jupyter-widgets/controls",
            "_view_module_version": "1.5.0",
            "_view_name": "HTMLView",
            "description": "",
            "description_tooltip": null,
            "layout": "IPY_MODEL_2c88aac4d1424f2cbf3767e1a6f26957",
            "placeholder": "​",
            "style": "IPY_MODEL_dd77050fb1d049e7bf458a81cd4d609b",
            "value": "Downloading https://raw.githubusercontent.com/stanfordnlp/stanza-resources/main/resources_1.10.0.json: "
          }
        },
        "0fa0493812ff4849979fee853a098616": {
          "model_module": "@jupyter-widgets/controls",
          "model_module_version": "1.5.0",
          "model_name": "ProgressStyleModel",
          "state": {
            "_model_module": "@jupyter-widgets/controls",
            "_model_module_version": "1.5.0",
            "_model_name": "ProgressStyleModel",
            "_view_count": null,
            "_view_module": "@jupyter-widgets/base",
            "_view_module_version": "1.2.0",
            "_view_name": "StyleView",
            "bar_color": null,
            "description_width": ""
          }
        },
        "1227481b558b42249c34aefaf7f70bc5": {
          "model_module": "@jupyter-widgets/base",
          "model_module_version": "1.2.0",
          "model_name": "LayoutModel",
          "state": {
            "_model_module": "@jupyter-widgets/base",
            "_model_module_version": "1.2.0",
            "_model_name": "LayoutModel",
            "_view_count": null,
            "_view_module": "@jupyter-widgets/base",
            "_view_module_version": "1.2.0",
            "_view_name": "LayoutView",
            "align_content": null,
            "align_items": null,
            "align_self": null,
            "border": null,
            "bottom": null,
            "display": null,
            "flex": null,
            "flex_flow": null,
            "grid_area": null,
            "grid_auto_columns": null,
            "grid_auto_flow": null,
            "grid_auto_rows": null,
            "grid_column": null,
            "grid_gap": null,
            "grid_row": null,
            "grid_template_areas": null,
            "grid_template_columns": null,
            "grid_template_rows": null,
            "height": null,
            "justify_content": null,
            "justify_items": null,
            "left": null,
            "margin": null,
            "max_height": null,
            "max_width": null,
            "min_height": null,
            "min_width": null,
            "object_fit": null,
            "object_position": null,
            "order": null,
            "overflow": null,
            "overflow_x": null,
            "overflow_y": null,
            "padding": null,
            "right": null,
            "top": null,
            "visibility": null,
            "width": null
          }
        },
        "14c1e1aa1494420ca2039d49174cf38d": {
          "model_module": "@jupyter-widgets/base",
          "model_module_version": "1.2.0",
          "model_name": "LayoutModel",
          "state": {
            "_model_module": "@jupyter-widgets/base",
            "_model_module_version": "1.2.0",
            "_model_name": "LayoutModel",
            "_view_count": null,
            "_view_module": "@jupyter-widgets/base",
            "_view_module_version": "1.2.0",
            "_view_name": "LayoutView",
            "align_content": null,
            "align_items": null,
            "align_self": null,
            "border": null,
            "bottom": null,
            "display": null,
            "flex": null,
            "flex_flow": null,
            "grid_area": null,
            "grid_auto_columns": null,
            "grid_auto_flow": null,
            "grid_auto_rows": null,
            "grid_column": null,
            "grid_gap": null,
            "grid_row": null,
            "grid_template_areas": null,
            "grid_template_columns": null,
            "grid_template_rows": null,
            "height": null,
            "justify_content": null,
            "justify_items": null,
            "left": null,
            "margin": null,
            "max_height": null,
            "max_width": null,
            "min_height": null,
            "min_width": null,
            "object_fit": null,
            "object_position": null,
            "order": null,
            "overflow": null,
            "overflow_x": null,
            "overflow_y": null,
            "padding": null,
            "right": null,
            "top": null,
            "visibility": null,
            "width": null
          }
        },
        "14c32dac333f42439486057899f74114": {
          "model_module": "@jupyter-widgets/controls",
          "model_module_version": "1.5.0",
          "model_name": "HTMLModel",
          "state": {
            "_dom_classes": [],
            "_model_module": "@jupyter-widgets/controls",
            "_model_module_version": "1.5.0",
            "_model_name": "HTMLModel",
            "_view_count": null,
            "_view_module": "@jupyter-widgets/controls",
            "_view_module_version": "1.5.0",
            "_view_name": "HTMLView",
            "description": "",
            "description_tooltip": null,
            "layout": "IPY_MODEL_14c1e1aa1494420ca2039d49174cf38d",
            "placeholder": "​",
            "style": "IPY_MODEL_956ed04745cf43ffa8a08f8a0737338f",
            "value": " 377M/377M [00:01&lt;00:00, 224MB/s]"
          }
        },
        "16ba0d3e195847c48109ccebb4359ad6": {
          "model_module": "@jupyter-widgets/controls",
          "model_module_version": "1.5.0",
          "model_name": "DescriptionStyleModel",
          "state": {
            "_model_module": "@jupyter-widgets/controls",
            "_model_module_version": "1.5.0",
            "_model_name": "DescriptionStyleModel",
            "_view_count": null,
            "_view_module": "@jupyter-widgets/base",
            "_view_module_version": "1.2.0",
            "_view_name": "StyleView",
            "description_width": ""
          }
        },
        "18b3b20e00c94f3cbbf3fc77359a8511": {
          "model_module": "@jupyter-widgets/controls",
          "model_module_version": "1.5.0",
          "model_name": "DescriptionStyleModel",
          "state": {
            "_model_module": "@jupyter-widgets/controls",
            "_model_module_version": "1.5.0",
            "_model_name": "DescriptionStyleModel",
            "_view_count": null,
            "_view_module": "@jupyter-widgets/base",
            "_view_module_version": "1.2.0",
            "_view_name": "StyleView",
            "description_width": ""
          }
        },
        "28f2410bf4f347d691020cada3001a76": {
          "model_module": "@jupyter-widgets/controls",
          "model_module_version": "1.5.0",
          "model_name": "ProgressStyleModel",
          "state": {
            "_model_module": "@jupyter-widgets/controls",
            "_model_module_version": "1.5.0",
            "_model_name": "ProgressStyleModel",
            "_view_count": null,
            "_view_module": "@jupyter-widgets/base",
            "_view_module_version": "1.2.0",
            "_view_name": "StyleView",
            "bar_color": null,
            "description_width": ""
          }
        },
        "2c88aac4d1424f2cbf3767e1a6f26957": {
          "model_module": "@jupyter-widgets/base",
          "model_module_version": "1.2.0",
          "model_name": "LayoutModel",
          "state": {
            "_model_module": "@jupyter-widgets/base",
            "_model_module_version": "1.2.0",
            "_model_name": "LayoutModel",
            "_view_count": null,
            "_view_module": "@jupyter-widgets/base",
            "_view_module_version": "1.2.0",
            "_view_name": "LayoutView",
            "align_content": null,
            "align_items": null,
            "align_self": null,
            "border": null,
            "bottom": null,
            "display": null,
            "flex": null,
            "flex_flow": null,
            "grid_area": null,
            "grid_auto_columns": null,
            "grid_auto_flow": null,
            "grid_auto_rows": null,
            "grid_column": null,
            "grid_gap": null,
            "grid_row": null,
            "grid_template_areas": null,
            "grid_template_columns": null,
            "grid_template_rows": null,
            "height": null,
            "justify_content": null,
            "justify_items": null,
            "left": null,
            "margin": null,
            "max_height": null,
            "max_width": null,
            "min_height": null,
            "min_width": null,
            "object_fit": null,
            "object_position": null,
            "order": null,
            "overflow": null,
            "overflow_x": null,
            "overflow_y": null,
            "padding": null,
            "right": null,
            "top": null,
            "visibility": null,
            "width": null
          }
        },
        "36ce3a11aebc4b6288077e8c9d79672e": {
          "model_module": "@jupyter-widgets/controls",
          "model_module_version": "1.5.0",
          "model_name": "FloatProgressModel",
          "state": {
            "_dom_classes": [],
            "_model_module": "@jupyter-widgets/controls",
            "_model_module_version": "1.5.0",
            "_model_name": "FloatProgressModel",
            "_view_count": null,
            "_view_module": "@jupyter-widgets/controls",
            "_view_module_version": "1.5.0",
            "_view_name": "ProgressView",
            "bar_style": "success",
            "description": "",
            "description_tooltip": null,
            "layout": "IPY_MODEL_52ed88a610dc40abac942201c3947699",
            "max": 376573553,
            "min": 0,
            "orientation": "horizontal",
            "style": "IPY_MODEL_6a829318434d4132897bab9c5fb6c7a2",
            "value": 376573553
          }
        },
        "3973ee16a34d4e2289a904764dd9f089": {
          "model_module": "@jupyter-widgets/controls",
          "model_module_version": "1.5.0",
          "model_name": "HTMLModel",
          "state": {
            "_dom_classes": [],
            "_model_module": "@jupyter-widgets/controls",
            "_model_module_version": "1.5.0",
            "_model_name": "HTMLModel",
            "_view_count": null,
            "_view_module": "@jupyter-widgets/controls",
            "_view_module_version": "1.5.0",
            "_view_name": "HTMLView",
            "description": "",
            "description_tooltip": null,
            "layout": "IPY_MODEL_51abdbfb1b864612aabc5568c020d08c",
            "placeholder": "​",
            "style": "IPY_MODEL_16ba0d3e195847c48109ccebb4359ad6",
            "value": "Downloading https://huggingface.co/stanfordnlp/stanza-ta/resolve/v1.10.0/models/default.zip: 100%"
          }
        },
        "51abdbfb1b864612aabc5568c020d08c": {
          "model_module": "@jupyter-widgets/base",
          "model_module_version": "1.2.0",
          "model_name": "LayoutModel",
          "state": {
            "_model_module": "@jupyter-widgets/base",
            "_model_module_version": "1.2.0",
            "_model_name": "LayoutModel",
            "_view_count": null,
            "_view_module": "@jupyter-widgets/base",
            "_view_module_version": "1.2.0",
            "_view_name": "LayoutView",
            "align_content": null,
            "align_items": null,
            "align_self": null,
            "border": null,
            "bottom": null,
            "display": null,
            "flex": null,
            "flex_flow": null,
            "grid_area": null,
            "grid_auto_columns": null,
            "grid_auto_flow": null,
            "grid_auto_rows": null,
            "grid_column": null,
            "grid_gap": null,
            "grid_row": null,
            "grid_template_areas": null,
            "grid_template_columns": null,
            "grid_template_rows": null,
            "height": null,
            "justify_content": null,
            "justify_items": null,
            "left": null,
            "margin": null,
            "max_height": null,
            "max_width": null,
            "min_height": null,
            "min_width": null,
            "object_fit": null,
            "object_position": null,
            "order": null,
            "overflow": null,
            "overflow_x": null,
            "overflow_y": null,
            "padding": null,
            "right": null,
            "top": null,
            "visibility": null,
            "width": null
          }
        },
        "52ed88a610dc40abac942201c3947699": {
          "model_module": "@jupyter-widgets/base",
          "model_module_version": "1.2.0",
          "model_name": "LayoutModel",
          "state": {
            "_model_module": "@jupyter-widgets/base",
            "_model_module_version": "1.2.0",
            "_model_name": "LayoutModel",
            "_view_count": null,
            "_view_module": "@jupyter-widgets/base",
            "_view_module_version": "1.2.0",
            "_view_name": "LayoutView",
            "align_content": null,
            "align_items": null,
            "align_self": null,
            "border": null,
            "bottom": null,
            "display": null,
            "flex": null,
            "flex_flow": null,
            "grid_area": null,
            "grid_auto_columns": null,
            "grid_auto_flow": null,
            "grid_auto_rows": null,
            "grid_column": null,
            "grid_gap": null,
            "grid_row": null,
            "grid_template_areas": null,
            "grid_template_columns": null,
            "grid_template_rows": null,
            "height": null,
            "justify_content": null,
            "justify_items": null,
            "left": null,
            "margin": null,
            "max_height": null,
            "max_width": null,
            "min_height": null,
            "min_width": null,
            "object_fit": null,
            "object_position": null,
            "order": null,
            "overflow": null,
            "overflow_x": null,
            "overflow_y": null,
            "padding": null,
            "right": null,
            "top": null,
            "visibility": null,
            "width": null
          }
        },
        "5b2eaddcf2f649a0a93e7280bc47f699": {
          "model_module": "@jupyter-widgets/controls",
          "model_module_version": "1.5.0",
          "model_name": "FloatProgressModel",
          "state": {
            "_dom_classes": [],
            "_model_module": "@jupyter-widgets/controls",
            "_model_module_version": "1.5.0",
            "_model_name": "FloatProgressModel",
            "_view_count": null,
            "_view_module": "@jupyter-widgets/controls",
            "_view_module_version": "1.5.0",
            "_view_name": "ProgressView",
            "bar_style": "success",
            "description": "",
            "description_tooltip": null,
            "layout": "IPY_MODEL_1227481b558b42249c34aefaf7f70bc5",
            "max": 53539,
            "min": 0,
            "orientation": "horizontal",
            "style": "IPY_MODEL_0fa0493812ff4849979fee853a098616",
            "value": 53539
          }
        },
        "63b4bc53bf9b4db89d4b7ed7d1a14f53": {
          "model_module": "@jupyter-widgets/controls",
          "model_module_version": "1.5.0",
          "model_name": "HBoxModel",
          "state": {
            "_dom_classes": [],
            "_model_module": "@jupyter-widgets/controls",
            "_model_module_version": "1.5.0",
            "_model_name": "HBoxModel",
            "_view_count": null,
            "_view_module": "@jupyter-widgets/controls",
            "_view_module_version": "1.5.0",
            "_view_name": "HBoxView",
            "box_style": "",
            "children": [
              "IPY_MODEL_fae5cd60b63a4ec7aec71f0388016735",
              "IPY_MODEL_5b2eaddcf2f649a0a93e7280bc47f699",
              "IPY_MODEL_6b9690b46ac743ba888df8e1fa83c4e1"
            ],
            "layout": "IPY_MODEL_a5912136366e433599b9c62b8a023d5d"
          }
        },
        "6a829318434d4132897bab9c5fb6c7a2": {
          "model_module": "@jupyter-widgets/controls",
          "model_module_version": "1.5.0",
          "model_name": "ProgressStyleModel",
          "state": {
            "_model_module": "@jupyter-widgets/controls",
            "_model_module_version": "1.5.0",
            "_model_name": "ProgressStyleModel",
            "_view_count": null,
            "_view_module": "@jupyter-widgets/base",
            "_view_module_version": "1.2.0",
            "_view_name": "StyleView",
            "bar_color": null,
            "description_width": ""
          }
        },
        "6b9690b46ac743ba888df8e1fa83c4e1": {
          "model_module": "@jupyter-widgets/controls",
          "model_module_version": "1.5.0",
          "model_name": "HTMLModel",
          "state": {
            "_dom_classes": [],
            "_model_module": "@jupyter-widgets/controls",
            "_model_module_version": "1.5.0",
            "_model_name": "HTMLModel",
            "_view_count": null,
            "_view_module": "@jupyter-widgets/controls",
            "_view_module_version": "1.5.0",
            "_view_name": "HTMLView",
            "description": "",
            "description_tooltip": null,
            "layout": "IPY_MODEL_fc2f762efe7445e981a284293ccfa054",
            "placeholder": "​",
            "style": "IPY_MODEL_77841cadfb5142569ef70b58555e212c",
            "value": " 433k/? [00:00&lt;00:00, 15.8MB/s]"
          }
        },
        "6f78edac4ea54740bc51987f22a66a29": {
          "model_module": "@jupyter-widgets/base",
          "model_module_version": "1.2.0",
          "model_name": "LayoutModel",
          "state": {
            "_model_module": "@jupyter-widgets/base",
            "_model_module_version": "1.2.0",
            "_model_name": "LayoutModel",
            "_view_count": null,
            "_view_module": "@jupyter-widgets/base",
            "_view_module_version": "1.2.0",
            "_view_name": "LayoutView",
            "align_content": null,
            "align_items": null,
            "align_self": null,
            "border": null,
            "bottom": null,
            "display": null,
            "flex": null,
            "flex_flow": null,
            "grid_area": null,
            "grid_auto_columns": null,
            "grid_auto_flow": null,
            "grid_auto_rows": null,
            "grid_column": null,
            "grid_gap": null,
            "grid_row": null,
            "grid_template_areas": null,
            "grid_template_columns": null,
            "grid_template_rows": null,
            "height": null,
            "justify_content": null,
            "justify_items": null,
            "left": null,
            "margin": null,
            "max_height": null,
            "max_width": null,
            "min_height": null,
            "min_width": null,
            "object_fit": null,
            "object_position": null,
            "order": null,
            "overflow": null,
            "overflow_x": null,
            "overflow_y": null,
            "padding": null,
            "right": null,
            "top": null,
            "visibility": null,
            "width": null
          }
        },
        "77841cadfb5142569ef70b58555e212c": {
          "model_module": "@jupyter-widgets/controls",
          "model_module_version": "1.5.0",
          "model_name": "DescriptionStyleModel",
          "state": {
            "_model_module": "@jupyter-widgets/controls",
            "_model_module_version": "1.5.0",
            "_model_name": "DescriptionStyleModel",
            "_view_count": null,
            "_view_module": "@jupyter-widgets/base",
            "_view_module_version": "1.2.0",
            "_view_name": "StyleView",
            "description_width": ""
          }
        },
        "7dac1bd9c15b4534bd4cd62bd89fa407": {
          "model_module": "@jupyter-widgets/controls",
          "model_module_version": "1.5.0",
          "model_name": "HBoxModel",
          "state": {
            "_dom_classes": [],
            "_model_module": "@jupyter-widgets/controls",
            "_model_module_version": "1.5.0",
            "_model_name": "HBoxModel",
            "_view_count": null,
            "_view_module": "@jupyter-widgets/controls",
            "_view_module_version": "1.5.0",
            "_view_name": "HBoxView",
            "box_style": "",
            "children": [
              "IPY_MODEL_3973ee16a34d4e2289a904764dd9f089",
              "IPY_MODEL_36ce3a11aebc4b6288077e8c9d79672e",
              "IPY_MODEL_14c32dac333f42439486057899f74114"
            ],
            "layout": "IPY_MODEL_a988cae5fb784d1fa81d4f4217fff107"
          }
        },
        "8f26b2f5cb5449bcbae136fa5cafbe8c": {
          "model_module": "@jupyter-widgets/controls",
          "model_module_version": "1.5.0",
          "model_name": "HTMLModel",
          "state": {
            "_dom_classes": [],
            "_model_module": "@jupyter-widgets/controls",
            "_model_module_version": "1.5.0",
            "_model_name": "HTMLModel",
            "_view_count": null,
            "_view_module": "@jupyter-widgets/controls",
            "_view_module_version": "1.5.0",
            "_view_name": "HTMLView",
            "description": "",
            "description_tooltip": null,
            "layout": "IPY_MODEL_d69b5f7dd7484ac29bc454af1660fa13",
            "placeholder": "​",
            "style": "IPY_MODEL_18b3b20e00c94f3cbbf3fc77359a8511",
            "value": " 433k/? [00:00&lt;00:00, 20.1MB/s]"
          }
        },
        "956ed04745cf43ffa8a08f8a0737338f": {
          "model_module": "@jupyter-widgets/controls",
          "model_module_version": "1.5.0",
          "model_name": "DescriptionStyleModel",
          "state": {
            "_model_module": "@jupyter-widgets/controls",
            "_model_module_version": "1.5.0",
            "_model_name": "DescriptionStyleModel",
            "_view_count": null,
            "_view_module": "@jupyter-widgets/base",
            "_view_module_version": "1.2.0",
            "_view_name": "StyleView",
            "description_width": ""
          }
        },
        "a5912136366e433599b9c62b8a023d5d": {
          "model_module": "@jupyter-widgets/base",
          "model_module_version": "1.2.0",
          "model_name": "LayoutModel",
          "state": {
            "_model_module": "@jupyter-widgets/base",
            "_model_module_version": "1.2.0",
            "_model_name": "LayoutModel",
            "_view_count": null,
            "_view_module": "@jupyter-widgets/base",
            "_view_module_version": "1.2.0",
            "_view_name": "LayoutView",
            "align_content": null,
            "align_items": null,
            "align_self": null,
            "border": null,
            "bottom": null,
            "display": null,
            "flex": null,
            "flex_flow": null,
            "grid_area": null,
            "grid_auto_columns": null,
            "grid_auto_flow": null,
            "grid_auto_rows": null,
            "grid_column": null,
            "grid_gap": null,
            "grid_row": null,
            "grid_template_areas": null,
            "grid_template_columns": null,
            "grid_template_rows": null,
            "height": null,
            "justify_content": null,
            "justify_items": null,
            "left": null,
            "margin": null,
            "max_height": null,
            "max_width": null,
            "min_height": null,
            "min_width": null,
            "object_fit": null,
            "object_position": null,
            "order": null,
            "overflow": null,
            "overflow_x": null,
            "overflow_y": null,
            "padding": null,
            "right": null,
            "top": null,
            "visibility": null,
            "width": null
          }
        },
        "a988cae5fb784d1fa81d4f4217fff107": {
          "model_module": "@jupyter-widgets/base",
          "model_module_version": "1.2.0",
          "model_name": "LayoutModel",
          "state": {
            "_model_module": "@jupyter-widgets/base",
            "_model_module_version": "1.2.0",
            "_model_name": "LayoutModel",
            "_view_count": null,
            "_view_module": "@jupyter-widgets/base",
            "_view_module_version": "1.2.0",
            "_view_name": "LayoutView",
            "align_content": null,
            "align_items": null,
            "align_self": null,
            "border": null,
            "bottom": null,
            "display": null,
            "flex": null,
            "flex_flow": null,
            "grid_area": null,
            "grid_auto_columns": null,
            "grid_auto_flow": null,
            "grid_auto_rows": null,
            "grid_column": null,
            "grid_gap": null,
            "grid_row": null,
            "grid_template_areas": null,
            "grid_template_columns": null,
            "grid_template_rows": null,
            "height": null,
            "justify_content": null,
            "justify_items": null,
            "left": null,
            "margin": null,
            "max_height": null,
            "max_width": null,
            "min_height": null,
            "min_width": null,
            "object_fit": null,
            "object_position": null,
            "order": null,
            "overflow": null,
            "overflow_x": null,
            "overflow_y": null,
            "padding": null,
            "right": null,
            "top": null,
            "visibility": null,
            "width": null
          }
        },
        "acf3edfb44d24f5da732aea17a4f29e0": {
          "model_module": "@jupyter-widgets/controls",
          "model_module_version": "1.5.0",
          "model_name": "HBoxModel",
          "state": {
            "_dom_classes": [],
            "_model_module": "@jupyter-widgets/controls",
            "_model_module_version": "1.5.0",
            "_model_name": "HBoxModel",
            "_view_count": null,
            "_view_module": "@jupyter-widgets/controls",
            "_view_module_version": "1.5.0",
            "_view_name": "HBoxView",
            "box_style": "",
            "children": [
              "IPY_MODEL_0d81036d752c4c00b9a4e9d058f88497",
              "IPY_MODEL_d5878b86e0e84f4a80f27b4c128917ac",
              "IPY_MODEL_8f26b2f5cb5449bcbae136fa5cafbe8c"
            ],
            "layout": "IPY_MODEL_bc4484fe7e1c404390eaa240ad5af2b7"
          }
        },
        "bc4484fe7e1c404390eaa240ad5af2b7": {
          "model_module": "@jupyter-widgets/base",
          "model_module_version": "1.2.0",
          "model_name": "LayoutModel",
          "state": {
            "_model_module": "@jupyter-widgets/base",
            "_model_module_version": "1.2.0",
            "_model_name": "LayoutModel",
            "_view_count": null,
            "_view_module": "@jupyter-widgets/base",
            "_view_module_version": "1.2.0",
            "_view_name": "LayoutView",
            "align_content": null,
            "align_items": null,
            "align_self": null,
            "border": null,
            "bottom": null,
            "display": null,
            "flex": null,
            "flex_flow": null,
            "grid_area": null,
            "grid_auto_columns": null,
            "grid_auto_flow": null,
            "grid_auto_rows": null,
            "grid_column": null,
            "grid_gap": null,
            "grid_row": null,
            "grid_template_areas": null,
            "grid_template_columns": null,
            "grid_template_rows": null,
            "height": null,
            "justify_content": null,
            "justify_items": null,
            "left": null,
            "margin": null,
            "max_height": null,
            "max_width": null,
            "min_height": null,
            "min_width": null,
            "object_fit": null,
            "object_position": null,
            "order": null,
            "overflow": null,
            "overflow_x": null,
            "overflow_y": null,
            "padding": null,
            "right": null,
            "top": null,
            "visibility": null,
            "width": null
          }
        },
        "bd1e75903e004fe98d33f30b2bb47764": {
          "model_module": "@jupyter-widgets/controls",
          "model_module_version": "1.5.0",
          "model_name": "DescriptionStyleModel",
          "state": {
            "_model_module": "@jupyter-widgets/controls",
            "_model_module_version": "1.5.0",
            "_model_name": "DescriptionStyleModel",
            "_view_count": null,
            "_view_module": "@jupyter-widgets/base",
            "_view_module_version": "1.2.0",
            "_view_name": "StyleView",
            "description_width": ""
          }
        },
        "d2eb94613de846bd89230a9ff96cfe2a": {
          "model_module": "@jupyter-widgets/base",
          "model_module_version": "1.2.0",
          "model_name": "LayoutModel",
          "state": {
            "_model_module": "@jupyter-widgets/base",
            "_model_module_version": "1.2.0",
            "_model_name": "LayoutModel",
            "_view_count": null,
            "_view_module": "@jupyter-widgets/base",
            "_view_module_version": "1.2.0",
            "_view_name": "LayoutView",
            "align_content": null,
            "align_items": null,
            "align_self": null,
            "border": null,
            "bottom": null,
            "display": null,
            "flex": null,
            "flex_flow": null,
            "grid_area": null,
            "grid_auto_columns": null,
            "grid_auto_flow": null,
            "grid_auto_rows": null,
            "grid_column": null,
            "grid_gap": null,
            "grid_row": null,
            "grid_template_areas": null,
            "grid_template_columns": null,
            "grid_template_rows": null,
            "height": null,
            "justify_content": null,
            "justify_items": null,
            "left": null,
            "margin": null,
            "max_height": null,
            "max_width": null,
            "min_height": null,
            "min_width": null,
            "object_fit": null,
            "object_position": null,
            "order": null,
            "overflow": null,
            "overflow_x": null,
            "overflow_y": null,
            "padding": null,
            "right": null,
            "top": null,
            "visibility": null,
            "width": null
          }
        },
        "d5878b86e0e84f4a80f27b4c128917ac": {
          "model_module": "@jupyter-widgets/controls",
          "model_module_version": "1.5.0",
          "model_name": "FloatProgressModel",
          "state": {
            "_dom_classes": [],
            "_model_module": "@jupyter-widgets/controls",
            "_model_module_version": "1.5.0",
            "_model_name": "FloatProgressModel",
            "_view_count": null,
            "_view_module": "@jupyter-widgets/controls",
            "_view_module_version": "1.5.0",
            "_view_name": "ProgressView",
            "bar_style": "success",
            "description": "",
            "description_tooltip": null,
            "layout": "IPY_MODEL_d2eb94613de846bd89230a9ff96cfe2a",
            "max": 53539,
            "min": 0,
            "orientation": "horizontal",
            "style": "IPY_MODEL_28f2410bf4f347d691020cada3001a76",
            "value": 53539
          }
        },
        "d69b5f7dd7484ac29bc454af1660fa13": {
          "model_module": "@jupyter-widgets/base",
          "model_module_version": "1.2.0",
          "model_name": "LayoutModel",
          "state": {
            "_model_module": "@jupyter-widgets/base",
            "_model_module_version": "1.2.0",
            "_model_name": "LayoutModel",
            "_view_count": null,
            "_view_module": "@jupyter-widgets/base",
            "_view_module_version": "1.2.0",
            "_view_name": "LayoutView",
            "align_content": null,
            "align_items": null,
            "align_self": null,
            "border": null,
            "bottom": null,
            "display": null,
            "flex": null,
            "flex_flow": null,
            "grid_area": null,
            "grid_auto_columns": null,
            "grid_auto_flow": null,
            "grid_auto_rows": null,
            "grid_column": null,
            "grid_gap": null,
            "grid_row": null,
            "grid_template_areas": null,
            "grid_template_columns": null,
            "grid_template_rows": null,
            "height": null,
            "justify_content": null,
            "justify_items": null,
            "left": null,
            "margin": null,
            "max_height": null,
            "max_width": null,
            "min_height": null,
            "min_width": null,
            "object_fit": null,
            "object_position": null,
            "order": null,
            "overflow": null,
            "overflow_x": null,
            "overflow_y": null,
            "padding": null,
            "right": null,
            "top": null,
            "visibility": null,
            "width": null
          }
        },
        "dd77050fb1d049e7bf458a81cd4d609b": {
          "model_module": "@jupyter-widgets/controls",
          "model_module_version": "1.5.0",
          "model_name": "DescriptionStyleModel",
          "state": {
            "_model_module": "@jupyter-widgets/controls",
            "_model_module_version": "1.5.0",
            "_model_name": "DescriptionStyleModel",
            "_view_count": null,
            "_view_module": "@jupyter-widgets/base",
            "_view_module_version": "1.2.0",
            "_view_name": "StyleView",
            "description_width": ""
          }
        },
        "fae5cd60b63a4ec7aec71f0388016735": {
          "model_module": "@jupyter-widgets/controls",
          "model_module_version": "1.5.0",
          "model_name": "HTMLModel",
          "state": {
            "_dom_classes": [],
            "_model_module": "@jupyter-widgets/controls",
            "_model_module_version": "1.5.0",
            "_model_name": "HTMLModel",
            "_view_count": null,
            "_view_module": "@jupyter-widgets/controls",
            "_view_module_version": "1.5.0",
            "_view_name": "HTMLView",
            "description": "",
            "description_tooltip": null,
            "layout": "IPY_MODEL_6f78edac4ea54740bc51987f22a66a29",
            "placeholder": "​",
            "style": "IPY_MODEL_bd1e75903e004fe98d33f30b2bb47764",
            "value": "Downloading https://raw.githubusercontent.com/stanfordnlp/stanza-resources/main/resources_1.10.0.json: "
          }
        },
        "fc2f762efe7445e981a284293ccfa054": {
          "model_module": "@jupyter-widgets/base",
          "model_module_version": "1.2.0",
          "model_name": "LayoutModel",
          "state": {
            "_model_module": "@jupyter-widgets/base",
            "_model_module_version": "1.2.0",
            "_model_name": "LayoutModel",
            "_view_count": null,
            "_view_module": "@jupyter-widgets/base",
            "_view_module_version": "1.2.0",
            "_view_name": "LayoutView",
            "align_content": null,
            "align_items": null,
            "align_self": null,
            "border": null,
            "bottom": null,
            "display": null,
            "flex": null,
            "flex_flow": null,
            "grid_area": null,
            "grid_auto_columns": null,
            "grid_auto_flow": null,
            "grid_auto_rows": null,
            "grid_column": null,
            "grid_gap": null,
            "grid_row": null,
            "grid_template_areas": null,
            "grid_template_columns": null,
            "grid_template_rows": null,
            "height": null,
            "justify_content": null,
            "justify_items": null,
            "left": null,
            "margin": null,
            "max_height": null,
            "max_width": null,
            "min_height": null,
            "min_width": null,
            "object_fit": null,
            "object_position": null,
            "order": null,
            "overflow": null,
            "overflow_x": null,
            "overflow_y": null,
            "padding": null,
            "right": null,
            "top": null,
            "visibility": null,
            "width": null
          }
        }
      }
    }
  },
  "nbformat": 4,
  "nbformat_minor": 0
}
